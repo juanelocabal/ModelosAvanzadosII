{
 "cells": [
  {
   "cell_type": "markdown",
   "metadata": {},
   "source": [
    "## MIIA-4203 MODELOS AVANZADOS PARA ANÁLISIS DE DATOS II\n",
    "\n",
    "\n",
    "# Red neuronal recurrente: LSTM bidireccional\n",
    "\n",
    "## Actividad 8\n",
    "\n",
    "### Profesor: Camilo Franco (c.franco31@uniandes.edu.co)\n",
    "\n",
    "## Actividad en grupos\n",
    "### Nombres: \n",
    "Lupe Pinzón, Camilo Angarita, Juan Andrés Cabal\n",
    "\n",
    "**Instrucciones:** Por favor escriba los nombres de los integrantes de su grupo. Esta actividad debe ser entregada a más tardar dentro de 8 días, con la respuesta para los ejercicios y preguntas en cada numeral.\n",
    "\n",
    "En este cuaderno vamos a implementar una red recurrente bi-direccional para la prediccion del sentimiento asociado con un comentario linguistico. Los comentarios con los que vamos a trabajar corresponden con opiniones sobre peliculas (https://ai.stanford.edu/~amaas/data/sentiment/)\n",
    "\n",
    "Finalmente tenemos un ejercicio donde podremos explorar distintos modelos de redes recurrentes (https://en.wikipedia.org/wiki/Recurrent_neural_network)\n",
    "\n",
    "Primero importemos las bibliotecas y paquetes que vamos a utilizar:"
   ]
  },
  {
   "cell_type": "code",
   "execution_count": 1,
   "metadata": {},
   "outputs": [],
   "source": [
    "import numpy as np\n",
    "import keras\n",
    "from keras import layers\n",
    "from keras.models import load_model, Sequential\n",
    "\n",
    "import h5py\n",
    "import matplotlib.pyplot as plt\n",
    "from prettytable import PrettyTable\n",
    "\n",
    "from sklearn.model_selection import train_test_split\n",
    "from sklearn.metrics import confusion_matrix \n"
   ]
  },
  {
   "cell_type": "markdown",
   "metadata": {},
   "source": [
    "También definimos algunos parámetros para nuestra implementación, uno donde definimos el número máximo de términos a considerar (de todo nuestro vocabulario) y otro donde definimos la longitud máxima para un comentario:"
   ]
  },
  {
   "cell_type": "code",
   "execution_count": 2,
   "metadata": {},
   "outputs": [],
   "source": [
    "max_features = 20000  # Considera las 20000 palabras más populares\n",
    "maxlen = 200  # Considera las primeras 200 palabras de cada comentario"
   ]
  },
  {
   "cell_type": "markdown",
   "metadata": {},
   "source": [
    "Importemos los datos:"
   ]
  },
  {
   "cell_type": "code",
   "execution_count": 3,
   "metadata": {},
   "outputs": [
    {
     "name": "stdout",
     "output_type": "stream",
     "text": [
      "25000 secuencias de entrenamiento\n",
      "25000 secuencias de validación\n"
     ]
    }
   ],
   "source": [
    "(x_train, y_train), (x_val, y_val) = keras.datasets.imdb.load_data(num_words=max_features)\n",
    "\n",
    "print(len(x_train), \"secuencias de entrenamiento\")\n",
    "print(len(x_val), \"secuencias de validación\")\n",
    "\n",
    "x_train = keras.preprocessing.sequence.pad_sequences(x_train, maxlen=maxlen)\n",
    "x_val = keras.preprocessing.sequence.pad_sequences(x_val, maxlen=maxlen)"
   ]
  },
  {
   "cell_type": "markdown",
   "metadata": {},
   "source": [
    "**Salida esperada:**\n",
    "\n",
    "25000 secuencias de entrenamiento\n",
    "\n",
    "25000 secuencias de validación"
   ]
  },
  {
   "cell_type": "markdown",
   "metadata": {},
   "source": [
    "Veamos en qué consiste la priemra observación de entrenamiento:"
   ]
  },
  {
   "cell_type": "code",
   "execution_count": 4,
   "metadata": {},
   "outputs": [
    {
     "data": {
      "text/plain": [
       "array([    5,    25,   100,    43,   838,   112,    50,   670,     2,\n",
       "           9,    35,   480,   284,     5,   150,     4,   172,   112,\n",
       "         167,     2,   336,   385,    39,     4,   172,  4536,  1111,\n",
       "          17,   546,    38,    13,   447,     4,   192,    50,    16,\n",
       "           6,   147,  2025,    19,    14,    22,     4,  1920,  4613,\n",
       "         469,     4,    22,    71,    87,    12,    16,    43,   530,\n",
       "          38,    76,    15,    13,  1247,     4,    22,    17,   515,\n",
       "          17,    12,    16,   626,    18, 19193,     5,    62,   386,\n",
       "          12,     8,   316,     8,   106,     5,     4,  2223,  5244,\n",
       "          16,   480,    66,  3785,    33,     4,   130,    12,    16,\n",
       "          38,   619,     5,    25,   124,    51,    36,   135,    48,\n",
       "          25,  1415,    33,     6,    22,    12,   215,    28,    77,\n",
       "          52,     5,    14,   407,    16,    82, 10311,     8,     4,\n",
       "         107,   117,  5952,    15,   256,     4,     2,     7,  3766,\n",
       "           5,   723,    36,    71,    43,   530,   476,    26,   400,\n",
       "         317,    46,     7,     4, 12118,  1029,    13,   104,    88,\n",
       "           4,   381,    15,   297,    98,    32,  2071,    56,    26,\n",
       "         141,     6,   194,  7486,    18,     4,   226,    22,    21,\n",
       "         134,   476,    26,   480,     5,   144,    30,  5535,    18,\n",
       "          51,    36,    28,   224,    92,    25,   104,     4,   226,\n",
       "          65,    16,    38,  1334,    88,    12,    16,   283,     5,\n",
       "          16,  4472,   113,   103,    32,    15,    16,  5345,    19,\n",
       "         178,    32])"
      ]
     },
     "execution_count": 4,
     "metadata": {},
     "output_type": "execute_result"
    }
   ],
   "source": [
    "x_train[0]"
   ]
  },
  {
   "cell_type": "markdown",
   "metadata": {},
   "source": [
    "Podemos reconstruir cada comentario de acuerdo con el índice de cada término:"
   ]
  },
  {
   "cell_type": "code",
   "execution_count": 5,
   "metadata": {},
   "outputs": [],
   "source": [
    "L = keras.datasets.imdb.get_word_index(path=\"imdb_word_index.json\")\n",
    "\n",
    "L = {k:(v+3) for k,v in L.items()}\n",
    "L[\"<PAD>\"] = 0\n",
    "L[\"<START>\"] = 1\n",
    "L[\"<UNK>\"] = 2\n",
    "L[\"<UNUSED>\"] = 3\n",
    "\n",
    "L_palabra = {value:key for key,value in L.items()}"
   ]
  },
  {
   "cell_type": "markdown",
   "metadata": {},
   "source": [
    "Veamos el primer comentario de entrenamiento que es positivo:"
   ]
  },
  {
   "cell_type": "code",
   "execution_count": 6,
   "metadata": {},
   "outputs": [
    {
     "name": "stdout",
     "output_type": "stream",
     "text": [
      "El comentario:  and you could just imagine being there robert <UNK> is an amazing actor and now the same being director <UNK> father came from the same scottish island as myself so i loved the fact there was a real connection with this film the witty remarks throughout the film were great it was just brilliant so much that i bought the film as soon as it was released for retail and would recommend it to everyone to watch and the fly fishing was amazing really cried at the end it was so sad and you know what they say if you cry at a film it must have been good and this definitely was also congratulations to the two little boy's that played the <UNK> of norman and paul they were just brilliant children are often left out of the praising list i think because the stars that play them all grown up are such a big profile for the whole film but these children are amazing and should be praised for what they have done don't you think the whole story was so lovely because it was true and was someone's life after all that was shared with us all\n",
      "Tiene un sentimiento asociado:  1\n"
     ]
    }
   ],
   "source": [
    "print(\"El comentario: \", ' '.join(L_palabra[id] for id in x_train[0] ))\n",
    "print(\"Tiene un sentimiento asociado: \", y_train[0])"
   ]
  },
  {
   "cell_type": "markdown",
   "metadata": {},
   "source": [
    "O un comentario negativo:"
   ]
  },
  {
   "cell_type": "code",
   "execution_count": 7,
   "metadata": {},
   "outputs": [
    {
     "name": "stdout",
     "output_type": "stream",
     "text": [
      "El comentario:  <PAD> <PAD> <PAD> <PAD> <PAD> <PAD> <PAD> <PAD> <PAD> <PAD> <PAD> <START> big hair big boobs bad music and a giant safety pin these are the words to best describe this terrible movie i love cheesy horror movies and i've seen hundreds but this had got to be on of the worst ever made the plot is paper thin and ridiculous the acting is an abomination the script is completely laughable the best is the end showdown with the cop and how he worked out who the killer is it's just so damn terribly written the clothes are sickening and funny in equal measures the hair is big lots of boobs bounce men wear those cut tee shirts that show off their <UNK> sickening that men actually wore them and the music is just <UNK> trash that plays over and over again in almost every scene there is trashy music boobs and <UNK> taking away bodies and the gym still doesn't close for <UNK> all joking aside this is a truly bad film whose only charm is to look back on the disaster that was the 80's and have a good old laugh at how bad everything was back then\n",
      "Tiene un sentimiento asociado:  0\n"
     ]
    }
   ],
   "source": [
    "print(\"El comentario: \", ' '.join(L_palabra[id] for id in x_train[1] ))\n",
    "print(\"Tiene un sentimiento asociado: \", y_train[1])"
   ]
  },
  {
   "cell_type": "markdown",
   "metadata": {},
   "source": [
    "## 1. Red recurrente bi-direccional"
   ]
  },
  {
   "cell_type": "markdown",
   "metadata": {},
   "source": [
    "A continuación definimos la arquitectura de la red:"
   ]
  },
  {
   "cell_type": "code",
   "execution_count": 8,
   "metadata": {},
   "outputs": [
    {
     "name": "stdout",
     "output_type": "stream",
     "text": [
      "Model: \"functional_1\"\n",
      "_________________________________________________________________\n",
      "Layer (type)                 Output Shape              Param #   \n",
      "=================================================================\n",
      "input_1 (InputLayer)         [(None, None)]            0         \n",
      "_________________________________________________________________\n",
      "embedding (Embedding)        (None, None, 128)         2560000   \n",
      "_________________________________________________________________\n",
      "bidirectional (Bidirectional (None, None, 128)         98816     \n",
      "_________________________________________________________________\n",
      "bidirectional_1 (Bidirection (None, 128)               98816     \n",
      "_________________________________________________________________\n",
      "dense (Dense)                (None, 1)                 129       \n",
      "=================================================================\n",
      "Total params: 2,757,761\n",
      "Trainable params: 2,757,761\n",
      "Non-trainable params: 0\n",
      "_________________________________________________________________\n"
     ]
    }
   ],
   "source": [
    "# Input con secuencias de enteros con longitud variable\n",
    "inputs = keras.Input(shape=(None,), dtype=\"int32\")\n",
    "\n",
    "# Conseguimos la representación vectorial (embedding) de cada entero en un vector 128-dimensional\n",
    "x = layers.Embedding(max_features, 128)(inputs)\n",
    "\n",
    "# Añadimos 2 unidades LSTM bidireccionales\n",
    "x = layers.Bidirectional(layers.LSTM(64, return_sequences=True))(x)\n",
    "x = layers.Bidirectional(layers.LSTM(64))(x)\n",
    "\n",
    "# Añadimos un clasificador binario en la salida\n",
    "outputs = layers.Dense(1, activation=\"sigmoid\")(x)\n",
    "\n",
    "# Gaurdamos la arquitectura del modelo\n",
    "model1 = keras.Model(inputs, outputs)\n",
    "model1.summary()"
   ]
  },
  {
   "cell_type": "code",
   "execution_count": 9,
   "metadata": {},
   "outputs": [
    {
     "name": "stdout",
     "output_type": "stream",
     "text": [
      "Epoch 1/3\n",
      "391/391 [==============================] - 184s 471ms/step - loss: 0.5528 - accuracy: 0.7212 - val_loss: 0.4916 - val_accuracy: 0.7681\n",
      "Epoch 2/3\n",
      "391/391 [==============================] - 175s 447ms/step - loss: 0.3480 - accuracy: 0.8494 - val_loss: 0.4384 - val_accuracy: 0.8236\n",
      "Epoch 3/3\n",
      "391/391 [==============================] - 173s 443ms/step - loss: 0.2478 - accuracy: 0.9052 - val_loss: 0.4327 - val_accuracy: 0.8235\n",
      "Desempeño (exactitud): accu_v1=0.8235200047492981 , accu_v2=0.8149999976158142\n",
      "Epoch 1/3\n",
      "391/391 [==============================] - 172s 440ms/step - loss: 0.2678 - accuracy: 0.8946 - val_loss: 0.2451 - val_accuracy: 0.9018\n",
      "Epoch 2/3\n",
      "391/391 [==============================] - 149s 380ms/step - loss: 0.1607 - accuracy: 0.9454 - val_loss: 0.2646 - val_accuracy: 0.9053\n",
      "Epoch 3/3\n",
      "391/391 [==============================] - 103s 264ms/step - loss: 0.1056 - accuracy: 0.9657 - val_loss: 0.3368 - val_accuracy: 0.8835\n",
      "Desempeño (exactitud): accu_v1=0.8835200071334839 , accu_v2=0.8458799719810486\n",
      "Epoch 1/3\n",
      "391/391 [==============================] - 145s 371ms/step - loss: 0.1795 - accuracy: 0.9362 - val_loss: 0.1736 - val_accuracy: 0.9362\n",
      "Epoch 2/3\n",
      "391/391 [==============================] - 139s 356ms/step - loss: 0.1165 - accuracy: 0.9615 - val_loss: 0.1966 - val_accuracy: 0.9281\n",
      "Epoch 3/3\n",
      "391/391 [==============================] - 131s 334ms/step - loss: 0.0761 - accuracy: 0.9762 - val_loss: 0.2265 - val_accuracy: 0.9218\n",
      "Desempeño (exactitud): accu_v1=0.9218400120735168 , accu_v2=0.8449199795722961\n",
      "+--------+--------+--------+\n",
      "| Exac_E | Exac_V | Exac_P |\n",
      "+--------+--------+--------+\n",
      "| 0.9369 | 0.8235 | 0.815  |\n",
      "| 0.9701 | 0.8835 | 0.8459 |\n",
      "| 0.9882 | 0.9218 | 0.8449 |\n",
      "+--------+--------+--------+\n"
     ]
    }
   ],
   "source": [
    "# Inicializamos la tabla donde guardamos los resultados\n",
    "x = PrettyTable([\"Exac_E\", \"Exac_V\", \"Exac_P\"])\n",
    "\n",
    "# Definimos el número máximo de iteraciones (épocas de la red)\n",
    "epocas=3\n",
    "\n",
    "# Definimos los parametros del Adam\n",
    "adam = keras.optimizers.Adam(lr=0.001, beta_1=0.9, beta_2=0.999)\n",
    "\n",
    "# Inicializamos el error \n",
    "err_p = 999\n",
    "\n",
    "for i in range(0,3,1):\n",
    "    r = i^3\n",
    "    CE_x, CV_x, CE_y, CV_y = train_test_split(x_train, y_train, test_size = 0.5, random_state = r)\n",
    "          \n",
    "    # Definimos el método de optimización con respecto a su funcion de perdida (además guardamos la exactitud para cada iteracion)\n",
    "    model = keras.Model(inputs, outputs)\n",
    "    model.compile(loss='binary_crossentropy', optimizer=adam, metrics=['accuracy'])\n",
    "    \n",
    "    # Ajustamos el modelo\n",
    "    history=model.fit(x=CE_x, y=CE_y, epochs=epocas, validation_data=(CV_x, CV_y), verbose=1, shuffle=False)\n",
    "      \n",
    "    # Calculamos las metricas\n",
    "    train_metrics = model.evaluate(x=CE_x, y=CE_y, verbose=0)\n",
    "    valid_metrics = model.evaluate(x=CV_x, y=CV_y, verbose=0)\n",
    "    test_metrics = model.evaluate(x=x_val, y=y_val, verbose=0)\n",
    "    \n",
    "    # Guardamos las métricas de desempeño\n",
    "    accu_e = train_metrics[1]\n",
    "    loss_e = train_metrics[0]\n",
    "    accu_v = valid_metrics[1]\n",
    "    loss_v = valid_metrics[0]\n",
    "    accu_p = test_metrics[1]\n",
    "    loss_p = test_metrics[0]\n",
    "    \n",
    "    if (loss_p < err_p):\n",
    "        pathr =('BRNN_part='+str(r)+'.h5')\n",
    "        model.save(pathr) \n",
    "        err_p = loss_p\n",
    "    \n",
    "    # Imprimimos el desempeño para cada repetición\n",
    "    print('Desempeño (exactitud): accu_v1='+str(accu_v) +' , accu_v2='+str(accu_p))\n",
    "    \n",
    "    x.add_row([np.round(accu_e,4), np.round(accu_v,4), np.round(accu_p,4)])\n",
    "\n",
    "print(x)\n"
   ]
  },
  {
   "cell_type": "code",
   "execution_count": 10,
   "metadata": {},
   "outputs": [
    {
     "data": {
      "image/png": "[encoded data removed]",
      "text/plain": [
       "<Figure size 432x288 with 1 Axes>"
      ]
     },
     "metadata": {
      "needs_background": "light"
     },
     "output_type": "display_data"
    },
    {
     "data": {
      "image/png": "[encoded data removed]",
      "text/plain": [
       "<Figure size 432x288 with 1 Axes>"
      ]
     },
     "metadata": {
      "needs_background": "light"
     },
     "output_type": "display_data"
    }
   ],
   "source": [
    "plt.figure(1)\n",
    "plt.plot(history.history['accuracy'])  \n",
    "plt.plot(history.history['val_accuracy'])  \n",
    "plt.title('Exactitud')  \n",
    "plt.ylabel('Acc')  \n",
    "plt.xlabel('Epoca')  \n",
    "plt.legend(['Entreno', 'Validacion'], loc='lower right')\n",
    "plt.show()\n",
    "\n",
    "plt.figure(1) \n",
    "plt.plot(history.history['loss'])  \n",
    "plt.plot(history.history['val_loss'])  \n",
    "plt.title('Pérdida')  \n",
    "plt.ylabel('Pérdida')  \n",
    "plt.xlabel('Epoca')  \n",
    "plt.legend(['Entreno', 'Validación'], loc='upper right')  \n",
    "plt.show()"
   ]
  },
  {
   "cell_type": "markdown",
   "metadata": {},
   "source": [
    "Recuperamos el mejor modelo:"
   ]
  },
  {
   "cell_type": "code",
   "execution_count": 11,
   "metadata": {},
   "outputs": [
    {
     "name": "stdout",
     "output_type": "stream",
     "text": [
      "Model: \"functional_3\"\n",
      "_________________________________________________________________\n",
      "Layer (type)                 Output Shape              Param #   \n",
      "=================================================================\n",
      "input_1 (InputLayer)         [(None, None)]            0         \n",
      "_________________________________________________________________\n",
      "embedding (Embedding)        (None, None, 128)         2560000   \n",
      "_________________________________________________________________\n",
      "bidirectional (Bidirectional (None, None, 128)         98816     \n",
      "_________________________________________________________________\n",
      "bidirectional_1 (Bidirection (None, 128)               98816     \n",
      "_________________________________________________________________\n",
      "dense (Dense)                (None, 1)                 129       \n",
      "=================================================================\n",
      "Total params: 2,757,761\n",
      "Trainable params: 2,757,761\n",
      "Non-trainable params: 0\n",
      "_________________________________________________________________\n"
     ]
    }
   ],
   "source": [
    "# B-RNN LSTM\n",
    "model_brnn = load_model('BRNN_part=3.h5')\n",
    "\n",
    "model_brnn.summary()"
   ]
  },
  {
   "cell_type": "markdown",
   "metadata": {},
   "source": [
    "Replicamos los resultados obtenidos anteriormente:"
   ]
  },
  {
   "cell_type": "code",
   "execution_count": 12,
   "metadata": {},
   "outputs": [
    {
     "name": "stdout",
     "output_type": "stream",
     "text": [
      "[[10473  2027]\n",
      " [  968 11532]]\n",
      "Exactitud:  0.8802000284194946\n"
     ]
    }
   ],
   "source": [
    "Y_predt = model_brnn.predict(x_train)\n",
    "Y_predst = (Y_predt > 0.5)\n",
    "\n",
    "print(confusion_matrix(y_train, Y_predst))\n",
    "print(\"Exactitud: \", model_brnn.evaluate(x=x_train, y=y_train, verbose=0)[1])"
   ]
  },
  {
   "cell_type": "markdown",
   "metadata": {},
   "source": [
    "Reportamos el desempeño del modelo con los datos de prueba (fuera de la muestra):"
   ]
  },
  {
   "cell_type": "code",
   "execution_count": 13,
   "metadata": {},
   "outputs": [
    {
     "name": "stdout",
     "output_type": "stream",
     "text": [
      "[[ 9593  2907]\n",
      " [ 1718 10782]]\n",
      "Exactitud:  0.8149999976158142\n"
     ]
    }
   ],
   "source": [
    "Y_predv = model_brnn.predict(x_val)\n",
    "Y_predsv = (Y_predv > 0.5)\n",
    "\n",
    "print(confusion_matrix(y_val, Y_predsv))\n",
    "print(\"Exactitud: \", model_brnn.evaluate(x=x_val, y=y_val, verbose=0)[1])"
   ]
  },
  {
   "cell_type": "markdown",
   "metadata": {},
   "source": [
    "## Ejercicio 1.1\n",
    "\n",
    "Desarrolle un modelo de red neuronal recurrente uni-direccional para comparar los resultados obtenidos con esta red recurrente bi-direccional.\n",
    "\n",
    "Puede explorar una red recurrente simple, LSTM ó GRU, o cualquier otro tipo de red que desee explorar que contenga al menos una capa de tipo recurrente (ver por ejemplo: https://keras.io/api/layers/#recurrent-layers).\n",
    "\n",
    "Compare los resultados sobre los datos de prueba y analice el desempeño de su modelo."
   ]
  },
  {
   "cell_type": "code",
   "execution_count": 14,
   "metadata": {},
   "outputs": [
    {
     "name": "stdout",
     "output_type": "stream",
     "text": [
      "Model: \"functional_9\"\n",
      "_________________________________________________________________\n",
      "Layer (type)                 Output Shape              Param #   \n",
      "=================================================================\n",
      "input_2 (InputLayer)         [(None, None)]            0         \n",
      "_________________________________________________________________\n",
      "embedding_1 (Embedding)      (None, None, 128)         2560000   \n",
      "_________________________________________________________________\n",
      "lstm_2 (LSTM)                (None, None, 64)          49408     \n",
      "_________________________________________________________________\n",
      "lstm_3 (LSTM)                (None, 64)                33024     \n",
      "_________________________________________________________________\n",
      "dense_1 (Dense)              (None, 1)                 65        \n",
      "=================================================================\n",
      "Total params: 2,642,497\n",
      "Trainable params: 2,642,497\n",
      "Non-trainable params: 0\n",
      "_________________________________________________________________\n"
     ]
    }
   ],
   "source": [
    "# Implementamos una red neuronal recurrente uni-direccional\n",
    "\n",
    "# Input con secuencias de enteros con longitud variable\n",
    "inputs = keras.Input(shape=(None,), dtype=\"int32\")\n",
    "\n",
    "# Conseguimos la representación vectorial (embedding) de cada entero en un vector 128-dimensional\n",
    "x = layers.Embedding(max_features, 128)(inputs)\n",
    "\n",
    "# Añadimos 2 unidades LSTM \n",
    "x = layers.LSTM(64, return_sequences=True)(x)\n",
    "x = layers.LSTM(64)(x)\n",
    "\n",
    "# Añadimos un clasificador binario en la salida\n",
    "outputs = layers.Dense(1, activation=\"sigmoid\")(x)\n",
    "\n",
    "# Gaurdamos la arquitectura del modelo\n",
    "model2 = keras.Model(inputs, outputs)\n",
    "model2.summary()"
   ]
  },
  {
   "cell_type": "code",
   "execution_count": 15,
   "metadata": {},
   "outputs": [
    {
     "name": "stdout",
     "output_type": "stream",
     "text": [
      "Epoch 1/3\n",
      "391/391 [==============================] - 93s 239ms/step - loss: 0.4465 - accuracy: 0.7894 - val_loss: 0.4082 - val_accuracy: 0.8202\n",
      "Epoch 2/3\n",
      "391/391 [==============================] - 107s 275ms/step - loss: 0.2193 - accuracy: 0.9187 - val_loss: 0.3466 - val_accuracy: 0.8520\n",
      "Epoch 3/3\n",
      "391/391 [==============================] - 116s 296ms/step - loss: 0.1374 - accuracy: 0.9525 - val_loss: 0.4039 - val_accuracy: 0.8502\n",
      "Desempeño (exactitud): accu_v1=0.8502399921417236 , accu_v2=0.8388000130653381\n",
      "Epoch 1/3\n",
      "391/391 [==============================] - 137s 350ms/step - loss: 0.2478 - accuracy: 0.9059 - val_loss: 0.2310 - val_accuracy: 0.9175\n",
      "Epoch 2/3\n",
      "391/391 [==============================] - 124s 316ms/step - loss: 0.1245 - accuracy: 0.9576 - val_loss: 0.3078 - val_accuracy: 0.9101\n",
      "Epoch 3/3\n",
      "391/391 [==============================] - 122s 313ms/step - loss: 0.0672 - accuracy: 0.9786 - val_loss: 0.3811 - val_accuracy: 0.9034\n",
      "Desempeño (exactitud): accu_v1=0.9033600091934204 , accu_v2=0.8443999886512756\n",
      "Epoch 1/3\n",
      "391/391 [==============================] - 138s 352ms/step - loss: 0.1865 - accuracy: 0.9348 - val_loss: 0.1760 - val_accuracy: 0.9384\n",
      "Epoch 2/3\n",
      "391/391 [==============================] - 130s 333ms/step - loss: 0.0957 - accuracy: 0.9693 - val_loss: 0.1825 - val_accuracy: 0.9374\n",
      "Epoch 3/3\n",
      "391/391 [==============================] - 127s 324ms/step - loss: 0.0684 - accuracy: 0.9797 - val_loss: 0.2186 - val_accuracy: 0.9310\n",
      "Desempeño (exactitud): accu_v1=0.9309599995613098 , accu_v2=0.8426399827003479\n",
      "+--------+--------+--------+\n",
      "| Exac_E | Exac_V | Exac_P |\n",
      "+--------+--------+--------+\n",
      "| 0.9826 | 0.8502 | 0.8388 |\n",
      "| 0.9913 | 0.9034 | 0.8444 |\n",
      "| 0.9932 | 0.931  | 0.8426 |\n",
      "+--------+--------+--------+\n"
     ]
    }
   ],
   "source": [
    "# Inicializamos la tabla donde guardamos los resultados\n",
    "x = PrettyTable([\"Exac_E\", \"Exac_V\", \"Exac_P\"])\n",
    "\n",
    "# Definimos el número máximo de iteraciones (épocas de la red)\n",
    "epocas=3\n",
    "\n",
    "# Definimos los parametros del Adam\n",
    "adam = keras.optimizers.Adam(lr=0.001, beta_1=0.9, beta_2=0.999)\n",
    "\n",
    "# Inicializamos el error \n",
    "err_p = 999\n",
    "\n",
    "for i in range(0,3,1):\n",
    "    r = i^3\n",
    "    CE_x, CV_x, CE_y, CV_y = train_test_split(x_train, y_train, test_size = 0.5, random_state = r)\n",
    "          \n",
    "    # Definimos el método de optimización con respecto a su funcion de perdida (además guardamos la exactitud para cada iteracion)\n",
    "    model = keras.Model(inputs, outputs)\n",
    "    model.compile(loss='binary_crossentropy', optimizer=adam, metrics=['accuracy'])\n",
    "    \n",
    "    # Ajustamos el modelo\n",
    "    history=model.fit(x=CE_x, y=CE_y, epochs=epocas, validation_data=(CV_x, CV_y), verbose=1, shuffle=False)\n",
    "      \n",
    "    # Calculamos las metricas\n",
    "    train_metrics = model.evaluate(x=CE_x, y=CE_y, verbose=0)\n",
    "    valid_metrics = model.evaluate(x=CV_x, y=CV_y, verbose=0)\n",
    "    test_metrics = model.evaluate(x=x_val, y=y_val, verbose=0)\n",
    "    \n",
    "    # Guardamos las métricas de desempeño\n",
    "    accu_e = train_metrics[1]\n",
    "    loss_e = train_metrics[0]\n",
    "    accu_v = valid_metrics[1]\n",
    "    loss_v = valid_metrics[0]\n",
    "    accu_p = test_metrics[1]\n",
    "    loss_p = test_metrics[0]\n",
    "    \n",
    "    if (loss_p < err_p):\n",
    "        pathr =('URNN_part='+str(r)+'.h5')\n",
    "        model.save(pathr) \n",
    "        err_p = loss_p\n",
    "    \n",
    "    # Imprimimos el desempeño para cada repetición\n",
    "    print('Desempeño (exactitud): accu_v1='+str(accu_v) +' , accu_v2='+str(accu_p))\n",
    "    \n",
    "    x.add_row([np.round(accu_e,4), np.round(accu_v,4), np.round(accu_p,4)])\n",
    "\n",
    "print(x)\n"
   ]
  },
  {
   "cell_type": "code",
   "execution_count": 16,
   "metadata": {},
   "outputs": [
    {
     "data": {
      "image/png": "[encoded data removed]",
      "text/plain": [
       "<Figure size 432x288 with 1 Axes>"
      ]
     },
     "metadata": {
      "needs_background": "light"
     },
     "output_type": "display_data"
    },
    {
     "data": {
      "image/png": "[encoded data removed]",
      "text/plain": [
       "<Figure size 432x288 with 1 Axes>"
      ]
     },
     "metadata": {
      "needs_background": "light"
     },
     "output_type": "display_data"
    }
   ],
   "source": [
    "plt.figure(1)\n",
    "plt.plot(history.history['accuracy'])  \n",
    "plt.plot(history.history['val_accuracy'])  \n",
    "plt.title('Exactitud')  \n",
    "plt.ylabel('Acc')  \n",
    "plt.xlabel('Epoca')  \n",
    "plt.legend(['Entreno', 'Validacion'], loc='lower right')\n",
    "plt.show()\n",
    "\n",
    "plt.figure(1) \n",
    "plt.plot(history.history['loss'])  \n",
    "plt.plot(history.history['val_loss'])  \n",
    "plt.title('Pérdida')  \n",
    "plt.ylabel('Pérdida')  \n",
    "plt.xlabel('Epoca')  \n",
    "plt.legend(['Entreno', 'Validación'], loc='upper right')  \n",
    "plt.show()"
   ]
  },
  {
   "cell_type": "markdown",
   "metadata": {},
   "source": [
    "Recuperamos el mejor modelo:"
   ]
  },
  {
   "cell_type": "code",
   "execution_count": 35,
   "metadata": {},
   "outputs": [
    {
     "name": "stdout",
     "output_type": "stream",
     "text": [
      "Model: \"functional_11\"\n",
      "_________________________________________________________________\n",
      "Layer (type)                 Output Shape              Param #   \n",
      "=================================================================\n",
      "input_2 (InputLayer)         [(None, None)]            0         \n",
      "_________________________________________________________________\n",
      "embedding_1 (Embedding)      (None, None, 128)         2560000   \n",
      "_________________________________________________________________\n",
      "lstm_2 (LSTM)                (None, None, 64)          49408     \n",
      "_________________________________________________________________\n",
      "lstm_3 (LSTM)                (None, 64)                33024     \n",
      "_________________________________________________________________\n",
      "dense_1 (Dense)              (None, 1)                 65        \n",
      "=================================================================\n",
      "Total params: 2,642,497\n",
      "Trainable params: 2,642,497\n",
      "Non-trainable params: 0\n",
      "_________________________________________________________________\n"
     ]
    }
   ],
   "source": [
    "# B-RNN LSTM\n",
    "model_urnn = load_model('URNN_part=3.h5')\n",
    "\n",
    "model_urnn.summary()"
   ]
  },
  {
   "cell_type": "markdown",
   "metadata": {},
   "source": [
    "Replicamos los resultados obtenidos anteriormente:"
   ]
  },
  {
   "cell_type": "code",
   "execution_count": 36,
   "metadata": {},
   "outputs": [
    {
     "name": "stdout",
     "output_type": "stream",
     "text": [
      "[[11596   904]\n",
      " [ 1186 11314]]\n",
      "Exactitud:  0.9164000153541565\n"
     ]
    }
   ],
   "source": [
    "Y_predt = model_urnn.predict(x_train)\n",
    "Y_predst = (Y_predt > 0.5)\n",
    "\n",
    "print(confusion_matrix(y_train, Y_predst))\n",
    "print(\"Exactitud: \", model_urnn.evaluate(x=x_train, y=y_train, verbose=0)[1])"
   ]
  },
  {
   "cell_type": "markdown",
   "metadata": {},
   "source": [
    "Reportamos el desempeño del modelo con los datos de prueba (fuera de la muestra):"
   ]
  },
  {
   "cell_type": "code",
   "execution_count": 37,
   "metadata": {},
   "outputs": [
    {
     "name": "stdout",
     "output_type": "stream",
     "text": [
      "[[10784  1716]\n",
      " [ 2314 10186]]\n",
      "Exactitud:  0.8388000130653381\n"
     ]
    }
   ],
   "source": [
    "Y_predv = model_urnn.predict(x_val)\n",
    "Y_predsv = (Y_predv > 0.5)\n",
    "\n",
    "print(confusion_matrix(y_val, Y_predsv))\n",
    "print(\"Exactitud: \", model_urnn.evaluate(x=x_val, y=y_val, verbose=0)[1])"
   ]
  },
  {
   "cell_type": "markdown",
   "metadata": {},
   "source": [
    "Al utilizar una red neuronal recurrente uni-direccional con dos capas escodidas encontramos que la exactitud del modelo mejora con respecto a la red neuronal recurrente bidireccional. Sin embargo, observamos que el modelo no parece converger por cuanto la gráfica de exactitud y perdida tienden a separarse a medida que aumentan las epocas. Por esta razón, a continuación, intentaremos ver si al modificar la red y agregar capas escondidas adicionales es posible mejorar la exactitud del modelo."
   ]
  },
  {
   "cell_type": "code",
   "execution_count": 25,
   "metadata": {},
   "outputs": [
    {
     "name": "stdout",
     "output_type": "stream",
     "text": [
      "Model: \"functional_17\"\n",
      "_________________________________________________________________\n",
      "Layer (type)                 Output Shape              Param #   \n",
      "=================================================================\n",
      "input_4 (InputLayer)         [(None, None)]            0         \n",
      "_________________________________________________________________\n",
      "embedding_3 (Embedding)      (None, None, 128)         2560000   \n",
      "_________________________________________________________________\n",
      "lstm_5 (LSTM)                (None, None, 64)          49408     \n",
      "_________________________________________________________________\n",
      "dropout (Dropout)            (None, None, 64)          0         \n",
      "_________________________________________________________________\n",
      "lstm_6 (LSTM)                (None, None, 64)          33024     \n",
      "_________________________________________________________________\n",
      "dropout_1 (Dropout)          (None, None, 64)          0         \n",
      "_________________________________________________________________\n",
      "lstm_7 (LSTM)                (None, 64)                33024     \n",
      "_________________________________________________________________\n",
      "dense_2 (Dense)              (None, 1)                 65        \n",
      "=================================================================\n",
      "Total params: 2,675,521\n",
      "Trainable params: 2,675,521\n",
      "Non-trainable params: 0\n",
      "_________________________________________________________________\n"
     ]
    }
   ],
   "source": [
    "# Implementamos una red neuronal recurrente uni-direccional\n",
    "\n",
    "# Input con secuencias de enteros con longitud variable\n",
    "inputs = keras.Input(shape=(None,), dtype=\"int32\")\n",
    "\n",
    "# Conseguimos la representación vectorial (embedding) de cada entero en un vector 128-dimensional\n",
    "x = layers.Embedding(max_features, 128)(inputs)\n",
    "\n",
    "# Añadimos 3 unidades LSTM \n",
    "x = layers.LSTM(64, return_sequences=True)(x)\n",
    "x = layers.Dropout(0.20)(x)\n",
    "\n",
    "x = layers.LSTM(64,  return_sequences=True)(x)\n",
    "x = layers.Dropout(0.20)(x)\n",
    "\n",
    "x = layers.LSTM(64)(x)\n",
    "\n",
    "# Añadimos un clasificador binario en la salida\n",
    "outputs = layers.Dense(1, activation=\"sigmoid\")(x)\n",
    "\n",
    "# Gaurdamos la arquitectura del modelo\n",
    "model3 = keras.Model(inputs, outputs)\n",
    "model3.summary()"
   ]
  },
  {
   "cell_type": "code",
   "execution_count": 26,
   "metadata": {},
   "outputs": [
    {
     "name": "stdout",
     "output_type": "stream",
     "text": [
      "Epoch 1/3\n",
      "391/391 [==============================] - 167s 427ms/step - loss: 0.4492 - accuracy: 0.7855 - val_loss: 0.3341 - val_accuracy: 0.8643\n",
      "Epoch 2/3\n",
      "391/391 [==============================] - 171s 437ms/step - loss: 0.2240 - accuracy: 0.9180 - val_loss: 0.3812 - val_accuracy: 0.8553\n",
      "Epoch 3/3\n",
      "391/391 [==============================] - 171s 437ms/step - loss: 0.2041 - accuracy: 0.9285 - val_loss: 0.4309 - val_accuracy: 0.8223\n",
      "Desempeño (exactitud): accu_v1=0.8223199844360352 , accu_v2=0.8154399991035461\n",
      "Epoch 1/3\n",
      "391/391 [==============================] - 175s 448ms/step - loss: 0.2721 - accuracy: 0.8960 - val_loss: 0.2425 - val_accuracy: 0.9139\n",
      "Epoch 2/3\n",
      "391/391 [==============================] - 193s 493ms/step - loss: 0.1298 - accuracy: 0.9579 - val_loss: 0.2883 - val_accuracy: 0.9090\n",
      "Epoch 3/3\n",
      "391/391 [==============================] - 200s 512ms/step - loss: 0.0607 - accuracy: 0.9825 - val_loss: 0.4574 - val_accuracy: 0.8938\n",
      "Desempeño (exactitud): accu_v1=0.8937600255012512 , accu_v2=0.8371999859809875\n",
      "Epoch 1/3\n",
      "391/391 [==============================] - 203s 518ms/step - loss: 0.1820 - accuracy: 0.9378 - val_loss: 0.1826 - val_accuracy: 0.9394\n",
      "Epoch 2/3\n",
      "391/391 [==============================] - 191s 489ms/step - loss: 0.0914 - accuracy: 0.9718 - val_loss: 0.2473 - val_accuracy: 0.9276\n",
      "Epoch 3/3\n",
      "391/391 [==============================] - 187s 479ms/step - loss: 0.0522 - accuracy: 0.9849 - val_loss: 0.2427 - val_accuracy: 0.9301\n",
      "Desempeño (exactitud): accu_v1=0.930079996585846 , accu_v2=0.8404800295829773\n",
      "+--------+--------+--------+\n",
      "| Exac_E | Exac_V | Exac_P |\n",
      "+--------+--------+--------+\n",
      "| 0.9477 | 0.8223 | 0.8154 |\n",
      "| 0.9858 | 0.8938 | 0.8372 |\n",
      "| 0.9947 | 0.9301 | 0.8405 |\n",
      "+--------+--------+--------+\n"
     ]
    }
   ],
   "source": [
    "# Inicializamos la tabla donde guardamos los resultados\n",
    "x = PrettyTable([\"Exac_E\", \"Exac_V\", \"Exac_P\"])\n",
    "\n",
    "# Definimos el número máximo de iteraciones (épocas de la red)\n",
    "epocas=3\n",
    "\n",
    "# Definimos los parametros del Adam\n",
    "adam = keras.optimizers.Adam(lr=0.001, beta_1=0.9, beta_2=0.999)\n",
    "\n",
    "# Inicializamos el error \n",
    "err_p = 999\n",
    "\n",
    "for i in range(0,3,1):\n",
    "    r = i^3\n",
    "    CE_x, CV_x, CE_y, CV_y = train_test_split(x_train, y_train, test_size = 0.5, random_state = r)\n",
    "          \n",
    "    # Definimos el método de optimización con respecto a su funcion de perdida (además guardamos la exactitud para cada iteracion)\n",
    "    model = keras.Model(inputs, outputs)\n",
    "    model.compile(loss='binary_crossentropy', optimizer=adam, metrics=['accuracy'])\n",
    "    \n",
    "    # Ajustamos el modelo\n",
    "    history=model.fit(x=CE_x, y=CE_y, epochs=epocas, validation_data=(CV_x, CV_y), verbose=1, shuffle=False)\n",
    "      \n",
    "    # Calculamos las metricas\n",
    "    train_metrics = model.evaluate(x=CE_x, y=CE_y, verbose=0)\n",
    "    valid_metrics = model.evaluate(x=CV_x, y=CV_y, verbose=0)\n",
    "    test_metrics = model.evaluate(x=x_val, y=y_val, verbose=0)\n",
    "    \n",
    "    # Guardamos las métricas de desempeño\n",
    "    accu_e = train_metrics[1]\n",
    "    loss_e = train_metrics[0]\n",
    "    accu_v = valid_metrics[1]\n",
    "    loss_v = valid_metrics[0]\n",
    "    accu_p = test_metrics[1]\n",
    "    loss_p = test_metrics[0]\n",
    "    \n",
    "    if (loss_p < err_p):\n",
    "        pathr =('URNN_part3='+str(r)+'.h5')\n",
    "        model.save(pathr) \n",
    "        err_p = loss_p\n",
    "    \n",
    "    # Imprimimos el desempeño para cada repetición\n",
    "    print('Desempeño (exactitud): accu_v1='+str(accu_v) +' , accu_v2='+str(accu_p))\n",
    "    \n",
    "    x.add_row([np.round(accu_e,4), np.round(accu_v,4), np.round(accu_p,4)])\n",
    "\n",
    "print(x)\n"
   ]
  },
  {
   "cell_type": "code",
   "execution_count": 27,
   "metadata": {},
   "outputs": [
    {
     "data": {
      "image/png": "[encoded data removed]",
      "text/plain": [
       "<Figure size 432x288 with 1 Axes>"
      ]
     },
     "metadata": {
      "needs_background": "light"
     },
     "output_type": "display_data"
    },
    {
     "data": {
      "image/png": "[encoded data removed]",
      "text/plain": [
       "<Figure size 432x288 with 1 Axes>"
      ]
     },
     "metadata": {
      "needs_background": "light"
     },
     "output_type": "display_data"
    }
   ],
   "source": [
    "plt.figure(1)\n",
    "plt.plot(history.history['accuracy'])  \n",
    "plt.plot(history.history['val_accuracy'])  \n",
    "plt.title('Exactitud')  \n",
    "plt.ylabel('Acc')  \n",
    "plt.xlabel('Epoca')  \n",
    "plt.legend(['Entreno', 'Validacion'], loc='lower right')\n",
    "plt.show()\n",
    "\n",
    "plt.figure(1) \n",
    "plt.plot(history.history['loss'])  \n",
    "plt.plot(history.history['val_loss'])  \n",
    "plt.title('Pérdida')  \n",
    "plt.ylabel('Pérdida')  \n",
    "plt.xlabel('Epoca')  \n",
    "plt.legend(['Entreno', 'Validación'], loc='upper right')  \n",
    "plt.show()"
   ]
  },
  {
   "cell_type": "markdown",
   "metadata": {},
   "source": [
    "Recuperamos el mejor modelo:"
   ]
  },
  {
   "cell_type": "code",
   "execution_count": 38,
   "metadata": {},
   "outputs": [
    {
     "name": "stdout",
     "output_type": "stream",
     "text": [
      "Model: \"functional_11\"\n",
      "_________________________________________________________________\n",
      "Layer (type)                 Output Shape              Param #   \n",
      "=================================================================\n",
      "input_2 (InputLayer)         [(None, None)]            0         \n",
      "_________________________________________________________________\n",
      "embedding_1 (Embedding)      (None, None, 128)         2560000   \n",
      "_________________________________________________________________\n",
      "lstm_2 (LSTM)                (None, None, 64)          49408     \n",
      "_________________________________________________________________\n",
      "lstm_3 (LSTM)                (None, 64)                33024     \n",
      "_________________________________________________________________\n",
      "dense_1 (Dense)              (None, 1)                 65        \n",
      "=================================================================\n",
      "Total params: 2,642,497\n",
      "Trainable params: 2,642,497\n",
      "Non-trainable params: 0\n",
      "_________________________________________________________________\n"
     ]
    }
   ],
   "source": [
    "# B-RNN LSTM\n",
    "model_nn = load_model('URNN_part3=3.h5')\n",
    "\n",
    "model_nn.summary()"
   ]
  },
  {
   "cell_type": "markdown",
   "metadata": {},
   "source": [
    "Replicamos los resultados obtenidos anteriormente:"
   ]
  },
  {
   "cell_type": "code",
   "execution_count": 39,
   "metadata": {},
   "outputs": [
    {
     "name": "stdout",
     "output_type": "stream",
     "text": [
      "[[10662  1838]\n",
      " [ 1037 11463]]\n",
      "Exactitud:  0.8849999904632568\n"
     ]
    }
   ],
   "source": [
    "Y_predt = model_nn.predict(x_train)\n",
    "Y_predst = (Y_predt > 0.5)\n",
    "\n",
    "print(confusion_matrix(y_train, Y_predst))\n",
    "print(\"Exactitud: \", model_nn.evaluate(x=x_train, y=y_train, verbose=0)[1])"
   ]
  },
  {
   "cell_type": "markdown",
   "metadata": {},
   "source": [
    "Reportamos el desempeño del modelo con los datos de prueba (fuera de la muestra):"
   ]
  },
  {
   "cell_type": "code",
   "execution_count": 40,
   "metadata": {},
   "outputs": [
    {
     "name": "stdout",
     "output_type": "stream",
     "text": [
      "[[ 9661  2839]\n",
      " [ 1775 10725]]\n",
      "Exactitud:  0.8154399991035461\n"
     ]
    }
   ],
   "source": [
    "Y_predv = model_nn.predict(x_val)\n",
    "Y_predsv = (Y_predv > 0.5)\n",
    "\n",
    "print(confusion_matrix(y_val, Y_predsv))\n",
    "print(\"Exactitud: \", model_nn.evaluate(x=x_val, y=y_val, verbose=0)[1])"
   ]
  },
  {
   "cell_type": "markdown",
   "metadata": {},
   "source": [
    "Al ver los resultados de la red neuronal recurrente con capas adicionales encontramos que la exactitud del modelo cae, lo que implica que el modelo uni-direccional con 2 capas sigue teniendo la mejor capacidad predictiva, aunque no logra converger. Por esta razón, con el fin de ver si es posible obtener un mejor resultados, intentaremos una red neuronal recurrente GRU."
   ]
  },
  {
   "cell_type": "code",
   "execution_count": 41,
   "metadata": {},
   "outputs": [
    {
     "name": "stdout",
     "output_type": "stream",
     "text": [
      "Model: \"functional_25\"\n",
      "_________________________________________________________________\n",
      "Layer (type)                 Output Shape              Param #   \n",
      "=================================================================\n",
      "input_5 (InputLayer)         [(None, None)]            0         \n",
      "_________________________________________________________________\n",
      "embedding_4 (Embedding)      (None, None, 128)         2560000   \n",
      "_________________________________________________________________\n",
      "gru (GRU)                    (None, None, 64)          37248     \n",
      "_________________________________________________________________\n",
      "dropout_2 (Dropout)          (None, None, 64)          0         \n",
      "_________________________________________________________________\n",
      "gru_1 (GRU)                  (None, 64)                24960     \n",
      "_________________________________________________________________\n",
      "dense_3 (Dense)              (None, 1)                 65        \n",
      "=================================================================\n",
      "Total params: 2,622,273\n",
      "Trainable params: 2,622,273\n",
      "Non-trainable params: 0\n",
      "_________________________________________________________________\n"
     ]
    }
   ],
   "source": [
    "# Implementamos una red neuronal recurrente GRU\n",
    "\n",
    "# Input con secuencias de enteros con longitud variable\n",
    "inputs = keras.Input(shape=(None,), dtype=\"int32\")\n",
    "\n",
    "# Conseguimos la representación vectorial (embedding) de cada entero en un vector 128-dimensional\n",
    "x = layers.Embedding(max_features, 128)(inputs)\n",
    "\n",
    "# Añadimos 2 unidades GRU\n",
    "x = layers.GRU(64, return_sequences=True)(x)\n",
    "x = layers.Dropout(0.20)(x)\n",
    "x = layers.GRU(64)(x)\n",
    "\n",
    "# Añadimos un clasificador binario en la salida\n",
    "outputs = layers.Dense(1, activation=\"sigmoid\")(x)\n",
    "\n",
    "# Gaurdamos la arquitectura del modelo\n",
    "model4 = keras.Model(inputs, outputs)\n",
    "model4.summary()"
   ]
  },
  {
   "cell_type": "code",
   "execution_count": 42,
   "metadata": {},
   "outputs": [
    {
     "name": "stdout",
     "output_type": "stream",
     "text": [
      "Epoch 1/3\n",
      "391/391 [==============================] - 151s 387ms/step - loss: 0.4857 - accuracy: 0.7527 - val_loss: 0.3488 - val_accuracy: 0.8543\n",
      "Epoch 2/3\n",
      "391/391 [==============================] - 148s 379ms/step - loss: 0.2357 - accuracy: 0.9102 - val_loss: 0.3568 - val_accuracy: 0.8682\n",
      "Epoch 3/3\n",
      "391/391 [==============================] - 142s 363ms/step - loss: 0.1215 - accuracy: 0.9570 - val_loss: 0.5201 - val_accuracy: 0.8507\n",
      "Desempeño (exactitud): accu_v1=0.8507199883460999 , accu_v2=0.8392400145530701\n",
      "Epoch 1/3\n",
      "391/391 [==============================] - 156s 400ms/step - loss: 0.2222 - accuracy: 0.9184 - val_loss: 0.2002 - val_accuracy: 0.9270\n",
      "Epoch 2/3\n",
      "391/391 [==============================] - 151s 387ms/step - loss: 0.0859 - accuracy: 0.9728 - val_loss: 0.2608 - val_accuracy: 0.9070\n",
      "Epoch 3/3\n",
      "391/391 [==============================] - 152s 390ms/step - loss: 0.0412 - accuracy: 0.9870 - val_loss: 0.4178 - val_accuracy: 0.8943\n",
      "Desempeño (exactitud): accu_v1=0.894320011138916 , accu_v2=0.8464400172233582\n",
      "Epoch 1/3\n",
      "391/391 [==============================] - 157s 401ms/step - loss: 0.1507 - accuracy: 0.9508 - val_loss: 0.1299 - val_accuracy: 0.9558\n",
      "Epoch 2/3\n",
      "391/391 [==============================] - 151s 386ms/step - loss: 0.0396 - accuracy: 0.9894 - val_loss: 0.1564 - val_accuracy: 0.9502\n",
      "Epoch 3/3\n",
      "391/391 [==============================] - 154s 393ms/step - loss: 0.0148 - accuracy: 0.9960 - val_loss: 0.2583 - val_accuracy: 0.9394\n",
      "Desempeño (exactitud): accu_v1=0.9393600225448608 , accu_v2=0.8479200005531311\n",
      "+--------+--------+--------+\n",
      "| Exac_E | Exac_V | Exac_P |\n",
      "+--------+--------+--------+\n",
      "| 0.976  | 0.8507 | 0.8392 |\n",
      "| 0.9891 | 0.8943 | 0.8464 |\n",
      "| 0.9968 | 0.9394 | 0.8479 |\n",
      "+--------+--------+--------+\n"
     ]
    }
   ],
   "source": [
    "# Inicializamos la tabla donde guardamos los resultados\n",
    "x = PrettyTable([\"Exac_E\", \"Exac_V\", \"Exac_P\"])\n",
    "\n",
    "# Definimos el número máximo de iteraciones (épocas de la red)\n",
    "epocas=3\n",
    "\n",
    "# Definimos los parametros del Adam\n",
    "adam = keras.optimizers.Adam(lr=0.001, beta_1=0.9, beta_2=0.999)\n",
    "\n",
    "# Inicializamos el error \n",
    "err_p = 999\n",
    "\n",
    "for i in range(0,3,1):\n",
    "    r = i^3\n",
    "    CE_x, CV_x, CE_y, CV_y = train_test_split(x_train, y_train, test_size = 0.5, random_state = r)\n",
    "          \n",
    "    # Definimos el método de optimización con respecto a su funcion de perdida (además guardamos la exactitud para cada iteracion)\n",
    "    model = keras.Model(inputs, outputs)\n",
    "    model.compile(loss='binary_crossentropy', optimizer=adam, metrics=['accuracy'])\n",
    "    \n",
    "    # Ajustamos el modelo\n",
    "    history=model.fit(x=CE_x, y=CE_y, epochs=epocas, validation_data=(CV_x, CV_y), verbose=1, shuffle=False)\n",
    "      \n",
    "    # Calculamos las metricas\n",
    "    train_metrics = model.evaluate(x=CE_x, y=CE_y, verbose=0)\n",
    "    valid_metrics = model.evaluate(x=CV_x, y=CV_y, verbose=0)\n",
    "    test_metrics = model.evaluate(x=x_val, y=y_val, verbose=0)\n",
    "    \n",
    "    # Guardamos las métricas de desempeño\n",
    "    accu_e = train_metrics[1]\n",
    "    loss_e = train_metrics[0]\n",
    "    accu_v = valid_metrics[1]\n",
    "    loss_v = valid_metrics[0]\n",
    "    accu_p = test_metrics[1]\n",
    "    loss_p = test_metrics[0]\n",
    "    \n",
    "    if (loss_p < err_p):\n",
    "        pathr =('GRU_part='+str(r)+'.h5')\n",
    "        model.save(pathr) \n",
    "        err_p = loss_p\n",
    "    \n",
    "    # Imprimimos el desempeño para cada repetición\n",
    "    print('Desempeño (exactitud): accu_v1='+str(accu_v) +' , accu_v2='+str(accu_p))\n",
    "    \n",
    "    x.add_row([np.round(accu_e,4), np.round(accu_v,4), np.round(accu_p,4)])\n",
    "\n",
    "print(x)\n"
   ]
  },
  {
   "cell_type": "code",
   "execution_count": 43,
   "metadata": {},
   "outputs": [
    {
     "data": {
      "image/png": "[encoded data removed]",
      "text/plain": [
       "<Figure size 432x288 with 1 Axes>"
      ]
     },
     "metadata": {
      "needs_background": "light"
     },
     "output_type": "display_data"
    },
    {
     "data": {
      "image/png": "[encoded data removed]",
      "text/plain": [
       "<Figure size 432x288 with 1 Axes>"
      ]
     },
     "metadata": {
      "needs_background": "light"
     },
     "output_type": "display_data"
    }
   ],
   "source": [
    "plt.figure(1)\n",
    "plt.plot(history.history['accuracy'])  \n",
    "plt.plot(history.history['val_accuracy'])  \n",
    "plt.title('Exactitud')  \n",
    "plt.ylabel('Acc')  \n",
    "plt.xlabel('Epoca')  \n",
    "plt.legend(['Entreno', 'Validacion'], loc = 'lower right')\n",
    "plt.show()\n",
    "\n",
    "plt.figure(1) \n",
    "plt.plot(history.history['loss'])  \n",
    "plt.plot(history.history['val_loss'])  \n",
    "plt.title('Pérdida')  \n",
    "plt.ylabel('Pérdida')  \n",
    "plt.xlabel('Epoca')  \n",
    "plt.legend(['Entreno', 'Validación'], loc='upper right')  \n",
    "plt.show()"
   ]
  },
  {
   "cell_type": "markdown",
   "metadata": {},
   "source": [
    "Recuperamos el mejor modelo:"
   ]
  },
  {
   "cell_type": "code",
   "execution_count": 44,
   "metadata": {},
   "outputs": [
    {
     "name": "stdout",
     "output_type": "stream",
     "text": [
      "Model: \"functional_27\"\n",
      "_________________________________________________________________\n",
      "Layer (type)                 Output Shape              Param #   \n",
      "=================================================================\n",
      "input_5 (InputLayer)         [(None, None)]            0         \n",
      "_________________________________________________________________\n",
      "embedding_4 (Embedding)      (None, None, 128)         2560000   \n",
      "_________________________________________________________________\n",
      "gru (GRU)                    (None, None, 64)          37248     \n",
      "_________________________________________________________________\n",
      "dropout_2 (Dropout)          (None, None, 64)          0         \n",
      "_________________________________________________________________\n",
      "gru_1 (GRU)                  (None, 64)                24960     \n",
      "_________________________________________________________________\n",
      "dense_3 (Dense)              (None, 1)                 65        \n",
      "=================================================================\n",
      "Total params: 2,622,273\n",
      "Trainable params: 2,622,273\n",
      "Non-trainable params: 0\n",
      "_________________________________________________________________\n"
     ]
    }
   ],
   "source": [
    "# B-RNN LSTM\n",
    "model_gru = load_model('GRU_part=3.h5')\n",
    "\n",
    "model_gru.summary()"
   ]
  },
  {
   "cell_type": "markdown",
   "metadata": {},
   "source": [
    "Replicamos los resultados obtenidos anteriormente:"
   ]
  },
  {
   "cell_type": "code",
   "execution_count": 45,
   "metadata": {},
   "outputs": [
    {
     "name": "stdout",
     "output_type": "stream",
     "text": [
      "[[10894  1606]\n",
      " [  560 11940]]\n",
      "Exactitud:  0.9133599996566772\n"
     ]
    }
   ],
   "source": [
    "Y_predt = model_gru.predict(x_train)\n",
    "Y_predst = (Y_predt > 0.5)\n",
    "\n",
    "print(confusion_matrix(y_train, Y_predst))\n",
    "print(\"Exactitud: \", model_gru.evaluate(x=x_train, y=y_train, verbose=0)[1])"
   ]
  },
  {
   "cell_type": "markdown",
   "metadata": {},
   "source": [
    "Reportamos el desempeño del modelo con los datos de prueba (fuera de la muestra):"
   ]
  },
  {
   "cell_type": "code",
   "execution_count": 46,
   "metadata": {},
   "outputs": [
    {
     "name": "stdout",
     "output_type": "stream",
     "text": [
      "[[ 9684  2816]\n",
      " [ 1203 11297]]\n",
      "Exactitud:  0.8392400145530701\n"
     ]
    }
   ],
   "source": [
    "Y_predv = model_gru.predict(x_val)\n",
    "Y_predsv = (Y_predv > 0.5)\n",
    "\n",
    "print(confusion_matrix(y_val, Y_predsv))\n",
    "print(\"Exactitud: \", model_gru.evaluate(x=x_val, y=y_val, verbose=0)[1])"
   ]
  },
  {
   "cell_type": "markdown",
   "metadata": {},
   "source": [
    "Los resultados de la Red GRU no son tan diferentes a los de la red neuronal unidireccional, existiendo una leve mejora en terminos de predicción sobre los datos de prueba. Sigue exitiendo, no obstante, el problema relacionado con la no convergencia del modelo, lo cual puede estar relacionado con un posible overfitting. Por esta razón, intentaremos modificar algunos de los parametros de la red GRU con el fin de ver si es posible obtener una mejor exactitud y convergencia del modelo."
   ]
  },
  {
   "cell_type": "code",
   "execution_count": 47,
   "metadata": {},
   "outputs": [
    {
     "name": "stdout",
     "output_type": "stream",
     "text": [
      "Model: \"functional_33\"\n",
      "_________________________________________________________________\n",
      "Layer (type)                 Output Shape              Param #   \n",
      "=================================================================\n",
      "input_6 (InputLayer)         [(None, None)]            0         \n",
      "_________________________________________________________________\n",
      "embedding_5 (Embedding)      (None, None, 128)         2560000   \n",
      "_________________________________________________________________\n",
      "gru_2 (GRU)                  (None, None, 64)          37248     \n",
      "_________________________________________________________________\n",
      "dropout_3 (Dropout)          (None, None, 64)          0         \n",
      "_________________________________________________________________\n",
      "gru_3 (GRU)                  (None, None, 30)          8640      \n",
      "_________________________________________________________________\n",
      "dropout_4 (Dropout)          (None, None, 30)          0         \n",
      "_________________________________________________________________\n",
      "gru_4 (GRU)                  (None, 30)                5580      \n",
      "_________________________________________________________________\n",
      "dense_4 (Dense)              (None, 1)                 31        \n",
      "=================================================================\n",
      "Total params: 2,611,499\n",
      "Trainable params: 2,611,499\n",
      "Non-trainable params: 0\n",
      "_________________________________________________________________\n"
     ]
    }
   ],
   "source": [
    "# Implementamos una red neuronal recurrente uni-direccional\n",
    "\n",
    "# Input con secuencias de enteros con longitud variable\n",
    "inputs = keras.Input(shape=(None,), dtype=\"int32\")\n",
    "\n",
    "# Conseguimos la representación vectorial (embedding) de cada entero en un vector 128-dimensional\n",
    "x = layers.Embedding(max_features, 128)(inputs)\n",
    "\n",
    "# Añadimos 3 unidades GRU\n",
    "x = layers.GRU(64, return_sequences=True)(x)\n",
    "x = layers.Dropout(0.20)(x)\n",
    "\n",
    "x = layers.GRU(30, return_sequences=True)(x)\n",
    "x = layers.Dropout(0.20)(x)\n",
    "\n",
    "x = layers.GRU(30)(x)\n",
    "\n",
    "# Añadimos un clasificador binario en la salida\n",
    "outputs = layers.Dense(1, activation=\"sigmoid\")(x)\n",
    "\n",
    "# Gaurdamos la arquitectura del modelo\n",
    "model5 = keras.Model(inputs, outputs)\n",
    "model5.summary()"
   ]
  },
  {
   "cell_type": "code",
   "execution_count": 48,
   "metadata": {},
   "outputs": [
    {
     "name": "stdout",
     "output_type": "stream",
     "text": [
      "Epoch 1/3\n",
      "547/547 [==============================] - 104s 190ms/step - loss: 0.4476 - accuracy: 0.7900 - val_loss: 0.3061 - val_accuracy: 0.8773\n",
      "Epoch 2/3\n",
      "547/547 [==============================] - 115s 211ms/step - loss: 0.2146 - accuracy: 0.9207 - val_loss: 0.3156 - val_accuracy: 0.8768\n",
      "Epoch 3/3\n",
      "547/547 [==============================] - 126s 230ms/step - loss: 0.1382 - accuracy: 0.9509 - val_loss: 0.4302 - val_accuracy: 0.8612\n",
      "Desempeño (exactitud): accu_v1=0.8611999750137329 , accu_v2=0.8491600155830383\n",
      "Epoch 1/3\n",
      "547/547 [==============================] - 150s 275ms/step - loss: 0.1595 - accuracy: 0.9455 - val_loss: 0.1577 - val_accuracy: 0.9460\n",
      "Epoch 2/3\n",
      "547/547 [==============================] - 148s 270ms/step - loss: 0.0674 - accuracy: 0.9799 - val_loss: 0.2159 - val_accuracy: 0.9389\n",
      "Epoch 3/3\n",
      "547/547 [==============================] - 149s 272ms/step - loss: 0.0402 - accuracy: 0.9882 - val_loss: 0.3225 - val_accuracy: 0.9240\n",
      "Desempeño (exactitud): accu_v1=0.9240000247955322 , accu_v2=0.8539199829101562\n",
      "Epoch 1/3\n",
      "547/547 [==============================] - 147s 269ms/step - loss: 0.0878 - accuracy: 0.9730 - val_loss: 0.0868 - val_accuracy: 0.9717\n",
      "Epoch 2/3\n",
      "547/547 [==============================] - 149s 272ms/step - loss: 0.0290 - accuracy: 0.9925 - val_loss: 0.1207 - val_accuracy: 0.9649\n",
      "Epoch 3/3\n",
      "547/547 [==============================] - 149s 272ms/step - loss: 0.0171 - accuracy: 0.9954 - val_loss: 0.1318 - val_accuracy: 0.9667\n",
      "Desempeño (exactitud): accu_v1=0.9666666388511658 , accu_v2=0.8621600270271301\n",
      "+--------+--------+--------+\n",
      "| Exac_E | Exac_V | Exac_P |\n",
      "+--------+--------+--------+\n",
      "| 0.9739 | 0.8612 | 0.8492 |\n",
      "| 0.9924 | 0.924  | 0.8539 |\n",
      "| 0.9983 | 0.9667 | 0.8622 |\n",
      "+--------+--------+--------+\n"
     ]
    }
   ],
   "source": [
    "# Inicializamos la tabla donde guardamos los resultados\n",
    "x = PrettyTable([\"Exac_E\", \"Exac_V\", \"Exac_P\"])\n",
    "\n",
    "# Definimos el número máximo de iteraciones (épocas de la red)\n",
    "epocas=3\n",
    "\n",
    "# Definimos los parametros del Adam\n",
    "adam = keras.optimizers.Adam(lr=0.001, beta_1=0.9, beta_2=0.999)\n",
    "\n",
    "# Inicializamos el error \n",
    "err_p = 999\n",
    "\n",
    "for i in range(0,3,1):\n",
    "    r = i^3\n",
    "    CE_x, CV_x, CE_y, CV_y = train_test_split(x_train, y_train, test_size = 0.3, random_state = r)\n",
    "          \n",
    "    # Definimos el método de optimización con respecto a su funcion de perdida (además guardamos la exactitud para cada iteracion)\n",
    "    model = keras.Model(inputs, outputs)\n",
    "    model.compile(loss='binary_crossentropy', optimizer=adam, metrics=['accuracy'])\n",
    "    \n",
    "    # Ajustamos el modelo\n",
    "    history=model.fit(x=CE_x, y=CE_y, epochs=epocas, validation_data=(CV_x, CV_y), verbose=1, shuffle=False)\n",
    "      \n",
    "    # Calculamos las metricas\n",
    "    train_metrics = model.evaluate(x=CE_x, y=CE_y, verbose=0)\n",
    "    valid_metrics = model.evaluate(x=CV_x, y=CV_y, verbose=0)\n",
    "    test_metrics = model.evaluate(x=x_val, y=y_val, verbose=0)\n",
    "    \n",
    "    # Guardamos las métricas de desempeño\n",
    "    accu_e = train_metrics[1]\n",
    "    loss_e = train_metrics[0]\n",
    "    accu_v = valid_metrics[1]\n",
    "    loss_v = valid_metrics[0]\n",
    "    accu_p = test_metrics[1]\n",
    "    loss_p = test_metrics[0]\n",
    "    \n",
    "    if (loss_p < err_p):\n",
    "        pathr =('GRU2_part='+str(r)+'.h5')\n",
    "        model.save(pathr) \n",
    "        err_p = loss_p\n",
    "    \n",
    "    # Imprimimos el desempeño para cada repetición\n",
    "    print('Desempeño (exactitud): accu_v1='+str(accu_v) +' , accu_v2='+str(accu_p))\n",
    "    \n",
    "    x.add_row([np.round(accu_e,4), np.round(accu_v,4), np.round(accu_p,4)])\n",
    "\n",
    "print(x)\n"
   ]
  },
  {
   "cell_type": "code",
   "execution_count": 50,
   "metadata": {},
   "outputs": [
    {
     "data": {
      "image/png": "[encoded data removed]",
      "text/plain": [
       "<Figure size 432x288 with 1 Axes>"
      ]
     },
     "metadata": {
      "needs_background": "light"
     },
     "output_type": "display_data"
    },
    {
     "data": {
      "image/png": "[encoded data removed]",
      "text/plain": [
       "<Figure size 432x288 with 1 Axes>"
      ]
     },
     "metadata": {
      "needs_background": "light"
     },
     "output_type": "display_data"
    }
   ],
   "source": [
    "plt.figure(1)\n",
    "plt.plot(history.history['accuracy'])  \n",
    "plt.plot(history.history['val_accuracy'])  \n",
    "plt.title('Exactitud')  \n",
    "plt.ylabel('Acc')  \n",
    "plt.xlabel('Epoca')  \n",
    "plt.legend(['Entreno', 'Validacion'], loc = 'lower right')\n",
    "plt.show()\n",
    "\n",
    "plt.figure(1) \n",
    "plt.plot(history.history['loss'])  \n",
    "plt.plot(history.history['val_loss'])  \n",
    "plt.title('Pérdida')  \n",
    "plt.ylabel('Pérdida')  \n",
    "plt.xlabel('Epoca')  \n",
    "plt.legend(['Entreno', 'Validación'], loc='upper right')  \n",
    "plt.show()"
   ]
  },
  {
   "cell_type": "markdown",
   "metadata": {},
   "source": [
    "Recuperamos el mejor modelo:"
   ]
  },
  {
   "cell_type": "code",
   "execution_count": 51,
   "metadata": {},
   "outputs": [
    {
     "name": "stdout",
     "output_type": "stream",
     "text": [
      "Model: \"functional_35\"\n",
      "_________________________________________________________________\n",
      "Layer (type)                 Output Shape              Param #   \n",
      "=================================================================\n",
      "input_6 (InputLayer)         [(None, None)]            0         \n",
      "_________________________________________________________________\n",
      "embedding_5 (Embedding)      (None, None, 128)         2560000   \n",
      "_________________________________________________________________\n",
      "gru_2 (GRU)                  (None, None, 64)          37248     \n",
      "_________________________________________________________________\n",
      "dropout_3 (Dropout)          (None, None, 64)          0         \n",
      "_________________________________________________________________\n",
      "gru_3 (GRU)                  (None, None, 30)          8640      \n",
      "_________________________________________________________________\n",
      "dropout_4 (Dropout)          (None, None, 30)          0         \n",
      "_________________________________________________________________\n",
      "gru_4 (GRU)                  (None, 30)                5580      \n",
      "_________________________________________________________________\n",
      "dense_4 (Dense)              (None, 1)                 31        \n",
      "=================================================================\n",
      "Total params: 2,611,499\n",
      "Trainable params: 2,611,499\n",
      "Non-trainable params: 0\n",
      "_________________________________________________________________\n"
     ]
    }
   ],
   "source": [
    "# B-RNN LSTM\n",
    "model_gru2 = load_model('GRU2_part=3.h5')\n",
    "\n",
    "model_gru2.summary()"
   ]
  },
  {
   "cell_type": "markdown",
   "metadata": {},
   "source": [
    "Replicamos los resultados obtenidos anteriormente:"
   ]
  },
  {
   "cell_type": "code",
   "execution_count": 52,
   "metadata": {},
   "outputs": [
    {
     "name": "stdout",
     "output_type": "stream",
     "text": [
      "[[11368  1132]\n",
      " [  366 12134]]\n",
      "Exactitud:  0.9400799870491028\n"
     ]
    }
   ],
   "source": [
    "Y_predt = model_gru2.predict(x_train)\n",
    "Y_predst = (Y_predt > 0.5)\n",
    "\n",
    "print(confusion_matrix(y_train, Y_predst))\n",
    "print(\"Exactitud: \", model_gru2.evaluate(x=x_train, y=y_train, verbose=0)[1])"
   ]
  },
  {
   "cell_type": "markdown",
   "metadata": {},
   "source": [
    "Reportamos el desempeño del modelo con los datos de prueba (fuera de la muestra):"
   ]
  },
  {
   "cell_type": "code",
   "execution_count": 53,
   "metadata": {},
   "outputs": [
    {
     "name": "stdout",
     "output_type": "stream",
     "text": [
      "[[ 9936  2564]\n",
      " [ 1207 11293]]\n",
      "Exactitud:  0.8491600155830383\n"
     ]
    }
   ],
   "source": [
    "Y_predv = model_gru2.predict(x_val)\n",
    "Y_predsv = (Y_predv > 0.5)\n",
    "\n",
    "print(confusion_matrix(y_val, Y_predsv))\n",
    "print(\"Exactitud: \", model_gru2.evaluate(x=x_val, y=y_val, verbose=0)[1])"
   ]
  },
  {
   "cell_type": "markdown",
   "metadata": {},
   "source": [
    "Al cambiar la configuración inicial de la Red Neuronal GRU con tres capas escondidas y hacienda el entrenamiento y validación con una partición del 30% encontramos que la exactitud del modelo mejora con respecto al modelo anterior; sin embargo, seguimos sin conseguir que el modelo converga y que se tenga un posible overfitting sobre la muestra de prueba."
   ]
  },
  {
   "cell_type": "markdown",
   "metadata": {},
   "source": [
    "## Ejercicio 1.2\n",
    "\n",
    "Desarrolle otro modelo de red neuronal (de libre elección) para mejorar los resultados obtenidos con el mejor modelo obtenido hasta ahora.\n",
    "\n",
    "Puede explorar una red recurrente simple, LSTM, GRU, o cualquier otro tipo de red (CNN, CNN-LSTM, ...)\n",
    "\n",
    "Compare los resultados sobre los datos de prueba y analice el desempeño de su modelo. Concluya y proponga estrategias para seguir mejorando los resultados."
   ]
  },
  {
   "cell_type": "code",
   "execution_count": 53,
   "metadata": {},
   "outputs": [
    {
     "name": "stdout",
     "output_type": "stream",
     "text": [
      "[[ 9936  2564]\n",
      " [ 1207 11293]]\n",
      "Exactitud:  0.8491600155830383\n"
     ]
    }
   ],
   "source": [
    "# Modelo base\n",
    "\n",
    "Y_predv = model_gru2.predict(x_val)\n",
    "Y_predsv = (Y_predv > 0.5)\n",
    "\n",
    "print(confusion_matrix(y_val, Y_predsv))\n",
    "print(\"Exactitud: \", model_gru2.evaluate(x=x_val, y=y_val, verbose=0)[1])"
   ]
  },
  {
   "cell_type": "code",
   "execution_count": 11,
   "metadata": {},
   "outputs": [
    {
     "name": "stdout",
     "output_type": "stream",
     "text": [
      "Model: \"functional_9\"\n",
      "_________________________________________________________________\n",
      "Layer (type)                 Output Shape              Param #   \n",
      "=================================================================\n",
      "input_2 (InputLayer)         [(None, None)]            0         \n",
      "_________________________________________________________________\n",
      "embedding_1 (Embedding)      (None, None, 128)         2560000   \n",
      "_________________________________________________________________\n",
      "lstm_1 (LSTM)                (None, None, 64)          49408     \n",
      "_________________________________________________________________\n",
      "lstm_2 (LSTM)                (None, 64)                33024     \n",
      "_________________________________________________________________\n",
      "dense_1 (Dense)              (None, 1)                 65        \n",
      "=================================================================\n",
      "Total params: 2,642,497\n",
      "Trainable params: 2,642,497\n",
      "Non-trainable params: 0\n",
      "_________________________________________________________________\n"
     ]
    }
   ],
   "source": [
    "# Modelo LSTM \n",
    "\n",
    "# Input con secuencias de enteros con longitud variable\n",
    "inputs = keras.Input(shape=(None,), dtype=\"int32\")\n",
    "\n",
    "# Conseguimos la representación vectorial (embedding) de cada entero en un vector 128-dimensional\n",
    "x = layers.Embedding(max_features, 128)(inputs)\n",
    "\n",
    "# Añadimos 2 unidades LSTM \n",
    "x = layers.LSTM(64, return_sequences=True)(x)\n",
    "x = layers.LSTM(64)(x)\n",
    "\n",
    "# Añadimos un clasificador binario en la salida\n",
    "outputs = layers.Dense(1, activation=\"sigmoid\")(x)\n",
    "\n",
    "# Gaurdamos la arquitectura del modelo\n",
    "model6 = keras.Model(inputs, outputs)\n",
    "model6.summary()"
   ]
  },
  {
   "cell_type": "code",
   "execution_count": 12,
   "metadata": {},
   "outputs": [
    {
     "name": "stdout",
     "output_type": "stream",
     "text": [
      "Epoch 1/20\n",
      "547/547 [==============================] - 180s 328ms/step - loss: 0.4402 - accuracy: 0.7966 - val_loss: 0.3507 - val_accuracy: 0.8575\n",
      "Epoch 2/20\n",
      "547/547 [==============================] - 170s 311ms/step - loss: 0.2384 - accuracy: 0.9081 - val_loss: 0.3546 - val_accuracy: 0.8517\n",
      "Epoch 3/20\n",
      "547/547 [==============================] - 168s 308ms/step - loss: 0.1509 - accuracy: 0.9458 - val_loss: 0.4975 - val_accuracy: 0.8272\n",
      "Epoch 4/20\n",
      "547/547 [==============================] - 179s 328ms/step - loss: 0.1209 - accuracy: 0.9577 - val_loss: 0.5578 - val_accuracy: 0.8395\n",
      "Epoch 5/20\n",
      "547/547 [==============================] - 189s 345ms/step - loss: 0.0948 - accuracy: 0.9670 - val_loss: 0.5998 - val_accuracy: 0.8391\n",
      "Epoch 6/20\n",
      "547/547 [==============================] - 190s 348ms/step - loss: 0.0733 - accuracy: 0.9737 - val_loss: 0.6771 - val_accuracy: 0.8363\n",
      "Epoch 7/20\n",
      "547/547 [==============================] - 189s 346ms/step - loss: 0.0585 - accuracy: 0.9806 - val_loss: 0.6542 - val_accuracy: 0.8335\n",
      "Epoch 8/20\n",
      "547/547 [==============================] - 177s 323ms/step - loss: 0.0388 - accuracy: 0.9875 - val_loss: 0.6649 - val_accuracy: 0.8255\n",
      "Epoch 9/20\n",
      "547/547 [==============================] - 190s 347ms/step - loss: 0.0236 - accuracy: 0.9930 - val_loss: 0.7785 - val_accuracy: 0.8235\n",
      "Epoch 10/20\n",
      "547/547 [==============================] - 189s 345ms/step - loss: 0.0258 - accuracy: 0.9917 - val_loss: 0.8028 - val_accuracy: 0.8124\n",
      "Epoch 11/20\n",
      "547/547 [==============================] - 191s 349ms/step - loss: 0.0226 - accuracy: 0.9930 - val_loss: 0.8883 - val_accuracy: 0.8291\n",
      "Epoch 12/20\n",
      "547/547 [==============================] - 190s 348ms/step - loss: 0.0330 - accuracy: 0.9891 - val_loss: 0.6263 - val_accuracy: 0.8309\n",
      "Epoch 13/20\n",
      "547/547 [==============================] - 193s 353ms/step - loss: 0.0182 - accuracy: 0.9941 - val_loss: 0.8325 - val_accuracy: 0.8277\n",
      "Epoch 14/20\n",
      "547/547 [==============================] - 186s 340ms/step - loss: 0.0071 - accuracy: 0.9976 - val_loss: 1.0537 - val_accuracy: 0.8164\n",
      "Epoch 15/20\n",
      "547/547 [==============================] - 192s 351ms/step - loss: 0.0113 - accuracy: 0.9968 - val_loss: 0.9136 - val_accuracy: 0.8296\n",
      "Epoch 16/20\n",
      "547/547 [==============================] - 194s 355ms/step - loss: 0.0111 - accuracy: 0.9963 - val_loss: 0.8675 - val_accuracy: 0.8303\n",
      "Epoch 17/20\n",
      "547/547 [==============================] - 192s 351ms/step - loss: 0.0091 - accuracy: 0.9968 - val_loss: 0.8883 - val_accuracy: 0.8316\n",
      "Epoch 18/20\n",
      "547/547 [==============================] - 193s 353ms/step - loss: 0.0122 - accuracy: 0.9961 - val_loss: 1.0026 - val_accuracy: 0.8285\n",
      "Epoch 19/20\n",
      "547/547 [==============================] - 194s 355ms/step - loss: 0.0139 - accuracy: 0.9959 - val_loss: 0.8408 - val_accuracy: 0.8349\n",
      "Epoch 20/20\n",
      "547/547 [==============================] - 192s 352ms/step - loss: 0.0048 - accuracy: 0.9985 - val_loss: 0.9076 - val_accuracy: 0.8360\n",
      "Desempeño (exactitud): accu_v1=0.8360000252723694 , accu_v2=0.8204399943351746\n",
      "Epoch 1/20\n",
      "547/547 [==============================] - 189s 346ms/step - loss: 0.1583 - accuracy: 0.9482 - val_loss: 0.1446 - val_accuracy: 0.9516\n",
      "Epoch 2/20\n",
      "547/547 [==============================] - 188s 344ms/step - loss: 0.0654 - accuracy: 0.9813 - val_loss: 0.1490 - val_accuracy: 0.9501\n",
      "Epoch 3/20\n",
      "547/547 [==============================] - 187s 341ms/step - loss: 0.0411 - accuracy: 0.9871 - val_loss: 0.1926 - val_accuracy: 0.9475\n",
      "Epoch 4/20\n",
      "547/547 [==============================] - 188s 343ms/step - loss: 0.0200 - accuracy: 0.9948 - val_loss: 0.2253 - val_accuracy: 0.9317\n",
      "Epoch 5/20\n",
      "547/547 [==============================] - 194s 355ms/step - loss: 0.0113 - accuracy: 0.9972 - val_loss: 0.2529 - val_accuracy: 0.9452\n",
      "Epoch 6/20\n",
      "547/547 [==============================] - 195s 357ms/step - loss: 0.0021 - accuracy: 0.9997 - val_loss: 0.2728 - val_accuracy: 0.9487\n",
      "Epoch 7/20\n",
      "547/547 [==============================] - 186s 340ms/step - loss: 0.0011 - accuracy: 0.9999 - val_loss: 0.2905 - val_accuracy: 0.9501\n",
      "Epoch 8/20\n",
      "547/547 [==============================] - 105s 193ms/step - loss: 7.4338e-04 - accuracy: 0.9999 - val_loss: 0.3116 - val_accuracy: 0.9512\n",
      "Epoch 9/20\n",
      "547/547 [==============================] - 108s 197ms/step - loss: 4.4498e-04 - accuracy: 0.9999 - val_loss: 0.3280 - val_accuracy: 0.9508\n",
      "Epoch 10/20\n",
      "547/547 [==============================] - 119s 217ms/step - loss: 3.2500e-04 - accuracy: 0.9999 - val_loss: 0.3460 - val_accuracy: 0.9504\n",
      "Epoch 11/20\n",
      "547/547 [==============================] - 134s 246ms/step - loss: 1.8483e-04 - accuracy: 0.9999 - val_loss: 0.3469 - val_accuracy: 0.9500\n",
      "Epoch 12/20\n",
      "547/547 [==============================] - 133s 243ms/step - loss: 2.8406e-05 - accuracy: 1.0000 - val_loss: 0.3728 - val_accuracy: 0.9503\n",
      "Epoch 13/20\n",
      "547/547 [==============================] - 133s 244ms/step - loss: 9.7508e-06 - accuracy: 1.0000 - val_loss: 0.3877 - val_accuracy: 0.9507\n",
      "Epoch 14/20\n",
      "547/547 [==============================] - 133s 244ms/step - loss: 6.8327e-06 - accuracy: 1.0000 - val_loss: 0.4020 - val_accuracy: 0.9509\n",
      "Epoch 15/20\n",
      "547/547 [==============================] - 135s 247ms/step - loss: 4.9453e-06 - accuracy: 1.0000 - val_loss: 0.4148 - val_accuracy: 0.9504\n",
      "Epoch 16/20\n",
      "547/547 [==============================] - 134s 244ms/step - loss: 3.6651e-06 - accuracy: 1.0000 - val_loss: 0.4267 - val_accuracy: 0.9503\n",
      "Epoch 17/20\n",
      "547/547 [==============================] - 134s 245ms/step - loss: 2.6996e-06 - accuracy: 1.0000 - val_loss: 0.4390 - val_accuracy: 0.9499\n",
      "Epoch 18/20\n",
      "547/547 [==============================] - 134s 245ms/step - loss: 2.0425e-06 - accuracy: 1.0000 - val_loss: 0.4503 - val_accuracy: 0.9491\n",
      "Epoch 19/20\n",
      "547/547 [==============================] - 134s 246ms/step - loss: 1.5379e-06 - accuracy: 1.0000 - val_loss: 0.4620 - val_accuracy: 0.9488\n",
      "Epoch 20/20\n",
      "547/547 [==============================] - 136s 248ms/step - loss: 1.1627e-06 - accuracy: 1.0000 - val_loss: 0.4736 - val_accuracy: 0.9487\n",
      "Desempeño (exactitud): accu_v1=0.9486666917800903 , accu_v2=0.8482800126075745\n",
      "Epoch 1/20\n",
      "547/547 [==============================] - 138s 252ms/step - loss: 0.1080 - accuracy: 0.9692 - val_loss: 0.0846 - val_accuracy: 0.9729\n",
      "Epoch 2/20\n",
      "547/547 [==============================] - 133s 243ms/step - loss: 0.0276 - accuracy: 0.9923 - val_loss: 0.0923 - val_accuracy: 0.9735\n",
      "Epoch 3/20\n",
      "547/547 [==============================] - 133s 242ms/step - loss: 0.0065 - accuracy: 0.9987 - val_loss: 0.1105 - val_accuracy: 0.9713\n",
      "Epoch 4/20\n",
      "547/547 [==============================] - 132s 242ms/step - loss: 0.0027 - accuracy: 0.9996 - val_loss: 0.1187 - val_accuracy: 0.9713\n",
      "Epoch 5/20\n",
      "547/547 [==============================] - 132s 241ms/step - loss: 0.0015 - accuracy: 0.9998 - val_loss: 0.1281 - val_accuracy: 0.9713\n",
      "Epoch 6/20\n",
      "547/547 [==============================] - 134s 246ms/step - loss: 0.0010 - accuracy: 0.9999 - val_loss: 0.1484 - val_accuracy: 0.9707\n",
      "Epoch 7/20\n",
      "547/547 [==============================] - 133s 242ms/step - loss: 7.8972e-04 - accuracy: 0.9999 - val_loss: 0.1666 - val_accuracy: 0.9695\n",
      "Epoch 8/20\n",
      "547/547 [==============================] - 133s 242ms/step - loss: 7.9299e-04 - accuracy: 0.9998 - val_loss: 0.1877 - val_accuracy: 0.9665\n",
      "Epoch 9/20\n",
      "547/547 [==============================] - 134s 245ms/step - loss: 0.0183 - accuracy: 0.9945 - val_loss: 0.1879 - val_accuracy: 0.9501\n",
      "Epoch 10/20\n",
      "547/547 [==============================] - 128s 234ms/step - loss: 0.0056 - accuracy: 0.9983 - val_loss: 0.1709 - val_accuracy: 0.9581\n",
      "Epoch 11/20\n",
      "547/547 [==============================] - 129s 237ms/step - loss: 0.0011 - accuracy: 0.9997 - val_loss: 0.1749 - val_accuracy: 0.9623\n",
      "Epoch 12/20\n",
      "547/547 [==============================] - 128s 234ms/step - loss: 6.2050e-05 - accuracy: 1.0000 - val_loss: 0.1867 - val_accuracy: 0.9633\n",
      "Epoch 13/20\n",
      "547/547 [==============================] - 132s 241ms/step - loss: 3.4189e-05 - accuracy: 1.0000 - val_loss: 0.1960 - val_accuracy: 0.9631\n",
      "Epoch 14/20\n",
      "547/547 [==============================] - 131s 240ms/step - loss: 2.2952e-05 - accuracy: 1.0000 - val_loss: 0.2041 - val_accuracy: 0.9631\n",
      "Epoch 15/20\n",
      "547/547 [==============================] - 132s 241ms/step - loss: 1.6377e-05 - accuracy: 1.0000 - val_loss: 0.2116 - val_accuracy: 0.9629\n",
      "Epoch 16/20\n",
      "547/547 [==============================] - 129s 236ms/step - loss: 1.2103e-05 - accuracy: 1.0000 - val_loss: 0.2188 - val_accuracy: 0.9631\n",
      "Epoch 17/20\n",
      "547/547 [==============================] - 134s 244ms/step - loss: 9.0872e-06 - accuracy: 1.0000 - val_loss: 0.2260 - val_accuracy: 0.9635\n",
      "Epoch 18/20\n",
      "547/547 [==============================] - 132s 241ms/step - loss: 6.8713e-06 - accuracy: 1.0000 - val_loss: 0.2332 - val_accuracy: 0.9631\n",
      "Epoch 19/20\n",
      "547/547 [==============================] - 135s 247ms/step - loss: 5.2213e-06 - accuracy: 1.0000 - val_loss: 0.2406 - val_accuracy: 0.9633\n",
      "Epoch 20/20\n",
      "547/547 [==============================] - 132s 241ms/step - loss: 3.9849e-06 - accuracy: 1.0000 - val_loss: 0.2481 - val_accuracy: 0.9632\n",
      "Desempeño (exactitud): accu_v1=0.9631999731063843 , accu_v2=0.8429999947547913\n",
      "+--------+--------+--------+\n",
      "| Exac_E | Exac_V | Exac_P |\n",
      "+--------+--------+--------+\n",
      "| 0.9987 | 0.836  | 0.8204 |\n",
      "|  1.0   | 0.9487 | 0.8483 |\n",
      "|  1.0   | 0.9632 | 0.843  |\n",
      "+--------+--------+--------+\n"
     ]
    }
   ],
   "source": [
    "# Inicializamos la tabla donde guardamos los resultados\n",
    "x = PrettyTable([\"Exac_E\", \"Exac_V\", \"Exac_P\"])\n",
    "\n",
    "# Definimos el número máximo de iteraciones (épocas de la red)\n",
    "epocas = 20\n",
    "\n",
    "# Definimos los parametros del Adam\n",
    "adam = keras.optimizers.Adam(lr=0.001, beta_1=0.9, beta_2=0.999)\n",
    "\n",
    "# Inicializamos el error \n",
    "err_p = 999\n",
    "\n",
    "for i in range(0,3,1):\n",
    "    r = i^3\n",
    "    CE_x, CV_x, CE_y, CV_y = train_test_split(x_train, y_train, test_size = 0.3, random_state = r)\n",
    "          \n",
    "    # Definimos el método de optimización con respecto a su funcion de perdida (además guardamos la exactitud para cada iteracion)\n",
    "    model = keras.Model(inputs, outputs)\n",
    "    model.compile(loss='binary_crossentropy', optimizer=adam, metrics=['accuracy'])\n",
    "    \n",
    "    # Ajustamos el modelo\n",
    "    history=model.fit(x=CE_x, y=CE_y, epochs=epocas, validation_data=(CV_x, CV_y), verbose=1, shuffle=False)\n",
    "      \n",
    "    # Calculamos las metricas\n",
    "    train_metrics = model.evaluate(x=CE_x, y=CE_y, verbose=0)\n",
    "    valid_metrics = model.evaluate(x=CV_x, y=CV_y, verbose=0)\n",
    "    test_metrics = model.evaluate(x=x_val, y=y_val, verbose=0)\n",
    "    \n",
    "    # Guardamos las métricas de desempeño\n",
    "    accu_e = train_metrics[1]\n",
    "    loss_e = train_metrics[0]\n",
    "    accu_v = valid_metrics[1]\n",
    "    loss_v = valid_metrics[0]\n",
    "    accu_p = test_metrics[1]\n",
    "    loss_p = test_metrics[0]\n",
    "    \n",
    "    if (loss_p < err_p):\n",
    "        pathr =('LSTM_part='+str(r)+'.h5')\n",
    "        model.save(pathr) \n",
    "        err_p = loss_p\n",
    "    \n",
    "    # Imprimimos el desempeño para cada repetición\n",
    "    print('Desempeño (exactitud): accu_v1='+str(accu_v) +' , accu_v2='+str(accu_p))\n",
    "    \n",
    "    x.add_row([np.round(accu_e,4), np.round(accu_v,4), np.round(accu_p,4)])\n",
    "\n",
    "print(x)\n"
   ]
  },
  {
   "cell_type": "code",
   "execution_count": 13,
   "metadata": {},
   "outputs": [
    {
     "data": {
      "image/png": "[encoded data removed]",
      "text/plain": [
       "<Figure size 432x288 with 1 Axes>"
      ]
     },
     "metadata": {
      "needs_background": "light"
     },
     "output_type": "display_data"
    },
    {
     "data": {
      "image/png": "[encoded data removed]",
      "text/plain": [
       "<Figure size 432x288 with 1 Axes>"
      ]
     },
     "metadata": {
      "needs_background": "light"
     },
     "output_type": "display_data"
    }
   ],
   "source": [
    "plt.figure(1)\n",
    "plt.plot(history.history['accuracy'])  \n",
    "plt.plot(history.history['val_accuracy'])  \n",
    "plt.title('Exactitud')  \n",
    "plt.ylabel('Acc')  \n",
    "plt.xlabel('Epoca')  \n",
    "plt.legend(['Entreno', 'Validacion'], loc = 'lower right')\n",
    "plt.show()\n",
    "\n",
    "plt.figure(1) \n",
    "plt.plot(history.history['loss'])  \n",
    "plt.plot(history.history['val_loss'])  \n",
    "plt.title('Pérdida')  \n",
    "plt.ylabel('Pérdida')  \n",
    "plt.xlabel('Epoca')  \n",
    "plt.legend(['Entreno', 'Validación'], loc='upper right')  \n",
    "plt.show()"
   ]
  },
  {
   "cell_type": "markdown",
   "metadata": {},
   "source": [
    "Recuperamos el mejor modelo:"
   ]
  },
  {
   "cell_type": "code",
   "execution_count": 14,
   "metadata": {},
   "outputs": [
    {
     "name": "stdout",
     "output_type": "stream",
     "text": [
      "Model: \"functional_11\"\n",
      "_________________________________________________________________\n",
      "Layer (type)                 Output Shape              Param #   \n",
      "=================================================================\n",
      "input_2 (InputLayer)         [(None, None)]            0         \n",
      "_________________________________________________________________\n",
      "embedding_1 (Embedding)      (None, None, 128)         2560000   \n",
      "_________________________________________________________________\n",
      "lstm_1 (LSTM)                (None, None, 64)          49408     \n",
      "_________________________________________________________________\n",
      "lstm_2 (LSTM)                (None, 64)                33024     \n",
      "_________________________________________________________________\n",
      "dense_1 (Dense)              (None, 1)                 65        \n",
      "=================================================================\n",
      "Total params: 2,642,497\n",
      "Trainable params: 2,642,497\n",
      "Non-trainable params: 0\n",
      "_________________________________________________________________\n"
     ]
    }
   ],
   "source": [
    "# B-RNN LSTM\n",
    "model_lstm = load_model('LSTM_part=3.h5')\n",
    "\n",
    "model_lstm.summary()"
   ]
  },
  {
   "cell_type": "markdown",
   "metadata": {},
   "source": [
    "Replicamos los resultados obtenidos anteriormente:"
   ]
  },
  {
   "cell_type": "code",
   "execution_count": 15,
   "metadata": {},
   "outputs": [
    {
     "name": "stdout",
     "output_type": "stream",
     "text": [
      "[[11977   523]\n",
      " [  729 11771]]\n",
      "Exactitud:  0.9499199986457825\n"
     ]
    }
   ],
   "source": [
    "Y_predt = model_lstm.predict(x_train)\n",
    "Y_predst = (Y_predt > 0.5)\n",
    "\n",
    "print(confusion_matrix(y_train, Y_predst))\n",
    "print(\"Exactitud: \", model_lstm.evaluate(x=x_train, y=y_train, verbose=0)[1])"
   ]
  },
  {
   "cell_type": "markdown",
   "metadata": {},
   "source": [
    "Reportamos el desempeño del modelo con los datos de prueba (fuera de la muestra):"
   ]
  },
  {
   "cell_type": "code",
   "execution_count": 16,
   "metadata": {},
   "outputs": [
    {
     "name": "stdout",
     "output_type": "stream",
     "text": [
      "[[10716  1784]\n",
      " [ 2705  9795]]\n",
      "Exactitud:  0.8204399943351746\n"
     ]
    }
   ],
   "source": [
    "Y_predv = model_lstm.predict(x_val)\n",
    "Y_predsv = (Y_predv > 0.5)\n",
    "\n",
    "print(confusion_matrix(y_val, Y_predsv))\n",
    "print(\"Exactitud: \", model_lstm.evaluate(x=x_val, y=y_val, verbose=0)[1])"
   ]
  },
  {
   "cell_type": "markdown",
   "metadata": {},
   "source": [
    "El modelo inicial que mostro tener el mejor desempeño fue la red neuronal recurrente de tipo GRU con una exactitus sobre la base de prueba igual a 84.91%. Dado que en la anteriores modelos se tuvo siempre en cuenta el número de capas escondidas, lo que intentamos en esta ocasión fue cambiar la cantidad de épocas a 20 con el fin de observar una mejoria en la exactitud del modelo. Para ello decidimos utilizar una red neuronal recurrente de tipo LSTM con dos capas escodindas; sin embargo, tras correr el modelo encontramos un buen desempeño sobre la prueba de entrenamiento (94.99%), pero con resultados inferiores sobre la base de prueba en relación al modelo GRU (82.04%). \n",
    "\n",
    "En este caso, de igual forma, es posible ver que el modelo no converge, siendo la exactitud sobre la base prueba casi igual a 100% desde la segunda epoca. Esto, al contrario, no sucede con el desempeño sobre la validación, la cual alcanza, a lo sumo, un valor igual a 97% en la rpimera epoca y luego empieza a caer. Este resultado da a pensar que seguimos generando un modelo que hace overfitting de la data.\n",
    "\n",
    "Dado este resultado, vamos a intentar resolver el problema utilizando una red convolucional."
   ]
  },
  {
   "cell_type": "code",
   "execution_count": 28,
   "metadata": {},
   "outputs": [
    {
     "name": "stdout",
     "output_type": "stream",
     "text": [
      "Model: \"functional_17\"\n",
      "_________________________________________________________________\n",
      "Layer (type)                 Output Shape              Param #   \n",
      "=================================================================\n",
      "input_12 (InputLayer)        [(None, None)]            0         \n",
      "_________________________________________________________________\n",
      "embedding_11 (Embedding)     (None, None, 128)         2560000   \n",
      "_________________________________________________________________\n",
      "conv1d_9 (Conv1D)            (None, None, 32)          12320     \n",
      "_________________________________________________________________\n",
      "max_pooling1d_3 (MaxPooling1 (None, None, 32)          0         \n",
      "_________________________________________________________________\n",
      "global_max_pooling1d (Global (None, 32)                0         \n",
      "_________________________________________________________________\n",
      "dense_4 (Dense)              (None, 250)               8250      \n",
      "_________________________________________________________________\n",
      "dense_5 (Dense)              (None, 1)                 251       \n",
      "=================================================================\n",
      "Total params: 2,580,821\n",
      "Trainable params: 2,580,821\n",
      "Non-trainable params: 0\n",
      "_________________________________________________________________\n"
     ]
    }
   ],
   "source": [
    "# Modelo CNN\n",
    "\n",
    "# Input con secuencias de enteros con longitud variable\n",
    "inputs = keras.Input(shape=(None,), dtype=\"int32\")\n",
    "\n",
    "# Conseguimos la representación vectorial (embedding) de cada entero en un vector 128-dimensional\n",
    "x = layers.Embedding(max_features, 128)(inputs)\n",
    "\n",
    "# Añadimos 2 unidades LSTM \n",
    "x = layers.Conv1D(32, 3, padding='same', activation='relu')(x)\n",
    "x = layers.MaxPooling1D()(x)\n",
    "x = layers.GlobalMaxPooling1D()(x)\n",
    "x = layers.Dense(250, activation = 'relu')(x)\n",
    "\n",
    "# Añadimos un clasificador binario en la salida\n",
    "outputs = layers.Dense(1, activation=\"sigmoid\")(x)\n",
    "\n",
    "# Gaurdamos la arquitectura del modelo\n",
    "model = keras.Model(inputs, outputs)\n",
    "model.summary()"
   ]
  },
  {
   "cell_type": "code",
   "execution_count": 29,
   "metadata": {},
   "outputs": [
    {
     "name": "stdout",
     "output_type": "stream",
     "text": [
      "Epoch 1/3\n",
      "547/547 [==============================] - 22s 40ms/step - loss: 0.4257 - accuracy: 0.7969 - val_loss: 0.3015 - val_accuracy: 0.8720\n",
      "Epoch 2/3\n",
      "547/547 [==============================] - 24s 44ms/step - loss: 0.1617 - accuracy: 0.9374 - val_loss: 0.3415 - val_accuracy: 0.8721\n",
      "Epoch 3/3\n",
      "547/547 [==============================] - 23s 43ms/step - loss: 0.0369 - accuracy: 0.9893 - val_loss: 0.3980 - val_accuracy: 0.8795\n",
      "Desempeño (exactitud): accu_v1=0.8794666528701782 , accu_v2=0.8686800003051758\n",
      "Epoch 1/3\n",
      "547/547 [==============================] - 25s 46ms/step - loss: 0.1434 - accuracy: 0.9489 - val_loss: 0.1354 - val_accuracy: 0.9528\n",
      "Epoch 2/3\n",
      "547/547 [==============================] - 24s 45ms/step - loss: 0.0193 - accuracy: 0.9954 - val_loss: 0.1494 - val_accuracy: 0.9559\n",
      "Epoch 3/3\n",
      "547/547 [==============================] - 26s 47ms/step - loss: 0.0012 - accuracy: 1.0000 - val_loss: 0.1555 - val_accuracy: 0.9576\n",
      "Desempeño (exactitud): accu_v1=0.9575999975204468 , accu_v2=0.873520016670227\n",
      "Epoch 1/3\n",
      "547/547 [==============================] - 27s 49ms/step - loss: 0.0664 - accuracy: 0.9790 - val_loss: 0.0601 - val_accuracy: 0.9813\n",
      "Epoch 2/3\n",
      "547/547 [==============================] - 26s 48ms/step - loss: 0.0087 - accuracy: 0.9978 - val_loss: 0.0568 - val_accuracy: 0.9828\n",
      "Epoch 3/3\n",
      "547/547 [==============================] - 28s 52ms/step - loss: 6.5473e-04 - accuracy: 0.9999 - val_loss: 0.0608 - val_accuracy: 0.9824\n",
      "Desempeño (exactitud): accu_v1=0.9824000000953674 , accu_v2=0.8728799819946289\n",
      "+--------+--------+--------+\n",
      "| Exac_E | Exac_V | Exac_P |\n",
      "+--------+--------+--------+\n",
      "| 0.999  | 0.8795 | 0.8687 |\n",
      "|  1.0   | 0.9576 | 0.8735 |\n",
      "|  1.0   | 0.9824 | 0.8729 |\n",
      "+--------+--------+--------+\n"
     ]
    }
   ],
   "source": [
    "# Inicializamos la tabla donde guardamos los resultados\n",
    "x = PrettyTable([\"Exac_E\", \"Exac_V\", \"Exac_P\"])\n",
    "\n",
    "# Definimos el número máximo de iteraciones (épocas de la red)\n",
    "epocas = 3\n",
    "\n",
    "# Definimos los parametros del Adam\n",
    "adam = keras.optimizers.Adam(lr=0.001, beta_1=0.9, beta_2=0.999)\n",
    "\n",
    "# Inicializamos el error \n",
    "err_p = 999\n",
    "\n",
    "for i in range(0,3,1):\n",
    "    r = i^3\n",
    "    CE_x, CV_x, CE_y, CV_y = train_test_split(x_train, y_train, test_size = 0.3, random_state = r)\n",
    "          \n",
    "    # Definimos el método de optimización con respecto a su funcion de perdida (además guardamos la exactitud para cada iteracion)\n",
    "    model = keras.Model(inputs, outputs)\n",
    "    model.compile(loss='binary_crossentropy', optimizer=adam, metrics=['accuracy'])\n",
    "    \n",
    "    # Ajustamos el modelo\n",
    "    history=model.fit(x=CE_x, y=CE_y, epochs=epocas, validation_data=(CV_x, CV_y), verbose=1, shuffle=False)\n",
    "      \n",
    "    # Calculamos las metricas\n",
    "    train_metrics = model.evaluate(x=CE_x, y=CE_y, verbose=0)\n",
    "    valid_metrics = model.evaluate(x=CV_x, y=CV_y, verbose=0)\n",
    "    test_metrics = model.evaluate(x=x_val, y=y_val, verbose=0)\n",
    "    \n",
    "    # Guardamos las métricas de desempeño\n",
    "    accu_e = train_metrics[1]\n",
    "    loss_e = train_metrics[0]\n",
    "    accu_v = valid_metrics[1]\n",
    "    loss_v = valid_metrics[0]\n",
    "    accu_p = test_metrics[1]\n",
    "    loss_p = test_metrics[0]\n",
    "    \n",
    "    if (loss_p < err_p):\n",
    "        pathr =('CNN_part='+str(r)+'.h5')\n",
    "        model.save(pathr) \n",
    "        err_p = loss_p\n",
    "    \n",
    "    # Imprimimos el desempeño para cada repetición\n",
    "    print('Desempeño (exactitud): accu_v1='+str(accu_v) +' , accu_v2='+str(accu_p))\n",
    "    \n",
    "    x.add_row([np.round(accu_e,4), np.round(accu_v,4), np.round(accu_p,4)])\n",
    "\n",
    "print(x)\n"
   ]
  },
  {
   "cell_type": "code",
   "execution_count": 30,
   "metadata": {},
   "outputs": [
    {
     "data": {
      "image/png": "[encoded data removed]",
      "text/plain": [
       "<Figure size 432x288 with 1 Axes>"
      ]
     },
     "metadata": {
      "needs_background": "light"
     },
     "output_type": "display_data"
    },
    {
     "data": {
      "image/png": "[encoded data removed]",
      "text/plain": [
       "<Figure size 432x288 with 1 Axes>"
      ]
     },
     "metadata": {
      "needs_background": "light"
     },
     "output_type": "display_data"
    }
   ],
   "source": [
    "plt.figure(1)\n",
    "plt.plot(history.history['accuracy'])  \n",
    "plt.plot(history.history['val_accuracy'])  \n",
    "plt.title('Exactitud')  \n",
    "plt.ylabel('Acc')  \n",
    "plt.xlabel('Epoca')  \n",
    "plt.legend(['Entreno', 'Validacion'], loc = 'lower right')\n",
    "plt.show()\n",
    "\n",
    "plt.figure(1) \n",
    "plt.plot(history.history['loss'])  \n",
    "plt.plot(history.history['val_loss'])  \n",
    "plt.title('Pérdida')  \n",
    "plt.ylabel('Pérdida')  \n",
    "plt.xlabel('Epoca')  \n",
    "plt.legend(['Entreno', 'Validación'], loc='upper right')  \n",
    "plt.show()"
   ]
  },
  {
   "cell_type": "markdown",
   "metadata": {},
   "source": [
    "Recuperamos el mejor modelo:"
   ]
  },
  {
   "cell_type": "code",
   "execution_count": 31,
   "metadata": {},
   "outputs": [
    {
     "name": "stdout",
     "output_type": "stream",
     "text": [
      "Model: \"functional_19\"\n",
      "_________________________________________________________________\n",
      "Layer (type)                 Output Shape              Param #   \n",
      "=================================================================\n",
      "input_12 (InputLayer)        [(None, None)]            0         \n",
      "_________________________________________________________________\n",
      "embedding_11 (Embedding)     (None, None, 128)         2560000   \n",
      "_________________________________________________________________\n",
      "conv1d_9 (Conv1D)            (None, None, 32)          12320     \n",
      "_________________________________________________________________\n",
      "max_pooling1d_3 (MaxPooling1 (None, None, 32)          0         \n",
      "_________________________________________________________________\n",
      "global_max_pooling1d (Global (None, 32)                0         \n",
      "_________________________________________________________________\n",
      "dense_4 (Dense)              (None, 250)               8250      \n",
      "_________________________________________________________________\n",
      "dense_5 (Dense)              (None, 1)                 251       \n",
      "=================================================================\n",
      "Total params: 2,580,821\n",
      "Trainable params: 2,580,821\n",
      "Non-trainable params: 0\n",
      "_________________________________________________________________\n"
     ]
    }
   ],
   "source": [
    "# B-RNN LSTM\n",
    "model_cnn = load_model('CNN_part=3.h5')\n",
    "\n",
    "model_cnn.summary()"
   ]
  },
  {
   "cell_type": "markdown",
   "metadata": {},
   "source": [
    "Replicamos los resultados obtenidos anteriormente:"
   ]
  },
  {
   "cell_type": "code",
   "execution_count": 32,
   "metadata": {},
   "outputs": [
    {
     "name": "stdout",
     "output_type": "stream",
     "text": [
      "[[12061   439]\n",
      " [  482 12018]]\n",
      "Exactitud:  0.96315997838974\n"
     ]
    }
   ],
   "source": [
    "Y_predt = model_cnn.predict(x_train)\n",
    "Y_predst = (Y_predt > 0.5)\n",
    "\n",
    "print(confusion_matrix(y_train, Y_predst))\n",
    "print(\"Exactitud: \", model_cnn.evaluate(x=x_train, y=y_train, verbose=0)[1])"
   ]
  },
  {
   "cell_type": "markdown",
   "metadata": {},
   "source": [
    "Reportamos el desempeño del modelo con los datos de prueba (fuera de la muestra):"
   ]
  },
  {
   "cell_type": "code",
   "execution_count": 33,
   "metadata": {},
   "outputs": [
    {
     "name": "stdout",
     "output_type": "stream",
     "text": [
      "[[10985  1515]\n",
      " [ 1768 10732]]\n",
      "Exactitud:  0.8686800003051758\n"
     ]
    }
   ],
   "source": [
    "Y_predv = model_cnn.predict(x_val)\n",
    "Y_predsv = (Y_predv > 0.5)\n",
    "\n",
    "print(confusion_matrix(y_val, Y_predsv))\n",
    "print(\"Exactitud: \", model_cnn.evaluate(x=x_val, y=y_val, verbose=0)[1])"
   ]
  },
  {
   "cell_type": "markdown",
   "metadata": {},
   "source": [
    "Al intentar una red convolucional con una capa MaxPooling que extrae el valor máximo del área que extrae el valor máximo del área que convoluciona, una capa Global MaxPooling que establece el tamaño del pool igual al tamaño de entrada, de modo que el máximo de toda la entrada se calcula como el valor de salida, una capa densa y una capa de salida final. \n",
    "\n",
    "En este caso, bajo esta configuración encontramos que la exactitud del modelo mejora con respecto a la red neruronal recurrente de tipo GRU y pasa de 84.91% a 86.86%, lo que convierte a la red convolucional como el mejor modelo para clasificar los sentimientos de las peliculas. \n",
    "\n",
    "A pesar de la mejoría en la exactitud de la red convolucional, queremos ver si es posible modificar este tipo de red con el fin de generar una mejor exactitud, así como una posible convergencia del modelo. "
   ]
  },
  {
   "cell_type": "code",
   "execution_count": 36,
   "metadata": {},
   "outputs": [
    {
     "name": "stdout",
     "output_type": "stream",
     "text": [
      "Model: \"functional_27\"\n",
      "_________________________________________________________________\n",
      "Layer (type)                 Output Shape              Param #   \n",
      "=================================================================\n",
      "input_15 (InputLayer)        [(None, None)]            0         \n",
      "_________________________________________________________________\n",
      "embedding_14 (Embedding)     (None, None, 128)         2560000   \n",
      "_________________________________________________________________\n",
      "conv1d_12 (Conv1D)           (None, None, 32)          12320     \n",
      "_________________________________________________________________\n",
      "max_pooling1d_6 (MaxPooling1 (None, None, 32)          0         \n",
      "_________________________________________________________________\n",
      "global_max_pooling1d_1 (Glob (None, 32)                0         \n",
      "_________________________________________________________________\n",
      "dense_8 (Dense)              (None, 250)               8250      \n",
      "_________________________________________________________________\n",
      "dense_9 (Dense)              (None, 1)                 251       \n",
      "=================================================================\n",
      "Total params: 2,580,821\n",
      "Trainable params: 2,580,821\n",
      "Non-trainable params: 0\n",
      "_________________________________________________________________\n"
     ]
    }
   ],
   "source": [
    "# Modelo CNN\n",
    "\n",
    "# Input con secuencias de enteros con longitud variable\n",
    "inputs = keras.Input(shape=(None,), dtype=\"int32\")\n",
    "\n",
    "# Conseguimos la representación vectorial (embedding) de cada entero en un vector 128-dimensional\n",
    "x = layers.Embedding(max_features, 128)(inputs)\n",
    "\n",
    "# Añadimos 2 unidades LSTM \n",
    "x = layers.Conv1D(32, 3, padding='same', activation='relu')(x)\n",
    "x = layers.MaxPooling1D()(x)\n",
    "x = layers.GlobalMaxPooling1D()(x)\n",
    "x = layers.Dense(250, activation = 'relu')(x)\n",
    "\n",
    "# Añadimos un clasificador binario en la salida\n",
    "outputs = layers.Dense(1, activation=\"sigmoid\")(x)\n",
    "\n",
    "# Gaurdamos la arquitectura del modelo\n",
    "model = keras.Model(inputs, outputs)\n",
    "model.summary()"
   ]
  },
  {
   "cell_type": "code",
   "execution_count": 37,
   "metadata": {},
   "outputs": [
    {
     "name": "stdout",
     "output_type": "stream",
     "text": [
      "Epoch 1/3\n",
      "547/547 [==============================] - 32s 58ms/step - loss: 0.6849 - accuracy: 0.6309 - val_loss: 0.6656 - val_accuracy: 0.7304\n",
      "Epoch 2/3\n",
      "547/547 [==============================] - 35s 63ms/step - loss: 0.6174 - accuracy: 0.7465 - val_loss: 0.5655 - val_accuracy: 0.7564\n",
      "Epoch 3/3\n",
      "547/547 [==============================] - 34s 63ms/step - loss: 0.5056 - accuracy: 0.7868 - val_loss: 0.4695 - val_accuracy: 0.7941\n",
      "Desempeño (exactitud): accu_v1=0.7941333055496216 , accu_v2=0.7963200211524963\n",
      "Epoch 1/3\n",
      "547/547 [==============================] - 35s 64ms/step - loss: 0.4231 - accuracy: 0.8150 - val_loss: 0.3967 - val_accuracy: 0.8256\n",
      "Epoch 2/3\n",
      "547/547 [==============================] - 34s 63ms/step - loss: 0.3638 - accuracy: 0.8441 - val_loss: 0.3618 - val_accuracy: 0.8420\n",
      "Epoch 3/3\n",
      "547/547 [==============================] - 34s 62ms/step - loss: 0.3195 - accuracy: 0.8652 - val_loss: 0.3378 - val_accuracy: 0.8516\n",
      "Desempeño (exactitud): accu_v1=0.8515999913215637 , accu_v2=0.8471999764442444\n",
      "Epoch 1/3\n",
      "547/547 [==============================] - 34s 63ms/step - loss: 0.2996 - accuracy: 0.8712 - val_loss: 0.2823 - val_accuracy: 0.8817\n",
      "Epoch 2/3\n",
      "547/547 [==============================] - 33s 60ms/step - loss: 0.2669 - accuracy: 0.8894 - val_loss: 0.2702 - val_accuracy: 0.8884\n",
      "Epoch 3/3\n",
      "547/547 [==============================] - 34s 63ms/step - loss: 0.2384 - accuracy: 0.9061 - val_loss: 0.2611 - val_accuracy: 0.8917\n",
      "Desempeño (exactitud): accu_v1=0.8917333483695984 , accu_v2=0.8668000102043152\n",
      "+--------+--------+--------+\n",
      "| Exac_E | Exac_V | Exac_P |\n",
      "+--------+--------+--------+\n",
      "| 0.8127 | 0.7941 | 0.7963 |\n",
      "| 0.8801 | 0.8516 | 0.8472 |\n",
      "| 0.9189 | 0.8917 | 0.8668 |\n",
      "+--------+--------+--------+\n"
     ]
    }
   ],
   "source": [
    "# Inicializamos la tabla donde guardamos los resultados\n",
    "x = PrettyTable([\"Exac_E\", \"Exac_V\", \"Exac_P\"])\n",
    "\n",
    "# Definimos el número máximo de iteraciones (épocas de la red)\n",
    "epocas = 3\n",
    "\n",
    "# Definimos los parametros del Adam\n",
    "adam = keras.optimizers.Adam(lr=0.001, beta_1=0.9, beta_2=0.999)\n",
    "\n",
    "#Definimos los parametros del RMSProp\n",
    "rmsprop = keras.optimizers.RMSprop(lr=0.00008, rho=0.9)\n",
    "\n",
    "# Inicializamos el error \n",
    "err_p = 999\n",
    "\n",
    "for i in range(0,3,1):\n",
    "    r = i^3\n",
    "    CE_x, CV_x, CE_y, CV_y = train_test_split(x_train, y_train, test_size = 0.3, random_state = r)\n",
    "          \n",
    "    # Definimos el método de optimización con respecto a su funcion de perdida (además guardamos la exactitud para cada iteracion)\n",
    "    model = keras.Model(inputs, outputs)\n",
    "    model.compile(loss='binary_crossentropy', optimizer=rmsprop, metrics=['accuracy'])\n",
    "    \n",
    "    # Ajustamos el modelo\n",
    "    history=model.fit(x=CE_x, y=CE_y, epochs=epocas, validation_data=(CV_x, CV_y), verbose=1, shuffle=False)\n",
    "      \n",
    "    # Calculamos las metricas\n",
    "    train_metrics = model.evaluate(x=CE_x, y=CE_y, verbose=0)\n",
    "    valid_metrics = model.evaluate(x=CV_x, y=CV_y, verbose=0)\n",
    "    test_metrics = model.evaluate(x=x_val, y=y_val, verbose=0)\n",
    "    \n",
    "    # Guardamos las métricas de desempeño\n",
    "    accu_e = train_metrics[1]\n",
    "    loss_e = train_metrics[0]\n",
    "    accu_v = valid_metrics[1]\n",
    "    loss_v = valid_metrics[0]\n",
    "    accu_p = test_metrics[1]\n",
    "    loss_p = test_metrics[0]\n",
    "    \n",
    "    if (loss_p < err_p):\n",
    "        pathr =('CNNrms_part='+str(r)+'.h5')\n",
    "        model.save(pathr) \n",
    "        err_p = loss_p\n",
    "    \n",
    "    # Imprimimos el desempeño para cada repetición\n",
    "    print('Desempeño (exactitud): accu_v1='+str(accu_v) +' , accu_v2='+str(accu_p))\n",
    "    \n",
    "    x.add_row([np.round(accu_e,4), np.round(accu_v,4), np.round(accu_p,4)])\n",
    "\n",
    "print(x)\n"
   ]
  },
  {
   "cell_type": "code",
   "execution_count": 38,
   "metadata": {},
   "outputs": [
    {
     "data": {
      "image/png": "[encoded data removed]",
      "text/plain": [
       "<Figure size 432x288 with 1 Axes>"
      ]
     },
     "metadata": {
      "needs_background": "light"
     },
     "output_type": "display_data"
    },
    {
     "data": {
      "image/png": "[encoded data removed]",
      "text/plain": [
       "<Figure size 432x288 with 1 Axes>"
      ]
     },
     "metadata": {
      "needs_background": "light"
     },
     "output_type": "display_data"
    }
   ],
   "source": [
    "plt.figure(1)\n",
    "plt.plot(history.history['accuracy'])  \n",
    "plt.plot(history.history['val_accuracy'])  \n",
    "plt.title('Exactitud')  \n",
    "plt.ylabel('Acc')  \n",
    "plt.xlabel('Epoca')  \n",
    "plt.legend(['Entreno', 'Validacion'], loc = 'lower right')\n",
    "plt.show()\n",
    "\n",
    "plt.figure(1) \n",
    "plt.plot(history.history['loss'])  \n",
    "plt.plot(history.history['val_loss'])  \n",
    "plt.title('Pérdida')  \n",
    "plt.ylabel('Pérdida')  \n",
    "plt.xlabel('Epoca')  \n",
    "plt.legend(['Entreno', 'Validación'], loc='upper right')  \n",
    "plt.show()"
   ]
  },
  {
   "cell_type": "markdown",
   "metadata": {},
   "source": [
    "Recuperamos el mejor modelo:"
   ]
  },
  {
   "cell_type": "code",
   "execution_count": 39,
   "metadata": {},
   "outputs": [
    {
     "name": "stdout",
     "output_type": "stream",
     "text": [
      "Model: \"functional_29\"\n",
      "_________________________________________________________________\n",
      "Layer (type)                 Output Shape              Param #   \n",
      "=================================================================\n",
      "input_15 (InputLayer)        [(None, None)]            0         \n",
      "_________________________________________________________________\n",
      "embedding_14 (Embedding)     (None, None, 128)         2560000   \n",
      "_________________________________________________________________\n",
      "conv1d_12 (Conv1D)           (None, None, 32)          12320     \n",
      "_________________________________________________________________\n",
      "max_pooling1d_6 (MaxPooling1 (None, None, 32)          0         \n",
      "_________________________________________________________________\n",
      "global_max_pooling1d_1 (Glob (None, 32)                0         \n",
      "_________________________________________________________________\n",
      "dense_8 (Dense)              (None, 250)               8250      \n",
      "_________________________________________________________________\n",
      "dense_9 (Dense)              (None, 1)                 251       \n",
      "=================================================================\n",
      "Total params: 2,580,821\n",
      "Trainable params: 2,580,821\n",
      "Non-trainable params: 0\n",
      "_________________________________________________________________\n"
     ]
    }
   ],
   "source": [
    "# B-RNN LSTM\n",
    "model_cnnrms = load_model('CNNrms_part=3.h5')\n",
    "\n",
    "model_cnnrms.summary()"
   ]
  },
  {
   "cell_type": "markdown",
   "metadata": {},
   "source": [
    "Replicamos los resultados obtenidos anteriormente:"
   ]
  },
  {
   "cell_type": "code",
   "execution_count": 40,
   "metadata": {},
   "outputs": [
    {
     "name": "stdout",
     "output_type": "stream",
     "text": [
      "[[ 9747  2753]\n",
      " [ 2068 10432]]\n",
      "Exactitud:  0.8071600198745728\n"
     ]
    }
   ],
   "source": [
    "Y_predt = model_cnnrms.predict(x_train)\n",
    "Y_predst = (Y_predt > 0.5)\n",
    "\n",
    "print(confusion_matrix(y_train, Y_predst))\n",
    "print(\"Exactitud: \", model_cnnrms.evaluate(x=x_train, y=y_train, verbose=0)[1])"
   ]
  },
  {
   "cell_type": "markdown",
   "metadata": {},
   "source": [
    "Reportamos el desempeño del modelo con los datos de prueba (fuera de la muestra):"
   ]
  },
  {
   "cell_type": "code",
   "execution_count": 41,
   "metadata": {},
   "outputs": [
    {
     "name": "stdout",
     "output_type": "stream",
     "text": [
      "[[ 9614  2886]\n",
      " [ 2206 10294]]\n",
      "Exactitud:  0.7963200211524963\n"
     ]
    }
   ],
   "source": [
    "Y_predv = model_cnnrms.predict(x_val)\n",
    "Y_predsv = (Y_predv > 0.5)\n",
    "\n",
    "print(confusion_matrix(y_val, Y_predsv))\n",
    "print(\"Exactitud: \", model_cnnrms.evaluate(x=x_val, y=y_val, verbose=0)[1])"
   ]
  },
  {
   "cell_type": "markdown",
   "metadata": {},
   "source": [
    "Como primera opción, modificamos el optimizado y lo cambiamos por el RMSProp. Los resultados caen en comapración con los anteriores modelos, sienda la exactitud sobre la base de prueba igual a 79.63%. Aunque este resultado es bajo, encontramos una leve mejoria con respecto a la convergencia del modelo con relación a los anteriores modelos. No obstante, a continuación volveremos al modelo de red convolución con la mejor exactitud, pero cambiando la capa de Global MaxPooling por una de Average Pooling."
   ]
  },
  {
   "cell_type": "code",
   "execution_count": 51,
   "metadata": {},
   "outputs": [
    {
     "name": "stdout",
     "output_type": "stream",
     "text": [
      "Model: \"functional_43\"\n",
      "_________________________________________________________________\n",
      "Layer (type)                 Output Shape              Param #   \n",
      "=================================================================\n",
      "input_17 (InputLayer)        [(None, None)]            0         \n",
      "_________________________________________________________________\n",
      "embedding_16 (Embedding)     (None, None, 128)         2560000   \n",
      "_________________________________________________________________\n",
      "conv1d_14 (Conv1D)           (None, None, 64)          24640     \n",
      "_________________________________________________________________\n",
      "max_pooling1d_8 (MaxPooling1 (None, None, 64)          0         \n",
      "_________________________________________________________________\n",
      "global_max_pooling1d_2 (Glob (None, 64)                0         \n",
      "_________________________________________________________________\n",
      "dense_12 (Dense)             (None, 250)               16250     \n",
      "_________________________________________________________________\n",
      "dense_13 (Dense)             (None, 1)                 251       \n",
      "=================================================================\n",
      "Total params: 2,601,141\n",
      "Trainable params: 2,601,141\n",
      "Non-trainable params: 0\n",
      "_________________________________________________________________\n"
     ]
    }
   ],
   "source": [
    "# Modelo CNN\n",
    "\n",
    "# Input con secuencias de enteros con longitud variable\n",
    "inputs = keras.Input(shape=(None,), dtype=\"int32\")\n",
    "\n",
    "# Conseguimos la representación vectorial (embedding) de cada entero en un vector 128-dimensional\n",
    "x = layers.Embedding(max_features, 128)(inputs)\n",
    "\n",
    "# Añadimos 2 unidades LSTM \n",
    "x = layers.Conv1D(64, 3, padding='same', activation='relu')(x)\n",
    "x = layers.MaxPooling1D()(x)\n",
    "x = layers.GlobalMaxPooling1D()(x)\n",
    "x = layers.Dense(250, activation = 'relu')(x)\n",
    "\n",
    "# Añadimos un clasificador binario en la salida\n",
    "outputs = layers.Dense(1, activation=\"sigmoid\")(x)\n",
    "\n",
    "# Gaurdamos la arquitectura del modelo\n",
    "model = keras.Model(inputs, outputs)\n",
    "model.summary()"
   ]
  },
  {
   "cell_type": "code",
   "execution_count": 52,
   "metadata": {},
   "outputs": [
    {
     "name": "stdout",
     "output_type": "stream",
     "text": [
      "Epoch 1/3\n",
      "547/547 [==============================] - 36s 66ms/step - loss: 0.4092 - accuracy: 0.8039 - val_loss: 0.2895 - val_accuracy: 0.8735\n",
      "Epoch 2/3\n",
      "547/547 [==============================] - 38s 69ms/step - loss: 0.1508 - accuracy: 0.9446 - val_loss: 0.3179 - val_accuracy: 0.8807\n",
      "Epoch 3/3\n",
      "547/547 [==============================] - 38s 69ms/step - loss: 0.0317 - accuracy: 0.9915 - val_loss: 0.4140 - val_accuracy: 0.8772\n",
      "Desempeño (exactitud): accu_v1=0.8772000074386597 , accu_v2=0.8718799948692322\n",
      "Epoch 1/3\n",
      "547/547 [==============================] - 41s 75ms/step - loss: 0.1263 - accuracy: 0.9562 - val_loss: 0.1318 - val_accuracy: 0.9564\n",
      "Epoch 2/3\n",
      "547/547 [==============================] - 35s 65ms/step - loss: 0.0144 - accuracy: 0.9966 - val_loss: 0.1540 - val_accuracy: 0.9580\n",
      "Epoch 3/3\n",
      "547/547 [==============================] - 35s 65ms/step - loss: 0.0011 - accuracy: 0.9999 - val_loss: 0.1581 - val_accuracy: 0.9581\n",
      "Desempeño (exactitud): accu_v1=0.958133339881897 , accu_v2=0.8807200193405151\n",
      "Epoch 1/3\n",
      "547/547 [==============================] - 36s 66ms/step - loss: 0.0656 - accuracy: 0.9788 - val_loss: 0.0560 - val_accuracy: 0.9823\n",
      "Epoch 2/3\n",
      "547/547 [==============================] - 35s 65ms/step - loss: 0.0091 - accuracy: 0.9971 - val_loss: 0.0640 - val_accuracy: 0.9831\n",
      "Epoch 3/3\n",
      "547/547 [==============================] - 36s 66ms/step - loss: 5.2172e-04 - accuracy: 1.0000 - val_loss: 0.0626 - val_accuracy: 0.9837\n",
      "Desempeño (exactitud): accu_v1=0.9837333559989929 , accu_v2=0.8763999938964844\n",
      "+--------+--------+--------+\n",
      "| Exac_E | Exac_V | Exac_P |\n",
      "+--------+--------+--------+\n",
      "| 0.9987 | 0.8772 | 0.8719 |\n",
      "|  1.0   | 0.9581 | 0.8807 |\n",
      "|  1.0   | 0.9837 | 0.8764 |\n",
      "+--------+--------+--------+\n"
     ]
    }
   ],
   "source": [
    "# Inicializamos la tabla donde guardamos los resultados\n",
    "x = PrettyTable([\"Exac_E\", \"Exac_V\", \"Exac_P\"])\n",
    "\n",
    "# Definimos el número máximo de iteraciones (épocas de la red)\n",
    "epocas = 3\n",
    "\n",
    "# Definimos los parametros del Adam\n",
    "adam = keras.optimizers.Adam(lr=0.001, beta_1=0.9, beta_2=0.999)\n",
    "\n",
    "#Definimos los parametros del RMSProp\n",
    "rmsprop = keras.optimizers.RMSprop(lr=0.00008, rho=0.9)\n",
    "\n",
    "# Inicializamos el error \n",
    "err_p = 999\n",
    "\n",
    "for i in range(0,3,1):\n",
    "    r = i^3\n",
    "    CE_x, CV_x, CE_y, CV_y = train_test_split(x_train, y_train, test_size = 0.3, random_state = r)\n",
    "          \n",
    "    # Definimos el método de optimización con respecto a su funcion de perdida (además guardamos la exactitud para cada iteracion)\n",
    "    model = keras.Model(inputs, outputs)\n",
    "    model.compile(loss='binary_crossentropy', optimizer=adam, metrics=['accuracy'])\n",
    "    \n",
    "    # Ajustamos el modelo\n",
    "    history=model.fit(x=CE_x, y=CE_y, epochs=epocas, validation_data=(CV_x, CV_y), verbose=1, shuffle=False)\n",
    "      \n",
    "    # Calculamos las metricas\n",
    "    train_metrics = model.evaluate(x=CE_x, y=CE_y, verbose=0)\n",
    "    valid_metrics = model.evaluate(x=CV_x, y=CV_y, verbose=0)\n",
    "    test_metrics = model.evaluate(x=x_val, y=y_val, verbose=0)\n",
    "    \n",
    "    # Guardamos las métricas de desempeño\n",
    "    accu_e = train_metrics[1]\n",
    "    loss_e = train_metrics[0]\n",
    "    accu_v = valid_metrics[1]\n",
    "    loss_v = valid_metrics[0]\n",
    "    accu_p = test_metrics[1]\n",
    "    loss_p = test_metrics[0]\n",
    "    \n",
    "    if (loss_p < err_p):\n",
    "        pathr =('CNNaver_part='+str(r)+'.h5')\n",
    "        model.save(pathr) \n",
    "        err_p = loss_p\n",
    "    \n",
    "    # Imprimimos el desempeño para cada repetición\n",
    "    print('Desempeño (exactitud): accu_v1='+str(accu_v) +' , accu_v2='+str(accu_p))\n",
    "    \n",
    "    x.add_row([np.round(accu_e,4), np.round(accu_v,4), np.round(accu_p,4)])\n",
    "\n",
    "print(x)\n"
   ]
  },
  {
   "cell_type": "code",
   "execution_count": 53,
   "metadata": {},
   "outputs": [
    {
     "data": {
      "image/png": "[encoded data removed]",
      "text/plain": [
       "<Figure size 432x288 with 1 Axes>"
      ]
     },
     "metadata": {
      "needs_background": "light"
     },
     "output_type": "display_data"
    },
    {
     "data": {
      "image/png": "[encoded data removed]",
      "text/plain": [
       "<Figure size 432x288 with 1 Axes>"
      ]
     },
     "metadata": {
      "needs_background": "light"
     },
     "output_type": "display_data"
    }
   ],
   "source": [
    "plt.figure(1)\n",
    "plt.plot(history.history['accuracy'])  \n",
    "plt.plot(history.history['val_accuracy'])  \n",
    "plt.title('Exactitud')  \n",
    "plt.ylabel('Acc')  \n",
    "plt.xlabel('Epoca')  \n",
    "plt.legend(['Entreno', 'Validacion'], loc = 'lower right')\n",
    "plt.show()\n",
    "\n",
    "plt.figure(1) \n",
    "plt.plot(history.history['loss'])  \n",
    "plt.plot(history.history['val_loss'])  \n",
    "plt.title('Pérdida')  \n",
    "plt.ylabel('Pérdida')  \n",
    "plt.xlabel('Epoca')  \n",
    "plt.legend(['Entreno', 'Validación'], loc='upper right')  \n",
    "plt.show()"
   ]
  },
  {
   "cell_type": "markdown",
   "metadata": {},
   "source": [
    "Recuperamos el mejor modelo:"
   ]
  },
  {
   "cell_type": "code",
   "execution_count": 54,
   "metadata": {},
   "outputs": [
    {
     "name": "stdout",
     "output_type": "stream",
     "text": [
      "Model: \"functional_45\"\n",
      "_________________________________________________________________\n",
      "Layer (type)                 Output Shape              Param #   \n",
      "=================================================================\n",
      "input_17 (InputLayer)        [(None, None)]            0         \n",
      "_________________________________________________________________\n",
      "embedding_16 (Embedding)     (None, None, 128)         2560000   \n",
      "_________________________________________________________________\n",
      "conv1d_14 (Conv1D)           (None, None, 64)          24640     \n",
      "_________________________________________________________________\n",
      "max_pooling1d_8 (MaxPooling1 (None, None, 64)          0         \n",
      "_________________________________________________________________\n",
      "global_max_pooling1d_2 (Glob (None, 64)                0         \n",
      "_________________________________________________________________\n",
      "dense_12 (Dense)             (None, 250)               16250     \n",
      "_________________________________________________________________\n",
      "dense_13 (Dense)             (None, 1)                 251       \n",
      "=================================================================\n",
      "Total params: 2,601,141\n",
      "Trainable params: 2,601,141\n",
      "Non-trainable params: 0\n",
      "_________________________________________________________________\n"
     ]
    }
   ],
   "source": [
    "# B-RNN LSTM\n",
    "model_cnnaver = load_model('CNNaver_part=3.h5')\n",
    "\n",
    "model_cnnaver.summary()"
   ]
  },
  {
   "cell_type": "markdown",
   "metadata": {},
   "source": [
    "Replicamos los resultados obtenidos anteriormente:"
   ]
  },
  {
   "cell_type": "code",
   "execution_count": 55,
   "metadata": {},
   "outputs": [
    {
     "name": "stdout",
     "output_type": "stream",
     "text": [
      "[[11830   670]\n",
      " [  273 12227]]\n",
      "Exactitud:  0.9622799754142761\n"
     ]
    }
   ],
   "source": [
    "Y_predt = model_cnnaver.predict(x_train)\n",
    "Y_predst = (Y_predt > 0.5)\n",
    "\n",
    "print(confusion_matrix(y_train, Y_predst))\n",
    "print(\"Exactitud: \", model_cnnaver.evaluate(x=x_train, y=y_train, verbose=0)[1])"
   ]
  },
  {
   "cell_type": "markdown",
   "metadata": {},
   "source": [
    "Reportamos el desempeño del modelo con los datos de prueba (fuera de la muestra):"
   ]
  },
  {
   "cell_type": "code",
   "execution_count": 56,
   "metadata": {},
   "outputs": [
    {
     "name": "stdout",
     "output_type": "stream",
     "text": [
      "[[10261  2239]\n",
      " [  964 11536]]\n",
      "Exactitud:  0.8718799948692322\n"
     ]
    }
   ],
   "source": [
    "Y_predv = model_cnnaver.predict(x_val)\n",
    "Y_predsv = (Y_predv > 0.5)\n",
    "\n",
    "print(confusion_matrix(y_val, Y_predsv))\n",
    "print(\"Exactitud: \", model_cnnaver.evaluate(x=x_val, y=y_val, verbose=0)[1])"
   ]
  },
  {
   "cell_type": "markdown",
   "metadata": {},
   "source": [
    "Al aumentar el número de neuronas de la primera capa escondida de 32 a 64 podemos observar que la exactitud del modelo mejor y pasa de 86.86% a 87.18%. Dado esto, ¿sera posible mejorar la exactitud del modelo si le agregamos neuronas adicionales a la priemra capa?  "
   ]
  },
  {
   "cell_type": "code",
   "execution_count": 63,
   "metadata": {},
   "outputs": [
    {
     "name": "stdout",
     "output_type": "stream",
     "text": [
      "Model: \"functional_59\"\n",
      "_________________________________________________________________\n",
      "Layer (type)                 Output Shape              Param #   \n",
      "=================================================================\n",
      "input_19 (InputLayer)        [(None, None)]            0         \n",
      "_________________________________________________________________\n",
      "embedding_18 (Embedding)     (None, None, 128)         2560000   \n",
      "_________________________________________________________________\n",
      "conv1d_16 (Conv1D)           (None, None, 128)         49280     \n",
      "_________________________________________________________________\n",
      "max_pooling1d_10 (MaxPooling (None, None, 128)         0         \n",
      "_________________________________________________________________\n",
      "global_max_pooling1d_4 (Glob (None, 128)               0         \n",
      "_________________________________________________________________\n",
      "dense_17 (Dense)             (None, 250)               32250     \n",
      "_________________________________________________________________\n",
      "dense_18 (Dense)             (None, 1)                 251       \n",
      "=================================================================\n",
      "Total params: 2,641,781\n",
      "Trainable params: 2,641,781\n",
      "Non-trainable params: 0\n",
      "_________________________________________________________________\n"
     ]
    }
   ],
   "source": [
    "# Modelo CNN\n",
    "\n",
    "# Input con secuencias de enteros con longitud variable\n",
    "inputs = keras.Input(shape=(None,), dtype=\"int32\")\n",
    "\n",
    "# Conseguimos la representación vectorial (embedding) de cada entero en un vector 128-dimensional\n",
    "x = layers.Embedding(max_features, 128)(inputs)\n",
    "\n",
    "# Añadimos 2 unidades LSTM \n",
    "x = layers.Conv1D(128, 3, padding='same', activation='relu')(x)\n",
    "x = layers.MaxPooling1D()(x)\n",
    "x = layers.GlobalMaxPooling1D()(x)\n",
    "x = layers.Dense(250, activation = 'relu')(x)\n",
    "\n",
    "# Añadimos un clasificador binario en la salida\n",
    "outputs = layers.Dense(1, activation=\"sigmoid\")(x)\n",
    "\n",
    "# Gaurdamos la arquitectura del modelo\n",
    "model = keras.Model(inputs, outputs)\n",
    "model.summary()"
   ]
  },
  {
   "cell_type": "code",
   "execution_count": 64,
   "metadata": {},
   "outputs": [
    {
     "name": "stdout",
     "output_type": "stream",
     "text": [
      "Epoch 1/3\n",
      "547/547 [==============================] - 41s 75ms/step - loss: 0.3984 - accuracy: 0.8093 - val_loss: 0.2782 - val_accuracy: 0.8835\n",
      "Epoch 2/3\n",
      "547/547 [==============================] - 40s 74ms/step - loss: 0.1415 - accuracy: 0.9485 - val_loss: 0.3125 - val_accuracy: 0.8824\n",
      "Epoch 3/3\n",
      "547/547 [==============================] - 41s 75ms/step - loss: 0.0355 - accuracy: 0.9886 - val_loss: 0.3897 - val_accuracy: 0.8879\n",
      "Desempeño (exactitud): accu_v1=0.8878666758537292 , accu_v2=0.8821200132369995\n",
      "Epoch 1/3\n",
      "547/547 [==============================] - 41s 75ms/step - loss: 0.1213 - accuracy: 0.9599 - val_loss: 0.1183 - val_accuracy: 0.9601\n",
      "Epoch 2/3\n",
      "547/547 [==============================] - 41s 75ms/step - loss: 0.0105 - accuracy: 0.9975 - val_loss: 0.1382 - val_accuracy: 0.9607\n",
      "Epoch 3/3\n",
      "547/547 [==============================] - 41s 75ms/step - loss: 0.0011 - accuracy: 0.9999 - val_loss: 0.1438 - val_accuracy: 0.9607\n",
      "Desempeño (exactitud): accu_v1=0.9606666564941406 , accu_v2=0.887719988822937\n",
      "Epoch 1/3\n",
      "547/547 [==============================] - 40s 73ms/step - loss: 0.0623 - accuracy: 0.9818 - val_loss: 0.0559 - val_accuracy: 0.9839\n",
      "Epoch 2/3\n",
      "547/547 [==============================] - 40s 74ms/step - loss: 0.0064 - accuracy: 0.9990 - val_loss: 0.0510 - val_accuracy: 0.9857\n",
      "Epoch 3/3\n",
      "547/547 [==============================] - 41s 74ms/step - loss: 3.2425e-04 - accuracy: 1.0000 - val_loss: 0.0538 - val_accuracy: 0.9856\n",
      "Desempeño (exactitud): accu_v1=0.9855999946594238 , accu_v2=0.8847600221633911\n",
      "+--------+--------+--------+\n",
      "| Exac_E | Exac_V | Exac_P |\n",
      "+--------+--------+--------+\n",
      "| 0.999  | 0.8879 | 0.8821 |\n",
      "|  1.0   | 0.9607 | 0.8877 |\n",
      "|  1.0   | 0.9856 | 0.8848 |\n",
      "+--------+--------+--------+\n"
     ]
    }
   ],
   "source": [
    "# Inicializamos la tabla donde guardamos los resultados\n",
    "x = PrettyTable([\"Exac_E\", \"Exac_V\", \"Exac_P\"])\n",
    "\n",
    "# Definimos el número máximo de iteraciones (épocas de la red)\n",
    "epocas = 3\n",
    "\n",
    "# Definimos los parametros del Adam\n",
    "adam = keras.optimizers.Adam(lr=0.001, beta_1=0.9, beta_2=0.999)\n",
    "\n",
    "#Definimos los parametros del RMSProp\n",
    "rmsprop = keras.optimizers.RMSprop(lr=0.00008, rho=0.9)\n",
    "\n",
    "# Inicializamos el error \n",
    "err_p = 999\n",
    "\n",
    "for i in range(0,3,1):\n",
    "    r = i^3\n",
    "    CE_x, CV_x, CE_y, CV_y = train_test_split(x_train, y_train, test_size = 0.3, random_state = r)\n",
    "          \n",
    "    # Definimos el método de optimización con respecto a su funcion de perdida (además guardamos la exactitud para cada iteracion)\n",
    "    model = keras.Model(inputs, outputs)\n",
    "    model.compile(loss='binary_crossentropy', optimizer=adam, metrics=['accuracy'])\n",
    "    \n",
    "    # Ajustamos el modelo\n",
    "    history=model.fit(x=CE_x, y=CE_y, epochs=epocas, validation_data=(CV_x, CV_y), verbose=1, shuffle=False)\n",
    "      \n",
    "    # Calculamos las metricas\n",
    "    train_metrics = model.evaluate(x=CE_x, y=CE_y, verbose=0)\n",
    "    valid_metrics = model.evaluate(x=CV_x, y=CV_y, verbose=0)\n",
    "    test_metrics = model.evaluate(x=x_val, y=y_val, verbose=0)\n",
    "    \n",
    "    # Guardamos las métricas de desempeño\n",
    "    accu_e = train_metrics[1]\n",
    "    loss_e = train_metrics[0]\n",
    "    accu_v = valid_metrics[1]\n",
    "    loss_v = valid_metrics[0]\n",
    "    accu_p = test_metrics[1]\n",
    "    loss_p = test_metrics[0]\n",
    "    \n",
    "    if (loss_p < err_p):\n",
    "        pathr =('CNNaver1_part='+str(r)+'.h5')\n",
    "        model.save(pathr) \n",
    "        err_p = loss_p\n",
    "    \n",
    "    # Imprimimos el desempeño para cada repetición\n",
    "    print('Desempeño (exactitud): accu_v1='+str(accu_v) +' , accu_v2='+str(accu_p))\n",
    "    \n",
    "    x.add_row([np.round(accu_e,4), np.round(accu_v,4), np.round(accu_p,4)])\n",
    "\n",
    "print(x)\n"
   ]
  },
  {
   "cell_type": "code",
   "execution_count": 65,
   "metadata": {},
   "outputs": [
    {
     "data": {
      "image/png": "[encoded data removed]",
      "text/plain": [
       "<Figure size 432x288 with 1 Axes>"
      ]
     },
     "metadata": {
      "needs_background": "light"
     },
     "output_type": "display_data"
    },
    {
     "data": {
      "image/png": "[encoded data removed]",
      "text/plain": [
       "<Figure size 432x288 with 1 Axes>"
      ]
     },
     "metadata": {
      "needs_background": "light"
     },
     "output_type": "display_data"
    }
   ],
   "source": [
    "plt.figure(1)\n",
    "plt.plot(history.history['accuracy'])  \n",
    "plt.plot(history.history['val_accuracy'])  \n",
    "plt.title('Exactitud')  \n",
    "plt.ylabel('Acc')  \n",
    "plt.xlabel('Epoca')  \n",
    "plt.legend(['Entreno', 'Validacion'], loc = 'lower right')\n",
    "plt.show()\n",
    "\n",
    "plt.figure(1) \n",
    "plt.plot(history.history['loss'])  \n",
    "plt.plot(history.history['val_loss'])  \n",
    "plt.title('Pérdida')  \n",
    "plt.ylabel('Pérdida')  \n",
    "plt.xlabel('Epoca')  \n",
    "plt.legend(['Entreno', 'Validación'], loc='upper right')  \n",
    "plt.show()"
   ]
  },
  {
   "cell_type": "markdown",
   "metadata": {},
   "source": [
    "Recuperamos el mejor modelo:"
   ]
  },
  {
   "cell_type": "code",
   "execution_count": 66,
   "metadata": {},
   "outputs": [
    {
     "name": "stdout",
     "output_type": "stream",
     "text": [
      "Model: \"functional_61\"\n",
      "_________________________________________________________________\n",
      "Layer (type)                 Output Shape              Param #   \n",
      "=================================================================\n",
      "input_19 (InputLayer)        [(None, None)]            0         \n",
      "_________________________________________________________________\n",
      "embedding_18 (Embedding)     (None, None, 128)         2560000   \n",
      "_________________________________________________________________\n",
      "conv1d_16 (Conv1D)           (None, None, 128)         49280     \n",
      "_________________________________________________________________\n",
      "max_pooling1d_10 (MaxPooling (None, None, 128)         0         \n",
      "_________________________________________________________________\n",
      "global_max_pooling1d_4 (Glob (None, 128)               0         \n",
      "_________________________________________________________________\n",
      "dense_17 (Dense)             (None, 250)               32250     \n",
      "_________________________________________________________________\n",
      "dense_18 (Dense)             (None, 1)                 251       \n",
      "=================================================================\n",
      "Total params: 2,641,781\n",
      "Trainable params: 2,641,781\n",
      "Non-trainable params: 0\n",
      "_________________________________________________________________\n"
     ]
    }
   ],
   "source": [
    "# B-RNN LSTM\n",
    "model_cnnaver1 = load_model('CNNaver1_part=3.h5')\n",
    "\n",
    "model_cnnaver1.summary()"
   ]
  },
  {
   "cell_type": "markdown",
   "metadata": {},
   "source": [
    "Replicamos los resultados obtenidos anteriormente:"
   ]
  },
  {
   "cell_type": "code",
   "execution_count": 67,
   "metadata": {},
   "outputs": [
    {
     "name": "stdout",
     "output_type": "stream",
     "text": [
      "[[12018   482]\n",
      " [  376 12124]]\n",
      "Exactitud:  0.9656800031661987\n"
     ]
    }
   ],
   "source": [
    "Y_predt = model_cnnaver1.predict(x_train)\n",
    "Y_predst = (Y_predt > 0.5)\n",
    "\n",
    "print(confusion_matrix(y_train, Y_predst))\n",
    "print(\"Exactitud: \", model_cnnaver1.evaluate(x=x_train, y=y_train, verbose=0)[1])"
   ]
  },
  {
   "cell_type": "markdown",
   "metadata": {},
   "source": [
    "Reportamos el desempeño del modelo con los datos de prueba (fuera de la muestra):"
   ]
  },
  {
   "cell_type": "code",
   "execution_count": 68,
   "metadata": {},
   "outputs": [
    {
     "name": "stdout",
     "output_type": "stream",
     "text": [
      "[[10907  1593]\n",
      " [ 1354 11146]]\n",
      "Exactitud:  0.8821200132369995\n"
     ]
    }
   ],
   "source": [
    "Y_predv = model_cnnaver1.predict(x_val)\n",
    "Y_predsv = (Y_predv > 0.5)\n",
    "\n",
    "print(confusion_matrix(y_val, Y_predsv))\n",
    "print(\"Exactitud: \", model_cnnaver1.evaluate(x=x_val, y=y_val, verbose=0)[1])"
   ]
  },
  {
   "cell_type": "markdown",
   "metadata": {},
   "source": [
    "Al pasar de 64 a 128 neuronas en la primera capa escondida vemos que la exactitud mejor con respecto al modelo anterior y pasa de 87.19% a 88.21%, lo que convierte a esta configuración como la que ha dado los mejores resultados."
   ]
  },
  {
   "cell_type": "code",
   "execution_count": 69,
   "metadata": {},
   "outputs": [
    {
     "name": "stdout",
     "output_type": "stream",
     "text": [
      "Model: \"functional_67\"\n",
      "_________________________________________________________________\n",
      "Layer (type)                 Output Shape              Param #   \n",
      "=================================================================\n",
      "input_20 (InputLayer)        [(None, None)]            0         \n",
      "_________________________________________________________________\n",
      "embedding_19 (Embedding)     (None, None, 128)         2560000   \n",
      "_________________________________________________________________\n",
      "conv1d_17 (Conv1D)           (None, None, 250)         96250     \n",
      "_________________________________________________________________\n",
      "max_pooling1d_11 (MaxPooling (None, None, 250)         0         \n",
      "_________________________________________________________________\n",
      "global_max_pooling1d_5 (Glob (None, 250)               0         \n",
      "_________________________________________________________________\n",
      "dense_19 (Dense)             (None, 250)               62750     \n",
      "_________________________________________________________________\n",
      "dense_20 (Dense)             (None, 1)                 251       \n",
      "=================================================================\n",
      "Total params: 2,719,251\n",
      "Trainable params: 2,719,251\n",
      "Non-trainable params: 0\n",
      "_________________________________________________________________\n"
     ]
    }
   ],
   "source": [
    "# Modelo CNN\n",
    "\n",
    "# Input con secuencias de enteros con longitud variable\n",
    "inputs = keras.Input(shape=(None,), dtype=\"int32\")\n",
    "\n",
    "# Conseguimos la representación vectorial (embedding) de cada entero en un vector 128-dimensional\n",
    "x = layers.Embedding(max_features, 128)(inputs)\n",
    "\n",
    "# Añadimos 2 unidades LSTM \n",
    "x = layers.Conv1D(250, 3, padding='same', activation='relu')(x)\n",
    "x = layers.MaxPooling1D()(x)\n",
    "x = layers.GlobalMaxPooling1D()(x)\n",
    "x = layers.Dense(250, activation = 'relu')(x)\n",
    "\n",
    "# Añadimos un clasificador binario en la salida\n",
    "outputs = layers.Dense(1, activation=\"sigmoid\")(x)\n",
    "\n",
    "# Gaurdamos la arquitectura del modelo\n",
    "model = keras.Model(inputs, outputs)\n",
    "model.summary()"
   ]
  },
  {
   "cell_type": "code",
   "execution_count": 70,
   "metadata": {},
   "outputs": [
    {
     "name": "stdout",
     "output_type": "stream",
     "text": [
      "Epoch 1/3\n",
      "547/547 [==============================] - 49s 89ms/step - loss: 0.3962 - accuracy: 0.8089 - val_loss: 0.2793 - val_accuracy: 0.8797\n",
      "Epoch 2/3\n",
      "547/547 [==============================] - 50s 91ms/step - loss: 0.1508 - accuracy: 0.9429 - val_loss: 0.3102 - val_accuracy: 0.8837\n",
      "Epoch 3/3\n",
      "547/547 [==============================] - 50s 92ms/step - loss: 0.0406 - accuracy: 0.9858 - val_loss: 0.3830 - val_accuracy: 0.8861\n",
      "Desempeño (exactitud): accu_v1=0.8861333131790161 , accu_v2=0.8828399777412415\n",
      "Epoch 1/3\n",
      "547/547 [==============================] - 49s 90ms/step - loss: 0.1189 - accuracy: 0.9588 - val_loss: 0.1207 - val_accuracy: 0.9603\n",
      "Epoch 2/3\n",
      "547/547 [==============================] - 49s 90ms/step - loss: 0.0107 - accuracy: 0.9976 - val_loss: 0.1380 - val_accuracy: 0.9605\n",
      "Epoch 3/3\n",
      "547/547 [==============================] - 49s 90ms/step - loss: 7.0040e-04 - accuracy: 1.0000 - val_loss: 0.1463 - val_accuracy: 0.9617\n",
      "Desempeño (exactitud): accu_v1=0.961733341217041 , accu_v2=0.8877999782562256\n",
      "Epoch 1/3\n",
      "547/547 [==============================] - 50s 92ms/step - loss: 0.0651 - accuracy: 0.9799 - val_loss: 0.0468 - val_accuracy: 0.9863\n",
      "Epoch 2/3\n",
      "547/547 [==============================] - 52s 95ms/step - loss: 0.0094 - accuracy: 0.9976 - val_loss: 0.0516 - val_accuracy: 0.9849\n",
      "Epoch 3/3\n",
      "547/547 [==============================] - 56s 103ms/step - loss: 7.6740e-04 - accuracy: 0.9999 - val_loss: 0.0597 - val_accuracy: 0.9828\n",
      "Desempeño (exactitud): accu_v1=0.9828000068664551 , accu_v2=0.8826000094413757\n",
      "+--------+--------+--------+\n",
      "| Exac_E | Exac_V | Exac_P |\n",
      "+--------+--------+--------+\n",
      "| 0.9991 | 0.8861 | 0.8828 |\n",
      "|  1.0   | 0.9617 | 0.8878 |\n",
      "|  1.0   | 0.9828 | 0.8826 |\n",
      "+--------+--------+--------+\n"
     ]
    }
   ],
   "source": [
    "# Inicializamos la tabla donde guardamos los resultados\n",
    "x = PrettyTable([\"Exac_E\", \"Exac_V\", \"Exac_P\"])\n",
    "\n",
    "# Definimos el número máximo de iteraciones (épocas de la red)\n",
    "epocas = 3\n",
    "\n",
    "# Definimos los parametros del Adam\n",
    "adam = keras.optimizers.Adam(lr=0.001, beta_1=0.9, beta_2=0.999)\n",
    "\n",
    "#Definimos los parametros del RMSProp\n",
    "rmsprop = keras.optimizers.RMSprop(lr=0.00008, rho=0.9)\n",
    "\n",
    "# Inicializamos el error \n",
    "err_p = 999\n",
    "\n",
    "for i in range(0,3,1):\n",
    "    r = i^3\n",
    "    CE_x, CV_x, CE_y, CV_y = train_test_split(x_train, y_train, test_size = 0.3, random_state = r)\n",
    "          \n",
    "    # Definimos el método de optimización con respecto a su funcion de perdida (además guardamos la exactitud para cada iteracion)\n",
    "    model = keras.Model(inputs, outputs)\n",
    "    model.compile(loss='binary_crossentropy', optimizer=adam, metrics=['accuracy'])\n",
    "    \n",
    "    # Ajustamos el modelo\n",
    "    history=model.fit(x=CE_x, y=CE_y, epochs=epocas, validation_data=(CV_x, CV_y), verbose=1, shuffle=False)\n",
    "      \n",
    "    # Calculamos las metricas\n",
    "    train_metrics = model.evaluate(x=CE_x, y=CE_y, verbose=0)\n",
    "    valid_metrics = model.evaluate(x=CV_x, y=CV_y, verbose=0)\n",
    "    test_metrics = model.evaluate(x=x_val, y=y_val, verbose=0)\n",
    "    \n",
    "    # Guardamos las métricas de desempeño\n",
    "    accu_e = train_metrics[1]\n",
    "    loss_e = train_metrics[0]\n",
    "    accu_v = valid_metrics[1]\n",
    "    loss_v = valid_metrics[0]\n",
    "    accu_p = test_metrics[1]\n",
    "    loss_p = test_metrics[0]\n",
    "    \n",
    "    if (loss_p < err_p):\n",
    "        pathr =('CNNaver2_part='+str(r)+'.h5')\n",
    "        model.save(pathr) \n",
    "        err_p = loss_p\n",
    "    \n",
    "    # Imprimimos el desempeño para cada repetición\n",
    "    print('Desempeño (exactitud): accu_v1='+str(accu_v) +' , accu_v2='+str(accu_p))\n",
    "    \n",
    "    x.add_row([np.round(accu_e,4), np.round(accu_v,4), np.round(accu_p,4)])\n",
    "\n",
    "print(x)\n"
   ]
  },
  {
   "cell_type": "code",
   "execution_count": 71,
   "metadata": {},
   "outputs": [
    {
     "data": {
      "image/png": "[encoded data removed]",
      "text/plain": [
       "<Figure size 432x288 with 1 Axes>"
      ]
     },
     "metadata": {
      "needs_background": "light"
     },
     "output_type": "display_data"
    },
    {
     "data": {
      "image/png": "[encoded data removed]",
      "text/plain": [
       "<Figure size 432x288 with 1 Axes>"
      ]
     },
     "metadata": {
      "needs_background": "light"
     },
     "output_type": "display_data"
    }
   ],
   "source": [
    "plt.figure(1)\n",
    "plt.plot(history.history['accuracy'])  \n",
    "plt.plot(history.history['val_accuracy'])  \n",
    "plt.title('Exactitud')  \n",
    "plt.ylabel('Acc')  \n",
    "plt.xlabel('Epoca')  \n",
    "plt.legend(['Entreno', 'Validacion'], loc = 'lower right')\n",
    "plt.show()\n",
    "\n",
    "plt.figure(1) \n",
    "plt.plot(history.history['loss'])  \n",
    "plt.plot(history.history['val_loss'])  \n",
    "plt.title('Pérdida')  \n",
    "plt.ylabel('Pérdida')  \n",
    "plt.xlabel('Epoca')  \n",
    "plt.legend(['Entreno', 'Validación'], loc='upper right')  \n",
    "plt.show()"
   ]
  },
  {
   "cell_type": "markdown",
   "metadata": {},
   "source": [
    "Recuperamos el mejor modelo:"
   ]
  },
  {
   "cell_type": "code",
   "execution_count": 72,
   "metadata": {},
   "outputs": [
    {
     "name": "stdout",
     "output_type": "stream",
     "text": [
      "Model: \"functional_69\"\n",
      "_________________________________________________________________\n",
      "Layer (type)                 Output Shape              Param #   \n",
      "=================================================================\n",
      "input_20 (InputLayer)        [(None, None)]            0         \n",
      "_________________________________________________________________\n",
      "embedding_19 (Embedding)     (None, None, 128)         2560000   \n",
      "_________________________________________________________________\n",
      "conv1d_17 (Conv1D)           (None, None, 250)         96250     \n",
      "_________________________________________________________________\n",
      "max_pooling1d_11 (MaxPooling (None, None, 250)         0         \n",
      "_________________________________________________________________\n",
      "global_max_pooling1d_5 (Glob (None, 250)               0         \n",
      "_________________________________________________________________\n",
      "dense_19 (Dense)             (None, 250)               62750     \n",
      "_________________________________________________________________\n",
      "dense_20 (Dense)             (None, 1)                 251       \n",
      "=================================================================\n",
      "Total params: 2,719,251\n",
      "Trainable params: 2,719,251\n",
      "Non-trainable params: 0\n",
      "_________________________________________________________________\n"
     ]
    }
   ],
   "source": [
    "# B-RNN LSTM\n",
    "model_cnnaver2 = load_model('CNNaver2_part=3.h5')\n",
    "\n",
    "model_cnnaver2.summary()"
   ]
  },
  {
   "cell_type": "markdown",
   "metadata": {},
   "source": [
    "Replicamos los resultados obtenidos anteriormente:"
   ]
  },
  {
   "cell_type": "code",
   "execution_count": 73,
   "metadata": {},
   "outputs": [
    {
     "name": "stdout",
     "output_type": "stream",
     "text": [
      "[[11983   517]\n",
      " [  353 12147]]\n",
      "Exactitud:  0.9652000069618225\n"
     ]
    }
   ],
   "source": [
    "Y_predt = model_cnnaver2.predict(x_train)\n",
    "Y_predst = (Y_predt > 0.5)\n",
    "\n",
    "print(confusion_matrix(y_train, Y_predst))\n",
    "print(\"Exactitud: \", model_cnnaver2.evaluate(x=x_train, y=y_train, verbose=0)[1])"
   ]
  },
  {
   "cell_type": "markdown",
   "metadata": {},
   "source": [
    "Reportamos el desempeño del modelo con los datos de prueba (fuera de la muestra):"
   ]
  },
  {
   "cell_type": "code",
   "execution_count": 74,
   "metadata": {},
   "outputs": [
    {
     "name": "stdout",
     "output_type": "stream",
     "text": [
      "[[10894  1606]\n",
      " [ 1323 11177]]\n",
      "Exactitud:  0.8828399777412415\n"
     ]
    }
   ],
   "source": [
    "Y_predv = model_cnnaver2.predict(x_val)\n",
    "Y_predsv = (Y_predv > 0.5)\n",
    "\n",
    "print(confusion_matrix(y_val, Y_predsv))\n",
    "print(\"Exactitud: \", model_cnnaver2.evaluate(x=x_val, y=y_val, verbose=0)[1])"
   ]
  },
  {
   "cell_type": "markdown",
   "metadata": {},
   "source": [
    "Como último modelo, intentamos aumentar a 250 el número de neuronas de la primera capa escondida, loq ue da como resultado una exactitud igual a 88.28%, muy similar a la que encontramos cuando se usand 128 neuronas. Por lo tanto, es posible asumir que seguir aumentando el número de neuronas de la primera capa puede no generar mayores incrementos en la exactitud. No obstante, es importante anotar que este sigue siendo el mejor modelo de clasificación encontrado hasta el momento.\n",
    "\n",
    "Por otro lado otra estrategia a utilizar puede ser la de realizar un preprocesamiento de las palabras mas efectivo utilizando vectorizadores de palabras como GLOVE (Global vectors for word representation) el cual es un algoritmo no supervisado desarrollado por la universidad de Stanford en donde ser entrenó el modelo de vectorizacion con mas de 2.2 M de palabras en el vocabulario. De esta forma con un efoque de aprendizaje por transferencia el modelo puede tener una capa de embedding que aporten mayor informacion ayudando a mejorar el performance del modelo. "
   ]
  },
  {
   "cell_type": "code",
   "execution_count": null,
   "metadata": {},
   "outputs": [],
   "source": []
  }
 ],
 "metadata": {
  "coursera": {
   "course_slug": "neural-networks-deep-learning",
   "graded_item_id": "wRuwL",
   "launcher_item_id": "NI888"
  },
  "kernelspec": {
   "display_name": "Python 3",
   "language": "python",
   "name": "python3"
  },
  "language_info": {
   "codemirror_mode": {
    "name": "ipython",
    "version": 3
   },
   "file_extension": ".py",
   "mimetype": "text/x-python",
   "name": "python",
   "nbconvert_exporter": "python",
   "pygments_lexer": "ipython3",
   "version": "3.8.5"
  }
 },
 "nbformat": 4,
 "nbformat_minor": 2
}
