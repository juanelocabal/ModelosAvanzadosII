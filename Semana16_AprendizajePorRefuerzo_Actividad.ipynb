{
 "cells": [
  {
   "cell_type": "markdown",
   "metadata": {
    "id": "cey053fxUJWR"
   },
   "source": [
    "## MIIA-4203 MODELOS AVANZADOS PARA ANÁLISIS DE DATOS II\n",
    "\n",
    "\n",
    "# Aprendizaje por Refuerzo\n",
    "\n",
    "\n",
    "### Profesor asistente: Diego Gomez (df.gomez11@uniandes.edu.co)\n",
    "\n",
    "En este cuaderno implementaremos un par de métodos de Aprendizaje por Refuerzo.\n",
    "\n",
    "Utilizaremos nuestros algoritmos para intentar maximizar nuetra probabilidad de ganar en el juego de cartas Blackjack.\n",
    "\n",
    "\n",
    "---\n",
    "\n",
    "\n",
    "*A lo largo del ejercicio encontrará la palabra `TODO`. Esto le indica que hay una línea de código por completar.\n",
    "\n",
    "\n",
    "---\n",
    "\n"
   ]
  },
  {
   "cell_type": "markdown",
   "metadata": {
    "id": "8o7bIZz4V_mK"
   },
   "source": [
    "Primero importeremos los paquetes necesarios. En el archivo adicional .py se encuentra el ambiente `BlackJackEnv`, que nos servirá para simlar el juego de Blackjack."
   ]
  },
  {
   "cell_type": "code",
   "execution_count": 1,
   "metadata": {
    "id": "qg_dBN3htlt5"
   },
   "outputs": [],
   "source": [
    "import numpy as np\n",
    "import random\n",
    "\n",
    "from blackjack_utils import BlackJackEnv as AmbienteBJ\n",
    "from blackjack_utils import *\n",
    "\n",
    "import matplotlib.pyplot as plt\n",
    "import pandas as pd\n",
    "import seaborn as sns\n",
    "\n",
    "semilla = 0\n",
    "np.random.seed(semilla)"
   ]
  },
  {
   "cell_type": "markdown",
   "metadata": {
    "id": "rM2pE-jnX00M"
   },
   "source": [
    "La clase `BlackJackEnv` tiene 2 métodos de nuestro interés:\n",
    "\n",
    "\n",
    "1.   `reset`\n",
    "2.   `step`  \n",
    "\n",
    "El método `reset` inicializa el juego y se reparten las manos del jugador y del dealer. El método `step` recibe como argumento una acción y ejecuta la transición correspondiente. Las acciones posibles son 0 y 1, donde 0 corresponde a **Plantarse** y 1 corresponde a **Pedir** una nueva carta. Este método retorna 4 elementos: el estado actual, es decir, la mano del jugador y la carta del repartidor visible, el siguiente estado al tomar la acción, la recompensa obtenida y una señal que indica si ej juego terminó. La recompensa será 0 si el juego no ha terminado o hay un empate, 1 si el jugador gana y -1 si el jugador pierde.\n",
    "\n",
    "En el área de Aprendizaje por Refuerzo es común utilizar librerías que nos proveen con múltiples ambientes. Estos ambientes usualmente tienen los mismos dos métodos que se mencionan acá."
   ]
  },
  {
   "cell_type": "markdown",
   "metadata": {
    "id": "LcNHgjzoXadF"
   },
   "source": [
    "Generemos el ambiente y juguemos un par de manos."
   ]
  },
  {
   "cell_type": "code",
   "execution_count": 2,
   "metadata": {
    "colab": {
     "base_uri": "https://localhost:8080/"
    },
    "id": "ntizeIVw0u-W",
    "outputId": "be8915ee-8977-44a8-f755-149e4581008c"
   },
   "outputs": [
    {
     "name": "stdout",
     "output_type": "stream",
     "text": [
      "Mano inicial:  [[('4', 'diamonds'), ('K', 'hearts')], ('2', 'spades')]\n"
     ]
    }
   ],
   "source": [
    "juego = AmbienteBJ(seed=semilla)\n",
    "mano_inicial = juego.reset()\n",
    "print('Mano inicial: ', mano_inicial)"
   ]
  },
  {
   "cell_type": "code",
   "execution_count": 3,
   "metadata": {
    "colab": {
     "base_uri": "https://localhost:8080/"
    },
    "id": "ym0vDUC3aO7G",
    "outputId": "48a6d787-e724-4dc8-c6e1-be6e64690b38"
   },
   "outputs": [
    {
     "name": "stdout",
     "output_type": "stream",
     "text": [
      "Nueva mano:  [[('4', 'diamonds'), ('K', 'hearts')], [('K', 'spades'), ('2', 'spades'), ('3', 'clubs'), ('J', 'spades')]]\n",
      "Recompensa:  1.0\n",
      "Juego terminado:  True\n"
     ]
    }
   ],
   "source": [
    "mano, siguiente_mano, recompensa, juego_terminado = juego.step(0) # Nos plantaremos\n",
    "print('Nueva mano: ', siguiente_mano)\n",
    "print('Recompensa: ', recompensa)\n",
    "print('Juego terminado: ', juego_terminado)"
   ]
  },
  {
   "cell_type": "code",
   "execution_count": 4,
   "metadata": {
    "colab": {
     "base_uri": "https://localhost:8080/"
    },
    "id": "GbbVxU5TaHhK",
    "outputId": "5978d438-ad12-40ba-ccb5-9cdde29bc762"
   },
   "outputs": [
    {
     "name": "stdout",
     "output_type": "stream",
     "text": [
      "Mano inicial:  [[('9', 'hearts'), ('6', 'hearts')], ('Q', 'spades')]\n"
     ]
    }
   ],
   "source": [
    "mano_inicial = juego.reset()\n",
    "print('Mano inicial: ', mano_inicial)"
   ]
  },
  {
   "cell_type": "code",
   "execution_count": 5,
   "metadata": {
    "colab": {
     "base_uri": "https://localhost:8080/"
    },
    "id": "8F7hSJXDZ8s6",
    "outputId": "a996a2a1-10dc-4861-d7af-53d4cd2e0f02"
   },
   "outputs": [
    {
     "name": "stdout",
     "output_type": "stream",
     "text": [
      "Nueva mano:  [[('9', 'hearts'), ('6', 'hearts'), ('9', 'diamonds')], [('4', 'clubs'), ('Q', 'spades')]]\n",
      "Recompensa:  -1.0\n",
      "Juego terminado:  True\n"
     ]
    }
   ],
   "source": [
    "mano, siguiente_mano, recompensa, juego_terminado = juego.step(1) # Pediremos una nueva carta\n",
    "print('Nueva mano: ', siguiente_mano)\n",
    "print('Recompensa: ', recompensa)\n",
    "print('Juego terminado: ', juego_terminado)"
   ]
  },
  {
   "cell_type": "markdown",
   "metadata": {
    "id": "SkZ8dORHeMHf"
   },
   "source": [
    "## Definición del Agente\n",
    "\n",
    "### Ejercicio 1"
   ]
  },
  {
   "cell_type": "markdown",
   "metadata": {
    "id": "WyNpfVSDajPX"
   },
   "source": [
    "Definiremos ahora la clase `Agente`. Esta clase tendrá un atributo de interés y 4 distintos métodos. El atributo corresponde la función de valor q, que es una matriz de tamaño 10x10x2x2 y donde las primeras 3 dimensiones corresponden al estado y la última a la acción. Tendrán que completar los distintos métodos, cuyas descripciones se encuentran justo antes de cada método."
   ]
  },
  {
   "cell_type": "code",
   "execution_count": 53,
   "metadata": {},
   "outputs": [
    {
     "data": {
      "text/plain": [
       "array([[[[-6.20531258e-02,  1.25916713e+00],\n",
       "         [ 7.04111022e-01, -1.49567952e+00]],\n",
       "\n",
       "        [[ 2.52636824e+00,  1.76992139e+00],\n",
       "         [-1.68214223e-01,  3.77910102e-01]],\n",
       "\n",
       "        [[ 1.32435875e+00, -1.72200793e-01],\n",
       "         [ 7.30351790e-01,  1.10457847e+00]],\n",
       "\n",
       "        [[-1.01482591e+00, -6.02331854e-01],\n",
       "         [ 9.21408398e-01,  4.60814477e-01]],\n",
       "\n",
       "        [[ 9.23796560e-01, -1.32568015e-01],\n",
       "         [-2.89005211e-01, -1.99863948e+00]],\n",
       "\n",
       "        [[-1.14600043e+00,  4.70660947e-02],\n",
       "         [ 8.24557220e-01,  5.31178367e-01]],\n",
       "\n",
       "        [[-1.28241974e-01, -2.71771566e-01],\n",
       "         [ 2.17179633e-01,  7.82111811e-02]],\n",
       "\n",
       "        [[ 1.40454551e+00,  1.46440770e-01],\n",
       "         [-1.48124596e+00, -1.27255814e+00]],\n",
       "\n",
       "        [[ 1.51875934e+00, -1.17116046e+00],\n",
       "         [ 7.64497453e-01, -2.68372735e-01]],\n",
       "\n",
       "        [[-1.69758294e-01, -1.34132783e-01],\n",
       "         [ 1.22138496e+00, -1.92841829e-01]]],\n",
       "\n",
       "\n",
       "       [[[-3.33192828e-02, -1.53080350e+00],\n",
       "         [ 2.06690512e-01,  5.31042507e-01]],\n",
       "\n",
       "        [[ 2.39145581e-01,  1.39789626e+00],\n",
       "         [ 5.51713548e-02,  2.98977456e-01]],\n",
       "\n",
       "        [[ 1.64850401e+00, -1.55001419e+00],\n",
       "         [-4.55825348e-01,  1.42615875e+00]],\n",
       "\n",
       "        [[ 9.36129148e-01,  6.78380099e-01],\n",
       "         [ 8.32650739e-01,  3.27066209e-01]],\n",
       "\n",
       "        [[ 1.63159743e+00,  3.77759170e-01],\n",
       "         [ 2.39867106e-01,  1.58958674e-01]],\n",
       "\n",
       "        [[ 1.92863956e-01, -1.15701728e+00],\n",
       "         [ 7.70673054e-01, -1.30439734e-01]],\n",
       "\n",
       "        [[ 1.82191510e+00, -7.56504706e-02],\n",
       "         [ 4.20918284e-01,  2.46602186e-01]],\n",
       "\n",
       "        [[-6.25557035e-01,  9.92136829e-01],\n",
       "         [ 1.90506364e+00, -1.47772197e-02]],\n",
       "\n",
       "        [[-3.00478786e-01, -3.55028731e-01],\n",
       "         [-1.89236189e+00, -1.77813144e-01]],\n",
       "\n",
       "        [[ 2.50998116e-01,  1.05475793e+00],\n",
       "         [ 9.60047741e-01, -4.16499082e-01]]],\n",
       "\n",
       "\n",
       "       [[[-2.76822995e-01,  1.12390531e+00],\n",
       "         [-1.73463897e-01, -5.10029540e-01]],\n",
       "\n",
       "        [[ 1.39251845e+00,  1.03758567e+00],\n",
       "         [ 1.87917918e-02, -5.93777448e-01]],\n",
       "\n",
       "        [[-2.01188032e+00,  5.89703606e-01],\n",
       "         [-8.96369723e-01, -1.96273201e+00]],\n",
       "\n",
       "        [[ 1.58482053e+00,  6.47967791e-01],\n",
       "         [-1.13900819e+00, -1.21440138e+00]],\n",
       "\n",
       "        [[ 8.70961782e-01, -8.77970617e-01],\n",
       "         [ 1.29614987e+00,  6.16459313e-01]],\n",
       "\n",
       "        [[ 5.36596521e-01,  4.04695456e-01],\n",
       "         [ 1.91450872e-01,  8.80511199e-01]],\n",
       "\n",
       "        [[-4.54080363e-01,  8.59519734e-02],\n",
       "         [ 7.51946588e-01,  5.62989719e-01]],\n",
       "\n",
       "        [[-1.19498681e+00, -5.00409667e-01],\n",
       "         [ 2.52803505e-01, -4.08014709e-01]],\n",
       "\n",
       "        [[ 1.77465856e+00, -3.93153195e-01],\n",
       "         [-1.62218448e-01,  7.69430178e-01]],\n",
       "\n",
       "        [[ 3.30532743e-01, -1.45274457e-01],\n",
       "         [-7.56493529e-01,  3.01514057e-01]]],\n",
       "\n",
       "\n",
       "       [[[ 1.03909644e+00,  4.79095224e-01],\n",
       "         [-7.78183521e-01,  1.73677496e+00]],\n",
       "\n",
       "        [[-1.44657789e+00, -1.58268564e+00],\n",
       "         [ 9.60557224e-01,  2.25840479e-01]],\n",
       "\n",
       "        [[-5.49498546e-01, -1.09857073e+00],\n",
       "         [ 2.32079984e+00,  1.17090872e-01]],\n",
       "\n",
       "        [[ 5.34201171e-01,  3.17885097e-01],\n",
       "         [ 4.34807958e-01,  5.40094461e-01]],\n",
       "\n",
       "        [[ 7.32424010e-01, -3.75222401e-01],\n",
       "         [-2.91641986e-01, -1.74102281e+00]],\n",
       "\n",
       "        [[-7.80304407e-01,  2.71112796e-01],\n",
       "         [ 1.04502338e+00,  5.99039526e-01]],\n",
       "\n",
       "        [[-3.40692344e-01, -1.26317291e+00],\n",
       "         [-2.77735915e+00,  1.15173397e+00]],\n",
       "\n",
       "        [[-5.89228987e-01, -4.48465006e-01],\n",
       "         [ 1.31573968e-01, -1.40556005e+00]],\n",
       "\n",
       "        [[-3.49782180e-01,  2.02347195e+00],\n",
       "         [ 5.05386939e-01,  3.59249157e-01]],\n",
       "\n",
       "        [[-1.58249448e+00,  2.24360189e+00],\n",
       "         [-1.42279491e+00,  1.92232476e+00]]],\n",
       "\n",
       "\n",
       "       [[[-2.11505602e+00,  1.40536544e+00],\n",
       "         [ 1.61805427e+00, -8.24409121e-01]],\n",
       "\n",
       "        [[ 4.22580372e-01,  5.47480572e-01],\n",
       "         [-8.13794483e-01, -1.44911761e+00]],\n",
       "\n",
       "        [[-1.31771734e+00,  5.41008220e-01],\n",
       "         [-8.51156025e-02, -5.64301033e-01]],\n",
       "\n",
       "        [[ 9.66768011e-01,  5.08067909e-01],\n",
       "         [-7.55462726e-01, -1.20120152e+00]],\n",
       "\n",
       "        [[ 5.23261739e-01, -5.37583369e-01],\n",
       "         [ 9.92048625e-02,  1.57629897e+00]],\n",
       "\n",
       "        [[ 5.02328240e-01, -8.62267000e-01],\n",
       "         [ 1.60661190e-01, -9.52644953e-01]],\n",
       "\n",
       "        [[ 1.60852216e+00, -5.61578750e-01],\n",
       "         [ 2.07270747e-01,  3.07732575e-01]],\n",
       "\n",
       "        [[ 1.59250468e-01, -1.95854896e+00],\n",
       "         [-1.44642106e+00, -4.52350276e-01]],\n",
       "\n",
       "        [[ 3.19431833e-01, -1.37779214e-01],\n",
       "         [-9.57147473e-01, -1.34842432e+00]],\n",
       "\n",
       "        [[-4.01557544e-01, -4.68476045e-01],\n",
       "         [ 5.12836458e-01, -3.26318462e-01]]],\n",
       "\n",
       "\n",
       "       [[[ 6.02707656e-01, -5.94649770e-01],\n",
       "         [-2.55957669e-01, -3.48046380e-01]],\n",
       "\n",
       "        [[-7.82366967e-01,  6.25118656e-01],\n",
       "         [-8.13595997e-01, -5.21641510e-01]],\n",
       "\n",
       "        [[-7.31196459e-02, -1.29737966e+00],\n",
       "         [-3.24934958e-01, -7.11306360e-01]],\n",
       "\n",
       "        [[-3.88154192e-01, -5.99280027e-02],\n",
       "         [-7.99913623e-01, -2.20075780e-01]],\n",
       "\n",
       "        [[ 1.30866875e+00, -2.57985583e-02],\n",
       "         [ 1.14526217e+00,  3.46494442e-01]],\n",
       "\n",
       "        [[ 7.74160610e-01, -7.74458969e-01],\n",
       "         [ 1.04907165e-01,  1.33912923e-01]],\n",
       "\n",
       "        [[-6.12625739e-01, -8.22828324e-01],\n",
       "         [-1.49026539e+00,  1.49613964e+00]],\n",
       "\n",
       "        [[-9.72402889e-01,  1.34622107e+00],\n",
       "         [-4.67493174e-01, -8.62493300e-01]],\n",
       "\n",
       "        [[ 6.22519140e-01, -6.31191942e-01],\n",
       "         [ 5.68458919e-01, -3.32811765e-01]],\n",
       "\n",
       "        [[ 4.80424496e-01, -9.68186064e-01],\n",
       "         [ 8.31351058e-01,  4.87972683e-01]]],\n",
       "\n",
       "\n",
       "       [[[-9.19650690e-01,  2.64293572e+00],\n",
       "         [ 5.40123026e-01,  2.29046707e+00]],\n",
       "\n",
       "        [[ 1.60026782e+00, -1.88834780e-01],\n",
       "         [-4.12271755e-01, -4.03459183e-01]],\n",
       "\n",
       "        [[-1.83002855e+00, -6.95835119e-01],\n",
       "         [ 2.46766024e-01,  1.52595756e+00]],\n",
       "\n",
       "        [[-7.72771883e-01,  8.82056599e-01],\n",
       "         [-1.25259334e+00, -5.86320025e-01]],\n",
       "\n",
       "        [[-4.57640594e-01,  3.71811081e-01],\n",
       "         [ 4.57309647e-01,  9.62341745e-01]],\n",
       "\n",
       "        [[ 7.70836960e-01,  2.43168215e-01],\n",
       "         [ 3.90364944e-01,  1.58853069e+00]],\n",
       "\n",
       "        [[-5.10926181e-01,  7.74728319e-01],\n",
       "         [-1.80814393e+00,  4.11334243e-01]],\n",
       "\n",
       "        [[-4.83249542e-01,  2.57118243e-03],\n",
       "         [ 1.04008625e+00,  1.64643810e-01]],\n",
       "\n",
       "        [[ 8.85187541e-01,  1.47376482e+00],\n",
       "         [ 3.89093969e-01,  1.17104106e+00]],\n",
       "\n",
       "        [[-3.26560978e-01, -8.20988227e-03],\n",
       "         [-5.22619416e-01,  1.04297759e+00]]],\n",
       "\n",
       "\n",
       "       [[[ 4.14091354e-01, -5.07234462e-01],\n",
       "         [ 1.54668834e-01,  1.04156839e+00]],\n",
       "\n",
       "        [[-3.92679910e-02, -9.48932811e-01],\n",
       "         [ 1.31911756e-01, -1.98056559e+00]],\n",
       "\n",
       "        [[ 7.68770644e-01, -4.21327587e-01],\n",
       "         [-4.69310736e-01,  8.75695679e-01]],\n",
       "\n",
       "        [[-1.36516288e+00,  1.94709864e+00],\n",
       "         [-4.80242042e-01, -5.23250943e-01]],\n",
       "\n",
       "        [[ 1.02122474e+00,  7.08695273e-01],\n",
       "         [ 2.45122972e+00, -2.11205984e-01]],\n",
       "\n",
       "        [[-1.20406639e-01, -1.47931598e+00],\n",
       "         [-3.32102277e-01, -7.21431296e-01]],\n",
       "\n",
       "        [[-4.48767013e-01, -1.74418776e+00],\n",
       "         [ 1.66060756e+00, -1.41660348e+00]],\n",
       "\n",
       "        [[-2.80220280e+00, -1.18842442e+00],\n",
       "         [-6.03839553e-01, -1.14955406e+00]],\n",
       "\n",
       "        [[ 1.09830354e+00, -1.37839179e-01],\n",
       "         [ 2.53856044e-02,  6.10391764e-01]],\n",
       "\n",
       "        [[ 2.86012527e-01,  9.78567297e-01],\n",
       "         [-1.10947755e+00, -5.47518101e-01]]],\n",
       "\n",
       "\n",
       "       [[[ 6.65967146e-01, -2.53455446e+00],\n",
       "         [-1.37518448e+00,  5.00992232e-01]],\n",
       "\n",
       "        [[-4.80249035e-01,  9.36107550e-01],\n",
       "         [ 8.09180297e-01, -1.19809288e+00]],\n",
       "\n",
       "        [[ 4.06657087e-01,  1.20169786e+00],\n",
       "         [ 1.47434402e-01, -9.77464877e-01]],\n",
       "\n",
       "        [[ 8.79389942e-01,  6.35424527e-01],\n",
       "         [ 5.42610783e-01,  7.15938893e-01]],\n",
       "\n",
       "        [[-2.99461286e+00,  8.80937561e-01],\n",
       "         [ 1.80813181e+00,  4.36638475e-01]],\n",
       "\n",
       "        [[ 1.92728996e-01,  6.96438673e-01],\n",
       "         [ 3.38225474e-01,  6.51781262e-01]],\n",
       "\n",
       "        [[ 1.47100025e-03, -7.66704855e-01],\n",
       "         [-1.00432271e+00, -9.98191728e-01]],\n",
       "\n",
       "        [[-1.37304255e+00, -1.06774201e+00],\n",
       "         [ 1.76126613e+00,  7.54095664e-01]],\n",
       "\n",
       "        [[-6.25027391e-01, -3.90392694e-01],\n",
       "         [ 1.12557531e-01, -6.55545029e-01]],\n",
       "\n",
       "        [[ 6.75168572e-02,  7.77604138e-01],\n",
       "         [-3.57427335e-02,  3.36015743e-01]]],\n",
       "\n",
       "\n",
       "       [[[ 8.86491539e-01, -2.72131756e-01],\n",
       "         [ 2.84790599e-01, -3.09377593e-01]],\n",
       "\n",
       "        [[-2.85288698e-02, -3.24730265e-01],\n",
       "         [-5.28869854e-01,  1.73711853e-01]],\n",
       "\n",
       "        [[ 5.66545316e-01,  1.46304446e-01],\n",
       "         [ 4.98726958e-01, -7.37931780e-01]],\n",
       "\n",
       "        [[-1.20373519e+00,  4.17043503e-01],\n",
       "         [ 6.87881391e-01,  4.98572666e-02]],\n",
       "\n",
       "        [[ 1.34803578e+00,  9.07698798e-01],\n",
       "         [ 2.68057084e+00, -2.00808514e-01]],\n",
       "\n",
       "        [[-9.98848796e-01, -7.40136791e-01],\n",
       "         [-5.65497806e-01,  4.76031383e-01]],\n",
       "\n",
       "        [[-2.15806856e+00,  1.31855102e+00],\n",
       "         [-2.39296591e-01, -2.46793558e-01]],\n",
       "\n",
       "        [[-1.07934317e+00, -1.14225551e-01],\n",
       "         [ 1.32397677e-02, -1.21944928e-01]],\n",
       "\n",
       "        [[ 3.39059256e-01, -5.89632042e-01],\n",
       "         [-8.95815760e-01,  5.48328130e-01]],\n",
       "\n",
       "        [[ 9.86674538e-02,  1.97181055e-01],\n",
       "         [ 1.05902725e+00, -1.02256439e+00]]]])"
      ]
     },
     "execution_count": 53,
     "metadata": {},
     "output_type": "execute_result"
    }
   ],
   "source": [
    "dim_estado=(10,10,2)\n",
    "dim_accion=(2,)\n",
    "(dim_estado+dim_accion)\n",
    "\n",
    "np.random.randn(dim_estado[0], dim_estado[1], dim_estado[2], dim_accion[0])"
   ]
  },
  {
   "cell_type": "code",
   "execution_count": 76,
   "metadata": {
    "id": "SBKV1Apns6KU"
   },
   "outputs": [],
   "source": [
    "class Agente():\n",
    "    def __init__(self, dim_estado=(10,10,2), dim_accion=(2,)):    \n",
    "        self.funcion_q = np.random.randn(dim_estado[0], dim_estado[1], dim_estado[2], dim_accion[0]) # Funcion de valor Q\n",
    "        self.n_acciones = dim_accion[0]\n",
    "        \n",
    "    '''\n",
    "    Metodo 1:\n",
    "    Este metodo transforma la mano del jugador y la carta del dealer\n",
    "    a nuestra representacion de estado. \n",
    "    Argumentos:\n",
    "        - estado: tupla donde el primer elemento es una lista de cartas, \n",
    "                      correspondientes a la mano del jugador, y donde el segundo \n",
    "                      elemento es la carta visible del dealer\n",
    "    Salida:\n",
    "        - estado transformado: tupla de 3 elementos (s_0, s_1, s_2), donde:\n",
    "                  s_0:  indical el puntaje del jugador. Es un numero de 0 a 9, que \n",
    "                        corresponde a una suma de 12 a 21, en el mismo orden.\n",
    "                  s_1:  indica la mano del dealer. Es un numero de 0 a 9, que corresponde\n",
    "                        al valor de la carta del dealer entre 1 y 10, en el mismo orden.\n",
    "                  s_2:  indica si el as es utilizable. Es un número entre 0 y 1, que\n",
    "                        corresponde a si el As se puede o no utilizar como 11.                \n",
    "    '''\n",
    "        \n",
    "    def transformar_estado(self, estado):\n",
    "        suma_mano, puntaje_dealer, as_utilizable = state2code(estado)\n",
    "        puntaje = suma_mano + 10*as_utilizable      \n",
    "        if puntaje < 12:\n",
    "            s_0 = s_1 = s_2 = None\n",
    "        else:      \n",
    "            s_0 = int(puntaje-12)        \n",
    "            s_1 = int(puntaje_dealer-1)  \n",
    "            s_2 = int(as_utilizable)\n",
    "        estado_transformado = (s_0, s_1, s_2)   \n",
    "        return estado_transformado\n",
    "    \n",
    "    '''\n",
    "    Metodo 2:\n",
    "    Este metodo genera una accion para sumas entre 12 y 21, siguiendo una politica\n",
    "    epsilon-suave.\n",
    "    Argumentos: \n",
    "      - estado_transformado:   tupla con puntaje, carta del dealer, y bit de as utilizable\n",
    "      - epsilon:  valor entre 0 y 1, que corresponde al factor de exploracion\n",
    "    Salidas: \n",
    "      - accion:   bit, 0 para plantarse y 1 para pedir una nueva carta\n",
    "        \n",
    "    '''\n",
    "        \n",
    "    def generar_accion_con_politica_epsilon_suave(self, estado_transformado, epsilon):\n",
    "        s_0, s_1, s_2 = estado_transformado\n",
    "        valores_q = self.funcion_q[s_0, s_1, s_2, :]\n",
    "        if np.random.rand() > epsilon:\n",
    "            accion_new = valores_q.argmax()\n",
    "            if isinstance(accion_new, np.int64):\n",
    "                accion = accion_new\n",
    "            else:\n",
    "                accion = random.choice(accion_new)\n",
    "        else:\n",
    "            accion = np.random.randint(0, high = self.n_acciones)\n",
    "    \n",
    "        return accion\n",
    "    \n",
    "    '''\n",
    "    Metodo 3:\n",
    "    Este metodo selecciona una accion para cualquier estado.\n",
    "    Argumentos: \n",
    "      - estado:   tupla donde el primer elemento es una lista de cartas, \n",
    "                correspondientes a la mano del jugador, y donde el segundo \n",
    "                elemento es la carta visible del dealer\n",
    "      - epsilon:  valor real positivo entre 0 y 1, que corresponde al factor de \n",
    "                exploracion\n",
    "    Salidas: \n",
    "      - accion:   bit, 0 para plantarse y 1 para pedir una nueva carta\n",
    "    '''\n",
    "    \n",
    "    def seleccionar_accion(self, estado, epsilon):\n",
    "        estado_transformado = self.transformar_estado(estado)\n",
    "        suma_menor_12 = estado_transformado[0] is not None\n",
    "        if suma_menor_12:\n",
    "            accion = self.generar_accion_con_politica_epsilon_suave(estado_transformado, epsilon)\n",
    "        else:\n",
    "            accion = 1\n",
    "            \n",
    "        return accion, estado_transformado\n",
    "\n",
    "  \n",
    "    '''\n",
    "    Metodo 4:\n",
    "    Este metodo actualiza los valores de la funcion q para una pareja (estado-accion),\n",
    "    adicionandole una cantidad específica \n",
    "    Argumentos: \n",
    "      - estado_transformado:   tupla con puntaje, carta del dealer, y bit de as utilizable\n",
    "      - accion:   bit, 0 para plantarse y 1 para pedir una nueva carta\n",
    "      - cambio:   valor real que determina que tanto cambia la funcion q\n",
    "      - alpha:    valor real positivo entre 0 y 1, que corresponde a la tasa de aprendizaje\n",
    "    '''\n",
    "    \n",
    "    def actualizar_funcion_q(self, estado_transformado, accion, cambio, alpha):\n",
    "        indice_pareja_estado_accion = estado_transformado + (accion,)\n",
    "        self.funcion_q[indice_pareja_estado_accion] += alpha * cambio"
   ]
  },
  {
   "cell_type": "markdown",
   "metadata": {
    "id": "ZohdSy3WpxNt"
   },
   "source": [
    "Creemos a un agente y generemos una acción, para observar su comportamiento."
   ]
  },
  {
   "cell_type": "code",
   "execution_count": 77,
   "metadata": {
    "id": "URNmE46DpwiO"
   },
   "outputs": [
    {
     "name": "stdout",
     "output_type": "stream",
     "text": [
      "Mano:  [[('4', 'hearts'), ('10', 'clubs')], ('Q', 'diamonds')]\n",
      "Estado:  (2, 9, 0)\n",
      "Accion tomada: 0\n"
     ]
    }
   ],
   "source": [
    "mano_inicial = juego.reset()\n",
    "agente = Agente()\n",
    "accion, estado_transformado = agente.seleccionar_accion(mano_inicial, epsilon=0.5)\n",
    "print('Mano: ', mano_inicial)\n",
    "print('Estado: ', estado_transformado)\n",
    "print('Accion tomada: '+str(accion))"
   ]
  },
  {
   "cell_type": "markdown",
   "metadata": {
    "id": "KTPij0QZsxCq"
   },
   "source": [
    "## Método de Monte Carlo\n",
    "\n",
    "### Ejercicio 2.1\n",
    "Definiremos un método para que el agente interactue con el ambiente por un instante de tiempo."
   ]
  },
  {
   "cell_type": "code",
   "execution_count": 78,
   "metadata": {
    "id": "yposwJKUyE8V"
   },
   "outputs": [],
   "source": [
    "def dar_paso(juego, agente, estado, epsilon):\n",
    "    # El agente selecciona una accion\n",
    "    accion, estado_transformado = agente.seleccionar_accion(estado, epsilon)\n",
    "\n",
    "    # El agente actua en el ambiente y recibe la informacion del nuevo estado,\n",
    "    # la recompensa y la señal de juego terminado\n",
    "    _, siguiente_estado, recompensa, juego_terminado = juego.step(accion)\n",
    "    # Se crea una lista con la informacion del paso dado\n",
    "    paso = [estado_transformado, accion, recompensa, juego_terminado]\n",
    "          \n",
    "    return paso, siguiente_estado.copy(), juego_terminado "
   ]
  },
  {
   "cell_type": "markdown",
   "metadata": {
    "id": "GhwrtGHG4KbK"
   },
   "source": [
    "Daremos un paso, para probar el método que acabamos de definir."
   ]
  },
  {
   "cell_type": "code",
   "execution_count": 79,
   "metadata": {
    "id": "ZEV8WJ5B3hX3"
   },
   "outputs": [
    {
     "name": "stdout",
     "output_type": "stream",
     "text": [
      "Mano:  [[('6', 'hearts'), ('8', 'clubs')], ('3', 'diamonds')]\n",
      "Siguiente mano:  [[('6', 'hearts'), ('8', 'clubs')], [('Q', 'clubs'), ('3', 'diamonds'), ('K', 'hearts')]]\n",
      "Juego terminado:  True\n"
     ]
    }
   ],
   "source": [
    "mano_inicial = juego.reset()\n",
    "paso, siguiente_mano, juego_terminado = dar_paso(juego, agente, mano_inicial, epsilon=0.5)\n",
    "print('Mano: ', mano_inicial)\n",
    "print('Siguiente mano: ', siguiente_mano)\n",
    "print('Juego terminado: ', juego_terminado)"
   ]
  },
  {
   "cell_type": "markdown",
   "metadata": {
    "id": "91EvMLin4tuw"
   },
   "source": [
    "### Ejercicio 2.2\n",
    "Definiremos un método para que el agente juegue un juego completo y retorne una trayectoria correspondiente a este juego."
   ]
  },
  {
   "cell_type": "code",
   "execution_count": 80,
   "metadata": {
    "id": "EQYXq8WQ4aWa"
   },
   "outputs": [],
   "source": [
    "def generar_trayectoria(juego, agente, epsilon):\n",
    "    juego_terminado = False    \n",
    "    trayectoria = []\n",
    "    estado = juego.reset()\n",
    "\n",
    "    # Ciclo que genera una trayectoria. En este caso, corresponde a un juego \n",
    "    # completo de Blackjack. \n",
    "    while not juego_terminado:   \n",
    "        # Se da un paso\n",
    "        paso, siguiente_estado, juego_terminado = dar_paso(juego, agente, estado, epsilon)\n",
    "\n",
    "        # Se agrega el paso a la trayectoria\n",
    "        trayectoria.append(paso)    \n",
    "\n",
    "        # Se actualiza la información del estado  \n",
    "        estado = siguiente_estado.copy()\n",
    "\n",
    "    return trayectoria  "
   ]
  },
  {
   "cell_type": "markdown",
   "metadata": {
    "id": "OenkIxF25Afb"
   },
   "source": [
    "Juguemos un juego completo a partir del metodo que acabamos de definir."
   ]
  },
  {
   "cell_type": "code",
   "execution_count": 81,
   "metadata": {
    "id": "xkZMRMI-4_K9"
   },
   "outputs": [
    {
     "name": "stdout",
     "output_type": "stream",
     "text": [
      "Trayectoria:\n",
      "[[(None, None, None), 1, 0.0, False], [(4, 5, 0), 0, 1.0, True]]\n"
     ]
    }
   ],
   "source": [
    "trayectoria = generar_trayectoria(juego, agente, epsilon=0.5)\n",
    "print(\"Trayectoria:\")\n",
    "print(trayectoria)"
   ]
  },
  {
   "cell_type": "markdown",
   "metadata": {
    "id": "uQSoLECjziDN"
   },
   "source": [
    "### Ejercicio 2.3\n",
    "Definiremos un método para que el agente actualice su función q para el último paso de la trayectoria que no ha sido incluido."
   ]
  },
  {
   "cell_type": "code",
   "execution_count": 84,
   "metadata": {
    "id": "Q9Vw0ZxA0Uru"
   },
   "outputs": [],
   "source": [
    "def actualizar_retorno_y_funcion_q_con_paso(agente, paso, retorno, alpha, beta):\n",
    "    # Se extrae el ultimo paso de la trayectoria que no ha sido incluido\n",
    "    estado, accion, recompensa, juego_terminado = paso\n",
    "\n",
    "    # Se actualiza el retorno como la suma de la recompensa mas el acumulado futuro\n",
    "    retorno = recompensa + beta*retorno\n",
    "\n",
    "    # Se actualiza la funcion q del agente si la suma es mayor a 12\n",
    "    suma_mayor_12 = estado[0] is not None\n",
    "    if suma_mayor_12:\n",
    "        indice_estado_accion = estado + (accion,) \n",
    "        cambio_funcion_q = retorno - agente.funcion_q[indice_estado_accion]       \n",
    "        agente.actualizar_funcion_q(estado, accion, cambio_funcion_q, alpha)\n",
    "    \n",
    "    return retorno"
   ]
  },
  {
   "cell_type": "markdown",
   "metadata": {
    "id": "jcwpS_xo9hIu"
   },
   "source": [
    "Veamos cómo cambia la función q cuando utilizamos el método."
   ]
  },
  {
   "cell_type": "code",
   "execution_count": 88,
   "metadata": {
    "id": "3OZKY1et5h4n"
   },
   "outputs": [
    {
     "name": "stdout",
     "output_type": "stream",
     "text": [
      "Retorno (antes de la actualizacion):  0.0\n",
      "Valor absoluto máximo en la función q (antes de la actualizacion):  3.01350802996151\n",
      "Retorno (despues de la actualizacion):  1.0\n",
      "Valor absoluto máximo en la función q (despues de la actualizacion):  3.01350802996151\n"
     ]
    }
   ],
   "source": [
    "agente = Agente()\n",
    "trayectoria = generar_trayectoria(juego, agente, epsilon=0.5)\n",
    "retorno = 0.0\n",
    "paso = trayectoria[-1]\n",
    "print(\"Retorno (antes de la actualizacion): \", retorno)\n",
    "print(\"Valor absoluto máximo en la función q (antes de la actualizacion): \", np.absolute(agente.funcion_q).max())\n",
    "retorno = actualizar_retorno_y_funcion_q_con_paso(agente, paso, retorno, alpha=0.1, beta=1.0)\n",
    "print(\"Retorno (despues de la actualizacion): \", retorno)\n",
    "print(\"Valor absoluto máximo en la función q (despues de la actualizacion): \", np.absolute(agente.funcion_q).max())"
   ]
  },
  {
   "cell_type": "markdown",
   "metadata": {
    "id": "uYyxSjJF9wjO"
   },
   "source": [
    "Podemos ver que inicialmente la función q está completamente llena de valores 0, mientras que después de la actualización no."
   ]
  },
  {
   "cell_type": "markdown",
   "metadata": {
    "id": "bE5CbMjU9DVn"
   },
   "source": [
    "### Ejercicio 2.4\n",
    "Definiremos un método para que el agente actualice su función q a partir de una trayectoria"
   ]
  },
  {
   "cell_type": "code",
   "execution_count": 89,
   "metadata": {
    "id": "rdBbJICn7tg7"
   },
   "outputs": [],
   "source": [
    "def actualizar_funcion_q_con_trayectoria(agente, trayectoria, alpha, beta):\n",
    "    # Inicializamos el retorno\n",
    "    retorno = 0\n",
    "\n",
    "    # Recorremos la trayectoria desde el final hasta el comienzo para estimar el\n",
    "    # retorno para cada pareja estado-accion\n",
    "    for indice_ultimo_paso in range(len(trayectoria)-1,-1,-1):\n",
    "      # Obtenemos un paso de la trayectoria\n",
    "      ultimo_paso = trayectoria[indice_ultimo_paso]\n",
    "\n",
    "      # Actalizamos el retorno para el paso y el valor q correspondiente\n",
    "      retorno = actualizar_retorno_y_funcion_q_con_paso(agente, ultimo_paso, retorno, alpha, beta)"
   ]
  },
  {
   "cell_type": "markdown",
   "metadata": {
    "id": "JTUyfw6t9_-G"
   },
   "source": [
    "Repetimos el procedimiento del Ejercicio 2.3, pero ahora para una trayectoria completa. "
   ]
  },
  {
   "cell_type": "code",
   "execution_count": 90,
   "metadata": {
    "id": "k0t7LhOJ9eWI"
   },
   "outputs": [
    {
     "name": "stdout",
     "output_type": "stream",
     "text": [
      "Valor absoluto máximo en la función q (antes de la actualizacion):  3.1789924930291016\n",
      "Valor absoluto máximo en la función q (despues de la actualizacion):  3.1789924930291016\n"
     ]
    }
   ],
   "source": [
    "agente = Agente()\n",
    "trayectoria = generar_trayectoria(juego, agente, epsilon=0.5)\n",
    "print(\"Valor absoluto máximo en la función q (antes de la actualizacion): \", np.absolute(agente.funcion_q).max())\n",
    "actualizar_funcion_q_con_trayectoria(agente, trayectoria, alpha=0.1, beta=1.0)\n",
    "print(\"Valor absoluto máximo en la función q (despues de la actualizacion): \", np.absolute(agente.funcion_q).max())"
   ]
  },
  {
   "cell_type": "markdown",
   "metadata": {
    "id": "1KAd1Gm21ziW"
   },
   "source": [
    "### Ejercicio 2.5\n",
    "Habiendo definido los métodos para generar trayectorias y actualizar la función q a partir de estas, ya podemos definir nuestro método de entrenamiento de Monte Carlo."
   ]
  },
  {
   "cell_type": "code",
   "execution_count": 92,
   "metadata": {
    "id": "ngGgrpHE3w-m"
   },
   "outputs": [],
   "source": [
    "def entrenar_agente_MonteCarlo(juego, agente, alpha, beta, epsilon, n_episodios, \n",
    "                    imprimir=False, imprimir_cada_ep=5000):  \n",
    "    for episodio in range(0, n_episodios):\n",
    "        # Generamos una trayectoria\n",
    "        trayectoria = generar_trayectoria(juego, agente, epsilon)\n",
    "    \n",
    "        # Actualizamos la funcion q\n",
    "        actualizar_funcion_q_con_trayectoria(agente, trayectoria, alpha, beta)\n",
    "      \n",
    "        if imprimir and ((episodio+1) % imprimir_cada_ep) == 0:\n",
    "            print('Episodio: ' + str(episodio+1))"
   ]
  },
  {
   "cell_type": "markdown",
   "metadata": {
    "id": "qCRpAsVj_jt-"
   },
   "source": [
    "## Bloque de entrenamiento\n",
    "\n",
    "Antes de probar nuestro método de Monte Carlo, vamos a definir una función que nos permitirá evaluar el desempeño del agente y de esta manera podremos saber si nuestro método lo mejora."
   ]
  },
  {
   "cell_type": "markdown",
   "metadata": {
    "id": "UsowSjIIBew7"
   },
   "source": [
    "### Ejercicio 3.1\n",
    "Primero, definamos un método que calcule el retorno de una trayectoria."
   ]
  },
  {
   "cell_type": "code",
   "execution_count": 93,
   "metadata": {
    "id": "HbsS1jK0BlPY"
   },
   "outputs": [],
   "source": [
    "def calcular_retorno_trayectoria(trayectoria, beta):\n",
    "    # Inicializamos el valor del retorno\n",
    "    retorno = 0.0\n",
    "\n",
    "    # Iteramos, paso por paso, y vamos sumando la recompensa de cada paso,\n",
    "    # teniendo en cuenta el factor de descuento\n",
    "    for t, paso in enumerate(trayectoria):\n",
    "        # Obtenemos la recompensa\n",
    "        recompensa = paso[2]\n",
    "\n",
    "        # Actualizamos el retorno\n",
    "        retorno += (beta ** t) * recompensa\n",
    "        \n",
    "    return retorno"
   ]
  },
  {
   "cell_type": "markdown",
   "metadata": {
    "id": "69J48TzgCUX_"
   },
   "source": [
    "Probemos que el método funcione en una trayectoria. "
   ]
  },
  {
   "cell_type": "code",
   "execution_count": 94,
   "metadata": {
    "id": "p6KWvUCZCZwb"
   },
   "outputs": [
    {
     "name": "stdout",
     "output_type": "stream",
     "text": [
      "Trayectoria:  [[(3, 9, 0), 0, -1.0, True]]\n",
      "Retorno:  -1.0\n"
     ]
    }
   ],
   "source": [
    "agente = Agente()\n",
    "trayectoria = generar_trayectoria(juego, agente, epsilon=0.5)\n",
    "retorno = calcular_retorno_trayectoria(trayectoria, beta=1.0)\n",
    "print(\"Trayectoria: \", trayectoria)\n",
    "print(\"Retorno: \", retorno)"
   ]
  },
  {
   "cell_type": "markdown",
   "metadata": {
    "id": "TsKqP00ZDF0c"
   },
   "source": [
    "### Ejercicio 3.2\n",
    "Ahora sí definamos el método que evalua el desempeño del agente, calculando el retorno promedio en una cantidad especificada de episodios, así como su desviación estándar. "
   ]
  },
  {
   "cell_type": "code",
   "execution_count": 95,
   "metadata": {
    "id": "Mky7SPkAyXJX"
   },
   "outputs": [],
   "source": [
    "def evaluar_agente(juego, agente, n_episodios, epsilon, beta,\n",
    "                   imprimir=False, ciclo=0):\n",
    "    retornos = []\n",
    "    for episodio in range(0, n_episodios):\n",
    "        # Generamos una trayectoria\n",
    "        trayectoria = generar_trayectoria(juego, agente, epsilon)\n",
    "\n",
    "        # Calculamos el retorno\n",
    "        retorno = calcular_retorno_trayectoria(trayectoria, beta)\n",
    "\n",
    "        # Añadimos el retorno a una lista de retornos\n",
    "        retornos.append(retorno)\n",
    "        \n",
    "    # Calculamos el retorno promedio y su desviacion\n",
    "    retornos = np.array(retornos)\n",
    "    retorno_promedio = retornos.mean()\n",
    "    desviacion_retorno = retornos.std()\n",
    "\n",
    "    # Imprimimos el retorno si es necesario\n",
    "    if imprimir:\n",
    "        print(('Ciclo: ' + str(ciclo) + ', Retorno esperado: {:.3f}'.format(\n",
    "        retorno_promedio) + u\"\\u00B1\" + '{:.3f}'.format(desviacion_retorno)))\n",
    "  \n",
    "    return retorno_promedio, desviacion_retorno"
   ]
  },
  {
   "cell_type": "markdown",
   "metadata": {
    "id": "5-rCBLuDDAtd"
   },
   "source": [
    "Una vez contamos con la forma de evaluar al agente, podemos observar si nuestro algoritmo de Monte Carlo tiene un efecto positivo o no."
   ]
  },
  {
   "cell_type": "code",
   "execution_count": 96,
   "metadata": {
    "id": "shTAPbhMC_1M"
   },
   "outputs": [
    {
     "name": "stdout",
     "output_type": "stream",
     "text": [
      "Retorno antes de entrenar:  (-0.3838, 0.8977179735306631)\n",
      "Retorno despues de entrenar:  (-0.3864, 0.8961557007574075)\n"
     ]
    }
   ],
   "source": [
    "agente = Agente()\n",
    "retorno_antes = evaluar_agente(juego, agente, n_episodios=10000, epsilon=1.0, beta=1.0)\n",
    "entrenar_agente_MonteCarlo(juego, agente, alpha=0.001, beta=1.0, epsilon=1.0, n_episodios=100000)\n",
    "retorno_despues = evaluar_agente(juego, agente, n_episodios=10000, epsilon=1.0, beta=1.0)\n",
    "print(\"Retorno antes de entrenar: \", retorno_antes)\n",
    "print(\"Retorno despues de entrenar: \", retorno_despues)"
   ]
  },
  {
   "cell_type": "markdown",
   "metadata": {
    "id": "ocEgElLQF9Zi"
   },
   "source": [
    "Dependiendo de la semilla, puede que el retorno después del entrenamiento sea más bajo. Esto es común en aprendizaje por refuerzo, cuando la variación es bastante alta. Sin embargo, una vez se utiliza la cantidad suficiente de episodios, lograremos ver el progreso del agente."
   ]
  },
  {
   "cell_type": "markdown",
   "metadata": {
    "id": "sYV3Ls7VGvRZ"
   },
   "source": [
    "### Ejercicio 3.3\n",
    "Nuestro último método consistirá en un bloque de entrenamiento en el que se alterna el aprendizaje del agente y su evaluación. La salida del método es una lista con la evolución del desempeño del agente."
   ]
  },
  {
   "cell_type": "code",
   "execution_count": 100,
   "metadata": {
    "id": "HxrzLvzCaSa3"
   },
   "outputs": [],
   "source": [
    "def entrenar_agente(juego, agente, alpha, beta, epsilon, decaimiento_epsilon, \n",
    "                    n_ciclos, n_episodios_ent, n_episodios_eval):\n",
    "    \n",
    "    # Se crean listas de desempeño\n",
    "    retornos_media = []\n",
    "    retornos_desviacion = []\n",
    "\n",
    "    # Se ejecuta ciclo de entrenamiento y evaluacion una cantidad n_ciclos de veces\n",
    "    for ciclo in range(0, n_ciclos):\n",
    "        # Se entrena al agente\n",
    "        entrenar_agente_MonteCarlo(juego, agente, alpha, beta, epsilon, n_episodios_ent)\n",
    "\n",
    "        # Se evalua al agente\n",
    "        G_promedio, G_desviacion = evaluar_agente(juego, agente, n_episodios_eval, epsilon, beta,\n",
    "                                                  imprimir=(ciclo % imprimir_cada) == 0, ciclo=ciclo+1)\n",
    "\n",
    "        # Guardamos el desempeño del agente\n",
    "        retornos_media.append(G_promedio)\n",
    "        retornos_desviacion.append(G_desviacion)\n",
    "\n",
    "        epsilon = max(min_epsilon, epsilon * decaimiento_epsilon)\n",
    "\n",
    "    return retornos_media, retornos_desviacion"
   ]
  },
  {
   "cell_type": "markdown",
   "metadata": {
    "id": "mJEwlL99IGxD"
   },
   "source": [
    "## Entrenamiento y gráficas"
   ]
  },
  {
   "cell_type": "markdown",
   "metadata": {
    "id": "AvQLenGdKtzz"
   },
   "source": [
    "Definamos los hiperparametros necesarios y ejecutemos nuestro bloque de entramiento."
   ]
  },
  {
   "cell_type": "code",
   "execution_count": 101,
   "metadata": {
    "id": "7_D6dKPGVPKC"
   },
   "outputs": [],
   "source": [
    "# Se especifican hiperparametros\n",
    "N_episodios_ent = 10000\n",
    "N_episodios_eval = 10000\n",
    "N_ciclos = 200\n",
    "N_acciones = 2\n",
    "epsilon = 1.0\n",
    "min_epsilon = 0.01\n",
    "decaimiento_epsilon = 0.95\n",
    "beta = 1.0\n",
    "alpha = 0.001\n",
    "imprimir_cada = 20\n",
    "\n",
    "# Se crea el juego de BlackJack y un agente por cada metodo\n",
    "juego = AmbienteBJ(seed=semilla)\n",
    "agente = Agente()"
   ]
  },
  {
   "cell_type": "code",
   "execution_count": 102,
   "metadata": {
    "id": "5P3Qa0uo1pLo"
   },
   "outputs": [
    {
     "name": "stdout",
     "output_type": "stream",
     "text": [
      "Ciclo: 1, Retorno esperado: -0.383±0.896\n",
      "Ciclo: 21, Retorno esperado: -0.223±0.940\n",
      "Ciclo: 41, Retorno esperado: -0.130±0.953\n",
      "Ciclo: 61, Retorno esperado: -0.088±0.953\n",
      "Ciclo: 81, Retorno esperado: -0.072±0.951\n",
      "Ciclo: 101, Retorno esperado: -0.071±0.951\n",
      "Ciclo: 121, Retorno esperado: -0.078±0.953\n",
      "Ciclo: 141, Retorno esperado: -0.081±0.952\n",
      "Ciclo: 161, Retorno esperado: -0.070±0.953\n",
      "Ciclo: 181, Retorno esperado: -0.081±0.951\n"
     ]
    }
   ],
   "source": [
    "retornos_MonteCarlo = entrenar_agente(juego, agente, alpha, beta, epsilon, decaimiento_epsilon, \n",
    "                                      N_ciclos, N_episodios_ent, N_episodios_eval)"
   ]
  },
  {
   "cell_type": "code",
   "execution_count": 103,
   "metadata": {
    "id": "JASkuFq2BOIq"
   },
   "outputs": [],
   "source": [
    "# # Este bloque sirve para guardar y cargar el agente\n",
    "# import pickle\n",
    "\n",
    "# Para guardar\n",
    "# pickle.dump(agente, open('agente_MC.pt', 'wb'))\n",
    "\n",
    "# Para cargar\n",
    "# agente = pickle.load(open('agente_MC.pt', 'rb'))"
   ]
  },
  {
   "cell_type": "markdown",
   "metadata": {
    "id": "DOPwstc7K6kZ"
   },
   "source": [
    "Ahora grafiquemos la curva de aprendizaje para determinar si sí hubo aprendizaje y si la cantidad de episodios fue suficiente."
   ]
  },
  {
   "cell_type": "code",
   "execution_count": 104,
   "metadata": {
    "id": "6MWgMc8eK5x1"
   },
   "outputs": [
    {
     "data": {
      "image/png": "[encoded data removed]",
      "text/plain": [
       "<Figure size 576x360 with 1 Axes>"
      ]
     },
     "metadata": {
      "needs_background": "light"
     },
     "output_type": "display_data"
    }
   ],
   "source": [
    "fig, ax = plt.subplots(1,1, figsize=(8,5))\n",
    "plt.plot(np.array(retornos_MonteCarlo[0]), label='MonteCarlo')\n",
    "plt.title('Curva de aprendizaje')\n",
    "plt.ylabel('Retorno promedio')\n",
    "plt.xlabel('Iteracion')\n",
    "plt.legend(fontsize=15)\n",
    "plt.show()\n",
    "plt.close()"
   ]
  },
  {
   "cell_type": "markdown",
   "metadata": {
    "id": "0qGsdtwRLOEx"
   },
   "source": [
    "Por último, grafiquemos la política óptima."
   ]
  },
  {
   "cell_type": "code",
   "execution_count": 105,
   "metadata": {
    "id": "LCUqv6jEyIpo"
   },
   "outputs": [],
   "source": [
    "politica_optima = agente.funcion_q.argmax(3)\n",
    "politica_optima_df_dic = {}\n",
    "for i in range(0,2):\n",
    "    politica_optima_df_dic[str(i)] = pd.DataFrame(data=politica_optima[:,:,i], \n",
    "                                       index=range(12,22), \n",
    "                                       columns=['A']+[str(x) for x in range(2,11)])"
   ]
  },
  {
   "cell_type": "code",
   "execution_count": 106,
   "metadata": {
    "id": "3rcuBAAgLkOJ"
   },
   "outputs": [
    {
     "data": {
      "image/png": "[encoded data removed]",
      "text/plain": [
       "<Figure size 864x432 with 2 Axes>"
      ]
     },
     "metadata": {
      "needs_background": "light"
     },
     "output_type": "display_data"
    }
   ],
   "source": [
    "fig, ax = plt.subplots(1,2, figsize=(12,6))\n",
    "for i in range(0,2):\n",
    "    sns_ax = sns.heatmap(politica_optima_df_dic[str(i)], ax=ax[i], \n",
    "                       cmap=sns.color_palette(\"hls\", 2), cbar=False)\n",
    "    sns_ax.invert_yaxis()\n",
    "    ax[i].set_xlabel('Carta del repartidor')\n",
    "    \n",
    "ax[0].text(7.0, 2.0, 'Pedir', fontsize=24)\n",
    "ax[0].text(3.0, 7.0, 'Plantarse', fontsize=24)\n",
    "ax[1].text(4.0, 3.0, 'Pedir', fontsize=24)\n",
    "ax[1].text(3.0, 7.0, 'Plantarse', fontsize=24)\n",
    "ax[0].set_title('Politica con As No Utilizable', fontsize=20)\n",
    "ax[1].set_title('Politica con As Utilizable', fontsize=20)\n",
    "ax[0].set_ylabel('Puntaje del jugador')\n",
    "plt.show()\n",
    "plt.close()"
   ]
  },
  {
   "cell_type": "markdown",
   "metadata": {
    "id": "_eZQaKZri6TE"
   },
   "source": [
    "# Preguntas\n",
    "\n",
    "1.   ¿Cuál es el efecto del parámetro epsilon en la curva de aprendizaje?¿Por qué? Pruebe 3 distintos valores y compáre los resultados en una gráfica.\n",
    "2.   El algoritmo que se está implementando no es exactamente igual al explicado en el video. Describa las diferencias e intente explicar por qué son necesarias. (Hint: acá se introduce un parámetro $\\alpha$ que no se encuentra en el algoritmo original. ¿Qué papel está cumpliendo? La estimación de la función q supone que la política es invariante. ¿Esto se cumple?¿Por qué?) \n",
    "3.   En este caso tenemos 200 estados, ¿cree que el método puede ser tan útil para un ambiente con 2000 estados?, ¿y para uno de 2 millones?, ¿y qué pasa si el espacio de estados es continuo?¿Cómo cree que se puede atacar este problema?\n",
    "4.   ¿Cree que es viable utilizar el método de programación dinámica en este problema?¿Por qué sí o por qué no?\n",
    "4.   Bono: Implemente el algoritmo Q-learning o el algoritmo SARSA y haga una comparación."
   ]
  },
  {
   "cell_type": "markdown",
   "metadata": {},
   "source": [
    "1. ¿Cuál es el efecto del parámetro epsilon en la curva de aprendizaje?¿Por qué? \n",
    "\n",
    "Al seleccionar la siguiente acción en un episodio, se usa un valor épsilon para aumentar la exploración dentro de un episodio en lugar de seleccionar la misma acción una y otra vez. Cuando se usa el decaimiento de épsilon, a medida que se juegan más juegos, el valor de épsilon se vuelve más pequeño y el agente comienza a explotar en lugar de explorar nuevas acciones en un estado. El uso de un valor épsilon más alto resulta en una mayor exploración.\n",
    "\n",
    "2. El algoritmo que se está implementando no es exactamente igual al explicado en el video. Describa las diferencias e intente explicar por qué son necesarias. (Hint: acá se introduce un parámetro  𝛼  que no se encuentra en el algoritmo original. ¿Qué papel está cumpliendo? La estimación de la función q supone que la política es invariante. ¿Esto se cumple?¿Por qué?)\n",
    "\n",
    "La mayor diferencia se al introducir el parámetro $\\alpha$ el cual es un valor real positivo entre 0 y 1, que corresponde a la tasa de aprendizaje."
   ]
  },
  {
   "cell_type": "code",
   "execution_count": null,
   "metadata": {},
   "outputs": [],
   "source": []
  }
 ],
 "metadata": {
  "colab": {
   "collapsed_sections": [],
   "name": "Semana16_AprendizajePorRefuerzo_Actividad.ipynb",
   "provenance": []
  },
  "kernelspec": {
   "display_name": "Python 3",
   "language": "python",
   "name": "python3"
  },
  "language_info": {
   "codemirror_mode": {
    "name": "ipython",
    "version": 3
   },
   "file_extension": ".py",
   "mimetype": "text/x-python",
   "name": "python",
   "nbconvert_exporter": "python",
   "pygments_lexer": "ipython3",
   "version": "3.8.5"
  }
 },
 "nbformat": 4,
 "nbformat_minor": 1
}
