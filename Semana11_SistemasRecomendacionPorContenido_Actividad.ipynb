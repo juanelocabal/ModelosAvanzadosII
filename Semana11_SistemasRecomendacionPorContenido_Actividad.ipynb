{
 "cells": [
  {
   "cell_type": "markdown",
   "metadata": {},
   "source": [
    "## MIIA-4203 MODELOS AVANZADOS PARA ANÁLISIS DE DATOS II\n",
    "\n",
    "\n",
    "# Sistemas de Recomendación basados en contenido\n",
    "\n",
    "## Actividad 11\n",
    "\n",
    "\n",
    "### Profesor: Camilo Franco (c.franco31@uniandes.edu.co)\n",
    "\n",
    "En este cuadernos estudiaremos los sistemas de recomendacion basados en contenido. Seguiremos trabajando con  la base de datos de películas de IMDB (https://www.imdb.com/) \n",
    "\n"
   ]
  },
  {
   "cell_type": "markdown",
   "metadata": {},
   "source": [
    "## Introducción\n",
    "\n",
    "Los recomendadores basados en contenido se construyen a partir de la identificación de ítems que el usuario prefiere, y la búsqueda de ítems similares en función de determinados atributos, como por ejemplo el género, la sinopsis o el reparto (actores, etc). De esta manera, si el usuario tiene unas preferencias específicas sobre un ítem específico, también podría tener preferencia por un ítem *similar*.\n",
    "\n",
    "Primero carguemos los datos con los que vamos a trabajar:\n"
   ]
  },
  {
   "cell_type": "code",
   "execution_count": 1,
   "metadata": {},
   "outputs": [
    {
     "name": "stdout",
     "output_type": "stream",
     "text": [
      "(45466, 24)\n"
     ]
    },
    {
     "data": {
      "text/plain": [
       "['adult',\n",
       " 'belongs_to_collection',\n",
       " 'budget',\n",
       " 'genres',\n",
       " 'homepage',\n",
       " 'id',\n",
       " 'imdb_id',\n",
       " 'original_language',\n",
       " 'original_title',\n",
       " 'overview',\n",
       " 'popularity',\n",
       " 'poster_path',\n",
       " 'production_companies',\n",
       " 'production_countries',\n",
       " 'release_date',\n",
       " 'revenue',\n",
       " 'runtime',\n",
       " 'spoken_languages',\n",
       " 'status',\n",
       " 'tagline',\n",
       " 'title',\n",
       " 'video',\n",
       " 'vote_average',\n",
       " 'vote_count']"
      ]
     },
     "execution_count": 1,
     "metadata": {},
     "output_type": "execute_result"
    }
   ],
   "source": [
    "# Importamos la biblioteca Pandas\n",
    "import pandas as pd\n",
    "\n",
    "# Cargamos los datos de peliculas de la base de datos IMDB\n",
    "metadata = pd.read_csv('movies_metadata.csv', low_memory=False)\n",
    "\n",
    "print(metadata.shape)\n",
    "      \n",
    "list(metadata)\n"
   ]
  },
  {
   "cell_type": "code",
   "execution_count": 2,
   "metadata": {},
   "outputs": [
    {
     "data": {
      "text/html": [
       "<div>\n",
       "<style scoped>\n",
       "    .dataframe tbody tr th:only-of-type {\n",
       "        vertical-align: middle;\n",
       "    }\n",
       "\n",
       "    .dataframe tbody tr th {\n",
       "        vertical-align: top;\n",
       "    }\n",
       "\n",
       "    .dataframe thead th {\n",
       "        text-align: right;\n",
       "    }\n",
       "</style>\n",
       "<table border=\"1\" class=\"dataframe\">\n",
       "  <thead>\n",
       "    <tr style=\"text-align: right;\">\n",
       "      <th></th>\n",
       "      <th>adult</th>\n",
       "      <th>belongs_to_collection</th>\n",
       "      <th>budget</th>\n",
       "      <th>genres</th>\n",
       "      <th>homepage</th>\n",
       "      <th>id</th>\n",
       "      <th>imdb_id</th>\n",
       "      <th>original_language</th>\n",
       "      <th>original_title</th>\n",
       "      <th>overview</th>\n",
       "      <th>...</th>\n",
       "      <th>release_date</th>\n",
       "      <th>revenue</th>\n",
       "      <th>runtime</th>\n",
       "      <th>spoken_languages</th>\n",
       "      <th>status</th>\n",
       "      <th>tagline</th>\n",
       "      <th>title</th>\n",
       "      <th>video</th>\n",
       "      <th>vote_average</th>\n",
       "      <th>vote_count</th>\n",
       "    </tr>\n",
       "  </thead>\n",
       "  <tbody>\n",
       "    <tr>\n",
       "      <th>0</th>\n",
       "      <td>False</td>\n",
       "      <td>{'id': 10194, 'name': 'Toy Story Collection', ...</td>\n",
       "      <td>30000000</td>\n",
       "      <td>[{'id': 16, 'name': 'Animation'}, {'id': 35, '...</td>\n",
       "      <td>http://toystory.disney.com/toy-story</td>\n",
       "      <td>862</td>\n",
       "      <td>tt0114709</td>\n",
       "      <td>en</td>\n",
       "      <td>Toy Story</td>\n",
       "      <td>Led by Woody, Andy's toys live happily in his ...</td>\n",
       "      <td>...</td>\n",
       "      <td>1995-10-30</td>\n",
       "      <td>373554033.0</td>\n",
       "      <td>81.0</td>\n",
       "      <td>[{'iso_639_1': 'en', 'name': 'English'}]</td>\n",
       "      <td>Released</td>\n",
       "      <td>NaN</td>\n",
       "      <td>Toy Story</td>\n",
       "      <td>False</td>\n",
       "      <td>7.7</td>\n",
       "      <td>5415.0</td>\n",
       "    </tr>\n",
       "    <tr>\n",
       "      <th>1</th>\n",
       "      <td>False</td>\n",
       "      <td>NaN</td>\n",
       "      <td>65000000</td>\n",
       "      <td>[{'id': 12, 'name': 'Adventure'}, {'id': 14, '...</td>\n",
       "      <td>NaN</td>\n",
       "      <td>8844</td>\n",
       "      <td>tt0113497</td>\n",
       "      <td>en</td>\n",
       "      <td>Jumanji</td>\n",
       "      <td>When siblings Judy and Peter discover an encha...</td>\n",
       "      <td>...</td>\n",
       "      <td>1995-12-15</td>\n",
       "      <td>262797249.0</td>\n",
       "      <td>104.0</td>\n",
       "      <td>[{'iso_639_1': 'en', 'name': 'English'}, {'iso...</td>\n",
       "      <td>Released</td>\n",
       "      <td>Roll the dice and unleash the excitement!</td>\n",
       "      <td>Jumanji</td>\n",
       "      <td>False</td>\n",
       "      <td>6.9</td>\n",
       "      <td>2413.0</td>\n",
       "    </tr>\n",
       "    <tr>\n",
       "      <th>2</th>\n",
       "      <td>False</td>\n",
       "      <td>{'id': 119050, 'name': 'Grumpy Old Men Collect...</td>\n",
       "      <td>0</td>\n",
       "      <td>[{'id': 10749, 'name': 'Romance'}, {'id': 35, ...</td>\n",
       "      <td>NaN</td>\n",
       "      <td>15602</td>\n",
       "      <td>tt0113228</td>\n",
       "      <td>en</td>\n",
       "      <td>Grumpier Old Men</td>\n",
       "      <td>A family wedding reignites the ancient feud be...</td>\n",
       "      <td>...</td>\n",
       "      <td>1995-12-22</td>\n",
       "      <td>0.0</td>\n",
       "      <td>101.0</td>\n",
       "      <td>[{'iso_639_1': 'en', 'name': 'English'}]</td>\n",
       "      <td>Released</td>\n",
       "      <td>Still Yelling. Still Fighting. Still Ready for...</td>\n",
       "      <td>Grumpier Old Men</td>\n",
       "      <td>False</td>\n",
       "      <td>6.5</td>\n",
       "      <td>92.0</td>\n",
       "    </tr>\n",
       "  </tbody>\n",
       "</table>\n",
       "<p>3 rows × 24 columns</p>\n",
       "</div>"
      ],
      "text/plain": [
       "   adult                              belongs_to_collection    budget  \\\n",
       "0  False  {'id': 10194, 'name': 'Toy Story Collection', ...  30000000   \n",
       "1  False                                                NaN  65000000   \n",
       "2  False  {'id': 119050, 'name': 'Grumpy Old Men Collect...         0   \n",
       "\n",
       "                                              genres  \\\n",
       "0  [{'id': 16, 'name': 'Animation'}, {'id': 35, '...   \n",
       "1  [{'id': 12, 'name': 'Adventure'}, {'id': 14, '...   \n",
       "2  [{'id': 10749, 'name': 'Romance'}, {'id': 35, ...   \n",
       "\n",
       "                               homepage     id    imdb_id original_language  \\\n",
       "0  http://toystory.disney.com/toy-story    862  tt0114709                en   \n",
       "1                                   NaN   8844  tt0113497                en   \n",
       "2                                   NaN  15602  tt0113228                en   \n",
       "\n",
       "     original_title                                           overview  ...  \\\n",
       "0         Toy Story  Led by Woody, Andy's toys live happily in his ...  ...   \n",
       "1           Jumanji  When siblings Judy and Peter discover an encha...  ...   \n",
       "2  Grumpier Old Men  A family wedding reignites the ancient feud be...  ...   \n",
       "\n",
       "  release_date      revenue runtime  \\\n",
       "0   1995-10-30  373554033.0    81.0   \n",
       "1   1995-12-15  262797249.0   104.0   \n",
       "2   1995-12-22          0.0   101.0   \n",
       "\n",
       "                                    spoken_languages    status  \\\n",
       "0           [{'iso_639_1': 'en', 'name': 'English'}]  Released   \n",
       "1  [{'iso_639_1': 'en', 'name': 'English'}, {'iso...  Released   \n",
       "2           [{'iso_639_1': 'en', 'name': 'English'}]  Released   \n",
       "\n",
       "                                             tagline             title  video  \\\n",
       "0                                                NaN         Toy Story  False   \n",
       "1          Roll the dice and unleash the excitement!           Jumanji  False   \n",
       "2  Still Yelling. Still Fighting. Still Ready for...  Grumpier Old Men  False   \n",
       "\n",
       "  vote_average vote_count  \n",
       "0          7.7     5415.0  \n",
       "1          6.9     2413.0  \n",
       "2          6.5       92.0  \n",
       "\n",
       "[3 rows x 24 columns]"
      ]
     },
     "execution_count": 2,
     "metadata": {},
     "output_type": "execute_result"
    }
   ],
   "source": [
    "# Así se ven los datos\n",
    "metadata.head(3)"
   ]
  },
  {
   "cell_type": "markdown",
   "metadata": {},
   "source": [
    "## 2 .Recomendación de peliculas mas populares por genero\n",
    "\n",
    "Ahora recordemos la recomendación de películas por género de acuerdo con su popularidad, donde calculamos el voto promedio ponderado $\\mu_i$, de la $i$-ésima película como:\n",
    "\n",
    "$$\n",
    "\\mu_i  = \\left( \\frac{v_i}{v_{max}} \\right) R_i \n",
    "$$\n",
    "\n",
    "donde $v_i$ es el número de votos para la $i$-ésima película, $v_{max}$ es el máximo número de votos que recibe la película más popular, y $R$ es el rating promedio de la pelicula.\n"
   ]
  },
  {
   "cell_type": "code",
   "execution_count": 3,
   "metadata": {},
   "outputs": [
    {
     "data": {
      "text/html": [
       "<div>\n",
       "<style scoped>\n",
       "    .dataframe tbody tr th:only-of-type {\n",
       "        vertical-align: middle;\n",
       "    }\n",
       "\n",
       "    .dataframe tbody tr th {\n",
       "        vertical-align: top;\n",
       "    }\n",
       "\n",
       "    .dataframe thead th {\n",
       "        text-align: right;\n",
       "    }\n",
       "</style>\n",
       "<table border=\"1\" class=\"dataframe\">\n",
       "  <thead>\n",
       "    <tr style=\"text-align: right;\">\n",
       "      <th></th>\n",
       "      <th>adult</th>\n",
       "      <th>belongs_to_collection</th>\n",
       "      <th>budget</th>\n",
       "      <th>genres</th>\n",
       "      <th>homepage</th>\n",
       "      <th>id</th>\n",
       "      <th>imdb_id</th>\n",
       "      <th>original_language</th>\n",
       "      <th>original_title</th>\n",
       "      <th>overview</th>\n",
       "      <th>...</th>\n",
       "      <th>revenue</th>\n",
       "      <th>runtime</th>\n",
       "      <th>spoken_languages</th>\n",
       "      <th>status</th>\n",
       "      <th>tagline</th>\n",
       "      <th>title</th>\n",
       "      <th>video</th>\n",
       "      <th>vote_average</th>\n",
       "      <th>vote_count</th>\n",
       "      <th>year</th>\n",
       "    </tr>\n",
       "  </thead>\n",
       "  <tbody>\n",
       "    <tr>\n",
       "      <th>0</th>\n",
       "      <td>False</td>\n",
       "      <td>{'id': 10194, 'name': 'Toy Story Collection', ...</td>\n",
       "      <td>30000000</td>\n",
       "      <td>[Animation, Comedy, Family]</td>\n",
       "      <td>http://toystory.disney.com/toy-story</td>\n",
       "      <td>862</td>\n",
       "      <td>tt0114709</td>\n",
       "      <td>en</td>\n",
       "      <td>Toy Story</td>\n",
       "      <td>Led by Woody, Andy's toys live happily in his ...</td>\n",
       "      <td>...</td>\n",
       "      <td>373554033.0</td>\n",
       "      <td>81.0</td>\n",
       "      <td>[{'iso_639_1': 'en', 'name': 'English'}]</td>\n",
       "      <td>Released</td>\n",
       "      <td>NaN</td>\n",
       "      <td>Toy Story</td>\n",
       "      <td>False</td>\n",
       "      <td>7.7</td>\n",
       "      <td>5415.0</td>\n",
       "      <td>1995</td>\n",
       "    </tr>\n",
       "    <tr>\n",
       "      <th>1</th>\n",
       "      <td>False</td>\n",
       "      <td>NaN</td>\n",
       "      <td>65000000</td>\n",
       "      <td>[Adventure, Fantasy, Family]</td>\n",
       "      <td>NaN</td>\n",
       "      <td>8844</td>\n",
       "      <td>tt0113497</td>\n",
       "      <td>en</td>\n",
       "      <td>Jumanji</td>\n",
       "      <td>When siblings Judy and Peter discover an encha...</td>\n",
       "      <td>...</td>\n",
       "      <td>262797249.0</td>\n",
       "      <td>104.0</td>\n",
       "      <td>[{'iso_639_1': 'en', 'name': 'English'}, {'iso...</td>\n",
       "      <td>Released</td>\n",
       "      <td>Roll the dice and unleash the excitement!</td>\n",
       "      <td>Jumanji</td>\n",
       "      <td>False</td>\n",
       "      <td>6.9</td>\n",
       "      <td>2413.0</td>\n",
       "      <td>1995</td>\n",
       "    </tr>\n",
       "    <tr>\n",
       "      <th>2</th>\n",
       "      <td>False</td>\n",
       "      <td>{'id': 119050, 'name': 'Grumpy Old Men Collect...</td>\n",
       "      <td>0</td>\n",
       "      <td>[Romance, Comedy]</td>\n",
       "      <td>NaN</td>\n",
       "      <td>15602</td>\n",
       "      <td>tt0113228</td>\n",
       "      <td>en</td>\n",
       "      <td>Grumpier Old Men</td>\n",
       "      <td>A family wedding reignites the ancient feud be...</td>\n",
       "      <td>...</td>\n",
       "      <td>0.0</td>\n",
       "      <td>101.0</td>\n",
       "      <td>[{'iso_639_1': 'en', 'name': 'English'}]</td>\n",
       "      <td>Released</td>\n",
       "      <td>Still Yelling. Still Fighting. Still Ready for...</td>\n",
       "      <td>Grumpier Old Men</td>\n",
       "      <td>False</td>\n",
       "      <td>6.5</td>\n",
       "      <td>92.0</td>\n",
       "      <td>1995</td>\n",
       "    </tr>\n",
       "  </tbody>\n",
       "</table>\n",
       "<p>3 rows × 25 columns</p>\n",
       "</div>"
      ],
      "text/plain": [
       "   adult                              belongs_to_collection    budget  \\\n",
       "0  False  {'id': 10194, 'name': 'Toy Story Collection', ...  30000000   \n",
       "1  False                                                NaN  65000000   \n",
       "2  False  {'id': 119050, 'name': 'Grumpy Old Men Collect...         0   \n",
       "\n",
       "                         genres                              homepage     id  \\\n",
       "0   [Animation, Comedy, Family]  http://toystory.disney.com/toy-story    862   \n",
       "1  [Adventure, Fantasy, Family]                                   NaN   8844   \n",
       "2             [Romance, Comedy]                                   NaN  15602   \n",
       "\n",
       "     imdb_id original_language    original_title  \\\n",
       "0  tt0114709                en         Toy Story   \n",
       "1  tt0113497                en           Jumanji   \n",
       "2  tt0113228                en  Grumpier Old Men   \n",
       "\n",
       "                                            overview  ...      revenue  \\\n",
       "0  Led by Woody, Andy's toys live happily in his ...  ...  373554033.0   \n",
       "1  When siblings Judy and Peter discover an encha...  ...  262797249.0   \n",
       "2  A family wedding reignites the ancient feud be...  ...          0.0   \n",
       "\n",
       "  runtime                                   spoken_languages    status  \\\n",
       "0    81.0           [{'iso_639_1': 'en', 'name': 'English'}]  Released   \n",
       "1   104.0  [{'iso_639_1': 'en', 'name': 'English'}, {'iso...  Released   \n",
       "2   101.0           [{'iso_639_1': 'en', 'name': 'English'}]  Released   \n",
       "\n",
       "                                             tagline             title  video  \\\n",
       "0                                                NaN         Toy Story  False   \n",
       "1          Roll the dice and unleash the excitement!           Jumanji  False   \n",
       "2  Still Yelling. Still Fighting. Still Ready for...  Grumpier Old Men  False   \n",
       "\n",
       "  vote_average vote_count  year  \n",
       "0          7.7     5415.0  1995  \n",
       "1          6.9     2413.0  1995  \n",
       "2          6.5       92.0  1995  \n",
       "\n",
       "[3 rows x 25 columns]"
      ]
     },
     "execution_count": 3,
     "metadata": {},
     "output_type": "execute_result"
    }
   ],
   "source": [
    "import numpy as np\n",
    "from ast import literal_eval\n",
    "\n",
    "# trabajamos la informacion por generos\n",
    "metadata['genres'] = metadata['genres'].fillna('[]').apply(literal_eval).apply(lambda x: [i['name'] for i in x] if isinstance(x, list) else [])\n",
    "\n",
    "# añadimos la variable del año\n",
    "metadata['year'] = pd.to_datetime(metadata['release_date'], errors='coerce').apply(lambda x: str(x).split('-')[0] if x != np.nan else np.nan)\n",
    "\n",
    "metadata.head(3)"
   ]
  },
  {
   "cell_type": "markdown",
   "metadata": {},
   "source": [
    "Primero nos quedamos con todos los generos:"
   ]
  },
  {
   "cell_type": "code",
   "execution_count": 4,
   "metadata": {},
   "outputs": [
    {
     "name": "stderr",
     "output_type": "stream",
     "text": [
      "<ipython-input-4-9060be38a979>:1: DeprecationWarning: The default dtype for empty Series will be 'object' instead of 'float64' in a future version. Specify a dtype explicitly to silence this warning.\n",
      "  generos = metadata.apply(lambda x: pd.Series(x['genres']),axis=1).stack().reset_index(level=1, drop=True)\n"
     ]
    },
    {
     "data": {
      "text/html": [
       "<div>\n",
       "<style scoped>\n",
       "    .dataframe tbody tr th:only-of-type {\n",
       "        vertical-align: middle;\n",
       "    }\n",
       "\n",
       "    .dataframe tbody tr th {\n",
       "        vertical-align: top;\n",
       "    }\n",
       "\n",
       "    .dataframe thead th {\n",
       "        text-align: right;\n",
       "    }\n",
       "</style>\n",
       "<table border=\"1\" class=\"dataframe\">\n",
       "  <thead>\n",
       "    <tr style=\"text-align: right;\">\n",
       "      <th></th>\n",
       "      <th>adult</th>\n",
       "      <th>belongs_to_collection</th>\n",
       "      <th>budget</th>\n",
       "      <th>homepage</th>\n",
       "      <th>id</th>\n",
       "      <th>imdb_id</th>\n",
       "      <th>original_language</th>\n",
       "      <th>original_title</th>\n",
       "      <th>overview</th>\n",
       "      <th>popularity</th>\n",
       "      <th>...</th>\n",
       "      <th>runtime</th>\n",
       "      <th>spoken_languages</th>\n",
       "      <th>status</th>\n",
       "      <th>tagline</th>\n",
       "      <th>title</th>\n",
       "      <th>video</th>\n",
       "      <th>vote_average</th>\n",
       "      <th>vote_count</th>\n",
       "      <th>year</th>\n",
       "      <th>genre</th>\n",
       "    </tr>\n",
       "  </thead>\n",
       "  <tbody>\n",
       "    <tr>\n",
       "      <th>0</th>\n",
       "      <td>False</td>\n",
       "      <td>{'id': 10194, 'name': 'Toy Story Collection', ...</td>\n",
       "      <td>30000000</td>\n",
       "      <td>http://toystory.disney.com/toy-story</td>\n",
       "      <td>862</td>\n",
       "      <td>tt0114709</td>\n",
       "      <td>en</td>\n",
       "      <td>Toy Story</td>\n",
       "      <td>Led by Woody, Andy's toys live happily in his ...</td>\n",
       "      <td>21.946943</td>\n",
       "      <td>...</td>\n",
       "      <td>81.0</td>\n",
       "      <td>[{'iso_639_1': 'en', 'name': 'English'}]</td>\n",
       "      <td>Released</td>\n",
       "      <td>NaN</td>\n",
       "      <td>Toy Story</td>\n",
       "      <td>False</td>\n",
       "      <td>7.7</td>\n",
       "      <td>5415.0</td>\n",
       "      <td>1995</td>\n",
       "      <td>Animation</td>\n",
       "    </tr>\n",
       "    <tr>\n",
       "      <th>0</th>\n",
       "      <td>False</td>\n",
       "      <td>{'id': 10194, 'name': 'Toy Story Collection', ...</td>\n",
       "      <td>30000000</td>\n",
       "      <td>http://toystory.disney.com/toy-story</td>\n",
       "      <td>862</td>\n",
       "      <td>tt0114709</td>\n",
       "      <td>en</td>\n",
       "      <td>Toy Story</td>\n",
       "      <td>Led by Woody, Andy's toys live happily in his ...</td>\n",
       "      <td>21.946943</td>\n",
       "      <td>...</td>\n",
       "      <td>81.0</td>\n",
       "      <td>[{'iso_639_1': 'en', 'name': 'English'}]</td>\n",
       "      <td>Released</td>\n",
       "      <td>NaN</td>\n",
       "      <td>Toy Story</td>\n",
       "      <td>False</td>\n",
       "      <td>7.7</td>\n",
       "      <td>5415.0</td>\n",
       "      <td>1995</td>\n",
       "      <td>Comedy</td>\n",
       "    </tr>\n",
       "    <tr>\n",
       "      <th>0</th>\n",
       "      <td>False</td>\n",
       "      <td>{'id': 10194, 'name': 'Toy Story Collection', ...</td>\n",
       "      <td>30000000</td>\n",
       "      <td>http://toystory.disney.com/toy-story</td>\n",
       "      <td>862</td>\n",
       "      <td>tt0114709</td>\n",
       "      <td>en</td>\n",
       "      <td>Toy Story</td>\n",
       "      <td>Led by Woody, Andy's toys live happily in his ...</td>\n",
       "      <td>21.946943</td>\n",
       "      <td>...</td>\n",
       "      <td>81.0</td>\n",
       "      <td>[{'iso_639_1': 'en', 'name': 'English'}]</td>\n",
       "      <td>Released</td>\n",
       "      <td>NaN</td>\n",
       "      <td>Toy Story</td>\n",
       "      <td>False</td>\n",
       "      <td>7.7</td>\n",
       "      <td>5415.0</td>\n",
       "      <td>1995</td>\n",
       "      <td>Family</td>\n",
       "    </tr>\n",
       "  </tbody>\n",
       "</table>\n",
       "<p>3 rows × 25 columns</p>\n",
       "</div>"
      ],
      "text/plain": [
       "   adult                              belongs_to_collection    budget  \\\n",
       "0  False  {'id': 10194, 'name': 'Toy Story Collection', ...  30000000   \n",
       "0  False  {'id': 10194, 'name': 'Toy Story Collection', ...  30000000   \n",
       "0  False  {'id': 10194, 'name': 'Toy Story Collection', ...  30000000   \n",
       "\n",
       "                               homepage   id    imdb_id original_language  \\\n",
       "0  http://toystory.disney.com/toy-story  862  tt0114709                en   \n",
       "0  http://toystory.disney.com/toy-story  862  tt0114709                en   \n",
       "0  http://toystory.disney.com/toy-story  862  tt0114709                en   \n",
       "\n",
       "  original_title                                           overview  \\\n",
       "0      Toy Story  Led by Woody, Andy's toys live happily in his ...   \n",
       "0      Toy Story  Led by Woody, Andy's toys live happily in his ...   \n",
       "0      Toy Story  Led by Woody, Andy's toys live happily in his ...   \n",
       "\n",
       "  popularity  ... runtime                          spoken_languages    status  \\\n",
       "0  21.946943  ...    81.0  [{'iso_639_1': 'en', 'name': 'English'}]  Released   \n",
       "0  21.946943  ...    81.0  [{'iso_639_1': 'en', 'name': 'English'}]  Released   \n",
       "0  21.946943  ...    81.0  [{'iso_639_1': 'en', 'name': 'English'}]  Released   \n",
       "\n",
       "  tagline      title  video vote_average vote_count  year      genre  \n",
       "0     NaN  Toy Story  False          7.7     5415.0  1995  Animation  \n",
       "0     NaN  Toy Story  False          7.7     5415.0  1995     Comedy  \n",
       "0     NaN  Toy Story  False          7.7     5415.0  1995     Family  \n",
       "\n",
       "[3 rows x 25 columns]"
      ]
     },
     "execution_count": 4,
     "metadata": {},
     "output_type": "execute_result"
    }
   ],
   "source": [
    "generos = metadata.apply(lambda x: pd.Series(x['genres']),axis=1).stack().reset_index(level=1, drop=True)\n",
    "generos.name = 'genre'\n",
    "gen_md = metadata.drop('genres', axis=1).join(generos)\n",
    "\n",
    "gen_md.head(3)"
   ]
  },
  {
   "cell_type": "markdown",
   "metadata": {},
   "source": [
    "Construimos una funcion para un género particular y que tome en cuenta peliculas con un número vmin de votos:"
   ]
  },
  {
   "cell_type": "code",
   "execution_count": 5,
   "metadata": {},
   "outputs": [],
   "source": [
    "def rec_gen(genero, vmin):\n",
    "    df = gen_md[gen_md['genre'] == genero]\n",
    "    v = df[df['vote_count'].notnull()]['vote_count'].astype('int')\n",
    "    R = df[df['vote_average'].notnull()]['vote_average'].astype('int')\n",
    "    m = df['vote_average'].max()\n",
    "    \n",
    "    pelisG = df[(df['vote_count'] >= vmin) & (df['vote_count'].notnull()) & (df['vote_average'].notnull())][['title', 'year', 'vote_count', 'vote_average', 'popularity', 'overview', 'homepage']]\n",
    "    pelisG['vote_count'] = pelisG['vote_count'].astype('int')\n",
    "    pelisG['vote_average'] = pelisG['vote_average'].astype('int')\n",
    "    \n",
    "    pelisG['wr'] = v/m * R\n",
    "    pelisG = pelisG.sort_values('wr', ascending=False).head(250)\n",
    "    \n",
    "    return pelisG"
   ]
  },
  {
   "cell_type": "markdown",
   "metadata": {},
   "source": [
    "Veamos el Top-15 de recomendaciones en Ciencia Ficción:"
   ]
  },
  {
   "cell_type": "code",
   "execution_count": 6,
   "metadata": {},
   "outputs": [
    {
     "data": {
      "text/html": [
       "<div>\n",
       "<style scoped>\n",
       "    .dataframe tbody tr th:only-of-type {\n",
       "        vertical-align: middle;\n",
       "    }\n",
       "\n",
       "    .dataframe tbody tr th {\n",
       "        vertical-align: top;\n",
       "    }\n",
       "\n",
       "    .dataframe thead th {\n",
       "        text-align: right;\n",
       "    }\n",
       "</style>\n",
       "<table border=\"1\" class=\"dataframe\">\n",
       "  <thead>\n",
       "    <tr style=\"text-align: right;\">\n",
       "      <th></th>\n",
       "      <th>title</th>\n",
       "      <th>year</th>\n",
       "      <th>vote_count</th>\n",
       "      <th>vote_average</th>\n",
       "      <th>popularity</th>\n",
       "      <th>overview</th>\n",
       "      <th>homepage</th>\n",
       "      <th>wr</th>\n",
       "    </tr>\n",
       "  </thead>\n",
       "  <tbody>\n",
       "    <tr>\n",
       "      <th>15480</th>\n",
       "      <td>Inception</td>\n",
       "      <td>2010</td>\n",
       "      <td>14075</td>\n",
       "      <td>8</td>\n",
       "      <td>29.108149</td>\n",
       "      <td>Cobb, a skilled thief who commits corporate es...</td>\n",
       "      <td>http://inceptionmovie.warnerbros.com/</td>\n",
       "      <td>11260.0</td>\n",
       "    </tr>\n",
       "    <tr>\n",
       "      <th>22879</th>\n",
       "      <td>Interstellar</td>\n",
       "      <td>2014</td>\n",
       "      <td>11187</td>\n",
       "      <td>8</td>\n",
       "      <td>32.213481</td>\n",
       "      <td>Interstellar chronicles the adventures of a gr...</td>\n",
       "      <td>http://www.interstellarmovie.net/</td>\n",
       "      <td>8949.6</td>\n",
       "    </tr>\n",
       "    <tr>\n",
       "      <th>14551</th>\n",
       "      <td>Avatar</td>\n",
       "      <td>2009</td>\n",
       "      <td>12114</td>\n",
       "      <td>7</td>\n",
       "      <td>185.070892</td>\n",
       "      <td>In the 22nd century, a paraplegic Marine is di...</td>\n",
       "      <td>http://www.avatarmovie.com/</td>\n",
       "      <td>8479.8</td>\n",
       "    </tr>\n",
       "    <tr>\n",
       "      <th>17818</th>\n",
       "      <td>The Avengers</td>\n",
       "      <td>2012</td>\n",
       "      <td>12000</td>\n",
       "      <td>7</td>\n",
       "      <td>89.887648</td>\n",
       "      <td>When an unexpected enemy emerges and threatens...</td>\n",
       "      <td>http://marvel.com/avengers_movie/</td>\n",
       "      <td>8400.0</td>\n",
       "    </tr>\n",
       "    <tr>\n",
       "      <th>23753</th>\n",
       "      <td>Guardians of the Galaxy</td>\n",
       "      <td>2014</td>\n",
       "      <td>10014</td>\n",
       "      <td>7</td>\n",
       "      <td>53.291601</td>\n",
       "      <td>Light years from Earth, 26 years after being a...</td>\n",
       "      <td>http://marvel.com/guardians</td>\n",
       "      <td>7009.8</td>\n",
       "    </tr>\n",
       "    <tr>\n",
       "      <th>26553</th>\n",
       "      <td>Mad Max: Fury Road</td>\n",
       "      <td>2015</td>\n",
       "      <td>9629</td>\n",
       "      <td>7</td>\n",
       "      <td>29.36178</td>\n",
       "      <td>An apocalyptic story set in the furthest reach...</td>\n",
       "      <td>http://www.madmaxmovie.com/</td>\n",
       "      <td>6740.3</td>\n",
       "    </tr>\n",
       "    <tr>\n",
       "      <th>2458</th>\n",
       "      <td>The Matrix</td>\n",
       "      <td>1999</td>\n",
       "      <td>9079</td>\n",
       "      <td>7</td>\n",
       "      <td>33.366332</td>\n",
       "      <td>Set in the 22nd century, The Matrix tells the ...</td>\n",
       "      <td>http://www.warnerbros.com/matrix</td>\n",
       "      <td>6355.3</td>\n",
       "    </tr>\n",
       "    <tr>\n",
       "      <th>12588</th>\n",
       "      <td>Iron Man</td>\n",
       "      <td>2008</td>\n",
       "      <td>8951</td>\n",
       "      <td>7</td>\n",
       "      <td>22.073099</td>\n",
       "      <td>After being held captive in an Afghan cave, bi...</td>\n",
       "      <td>http://www.ironmanmovie.com/</td>\n",
       "      <td>6265.7</td>\n",
       "    </tr>\n",
       "    <tr>\n",
       "      <th>18244</th>\n",
       "      <td>The Hunger Games</td>\n",
       "      <td>2012</td>\n",
       "      <td>9634</td>\n",
       "      <td>6</td>\n",
       "      <td>20.031667</td>\n",
       "      <td>Every year in the ruins of what was once North...</td>\n",
       "      <td>http://www.thehungergames.movie/</td>\n",
       "      <td>5780.4</td>\n",
       "    </tr>\n",
       "    <tr>\n",
       "      <th>26555</th>\n",
       "      <td>Star Wars: The Force Awakens</td>\n",
       "      <td>2015</td>\n",
       "      <td>7993</td>\n",
       "      <td>7</td>\n",
       "      <td>31.626013</td>\n",
       "      <td>Thirty years after defeating the Galactic Empi...</td>\n",
       "      <td>http://www.starwars.com/films/star-wars-episod...</td>\n",
       "      <td>5595.1</td>\n",
       "    </tr>\n",
       "    <tr>\n",
       "      <th>256</th>\n",
       "      <td>Star Wars</td>\n",
       "      <td>1977</td>\n",
       "      <td>6778</td>\n",
       "      <td>8</td>\n",
       "      <td>42.149697</td>\n",
       "      <td>Princess Leia is captured and held hostage by ...</td>\n",
       "      <td>http://www.starwars.com/films/star-wars-episod...</td>\n",
       "      <td>5422.4</td>\n",
       "    </tr>\n",
       "    <tr>\n",
       "      <th>20830</th>\n",
       "      <td>Iron Man 3</td>\n",
       "      <td>2013</td>\n",
       "      <td>8951</td>\n",
       "      <td>6</td>\n",
       "      <td>23.721243</td>\n",
       "      <td>When Tony Stark's world is torn apart by a for...</td>\n",
       "      <td>http://marvel.com/ironman3</td>\n",
       "      <td>5370.6</td>\n",
       "    </tr>\n",
       "    <tr>\n",
       "      <th>25084</th>\n",
       "      <td>Jurassic World</td>\n",
       "      <td>2015</td>\n",
       "      <td>8842</td>\n",
       "      <td>6</td>\n",
       "      <td>32.790475</td>\n",
       "      <td>Twenty-two years after the events of Jurassic ...</td>\n",
       "      <td>http://www.jurassicworld.com/</td>\n",
       "      <td>5305.2</td>\n",
       "    </tr>\n",
       "    <tr>\n",
       "      <th>26567</th>\n",
       "      <td>Captain America: Civil War</td>\n",
       "      <td>2016</td>\n",
       "      <td>7462</td>\n",
       "      <td>7</td>\n",
       "      <td>145.882135</td>\n",
       "      <td>Following the events of Age of Ultron, the col...</td>\n",
       "      <td>http://marvel.com/captainamericapremiere</td>\n",
       "      <td>5223.4</td>\n",
       "    </tr>\n",
       "    <tr>\n",
       "      <th>30051</th>\n",
       "      <td>The Martian</td>\n",
       "      <td>2015</td>\n",
       "      <td>7442</td>\n",
       "      <td>7</td>\n",
       "      <td>25.62993</td>\n",
       "      <td>During a manned mission to Mars, Astronaut Mar...</td>\n",
       "      <td>http://www.foxmovies.com/movies/the-martian</td>\n",
       "      <td>5209.4</td>\n",
       "    </tr>\n",
       "  </tbody>\n",
       "</table>\n",
       "</div>"
      ],
      "text/plain": [
       "                              title  year  vote_count  vote_average  \\\n",
       "15480                     Inception  2010       14075             8   \n",
       "22879                  Interstellar  2014       11187             8   \n",
       "14551                        Avatar  2009       12114             7   \n",
       "17818                  The Avengers  2012       12000             7   \n",
       "23753       Guardians of the Galaxy  2014       10014             7   \n",
       "26553            Mad Max: Fury Road  2015        9629             7   \n",
       "2458                     The Matrix  1999        9079             7   \n",
       "12588                      Iron Man  2008        8951             7   \n",
       "18244              The Hunger Games  2012        9634             6   \n",
       "26555  Star Wars: The Force Awakens  2015        7993             7   \n",
       "256                       Star Wars  1977        6778             8   \n",
       "20830                    Iron Man 3  2013        8951             6   \n",
       "25084                Jurassic World  2015        8842             6   \n",
       "26567    Captain America: Civil War  2016        7462             7   \n",
       "30051                   The Martian  2015        7442             7   \n",
       "\n",
       "       popularity                                           overview  \\\n",
       "15480   29.108149  Cobb, a skilled thief who commits corporate es...   \n",
       "22879   32.213481  Interstellar chronicles the adventures of a gr...   \n",
       "14551  185.070892  In the 22nd century, a paraplegic Marine is di...   \n",
       "17818   89.887648  When an unexpected enemy emerges and threatens...   \n",
       "23753   53.291601  Light years from Earth, 26 years after being a...   \n",
       "26553    29.36178  An apocalyptic story set in the furthest reach...   \n",
       "2458    33.366332  Set in the 22nd century, The Matrix tells the ...   \n",
       "12588   22.073099  After being held captive in an Afghan cave, bi...   \n",
       "18244   20.031667  Every year in the ruins of what was once North...   \n",
       "26555   31.626013  Thirty years after defeating the Galactic Empi...   \n",
       "256     42.149697  Princess Leia is captured and held hostage by ...   \n",
       "20830   23.721243  When Tony Stark's world is torn apart by a for...   \n",
       "25084   32.790475  Twenty-two years after the events of Jurassic ...   \n",
       "26567  145.882135  Following the events of Age of Ultron, the col...   \n",
       "30051    25.62993  During a manned mission to Mars, Astronaut Mar...   \n",
       "\n",
       "                                                homepage       wr  \n",
       "15480              http://inceptionmovie.warnerbros.com/  11260.0  \n",
       "22879                  http://www.interstellarmovie.net/   8949.6  \n",
       "14551                        http://www.avatarmovie.com/   8479.8  \n",
       "17818                  http://marvel.com/avengers_movie/   8400.0  \n",
       "23753                        http://marvel.com/guardians   7009.8  \n",
       "26553                        http://www.madmaxmovie.com/   6740.3  \n",
       "2458                    http://www.warnerbros.com/matrix   6355.3  \n",
       "12588                       http://www.ironmanmovie.com/   6265.7  \n",
       "18244                   http://www.thehungergames.movie/   5780.4  \n",
       "26555  http://www.starwars.com/films/star-wars-episod...   5595.1  \n",
       "256    http://www.starwars.com/films/star-wars-episod...   5422.4  \n",
       "20830                         http://marvel.com/ironman3   5370.6  \n",
       "25084                      http://www.jurassicworld.com/   5305.2  \n",
       "26567           http://marvel.com/captainamericapremiere   5223.4  \n",
       "30051        http://www.foxmovies.com/movies/the-martian   5209.4  "
      ]
     },
     "execution_count": 6,
     "metadata": {},
     "output_type": "execute_result"
    }
   ],
   "source": [
    "k = 15\n",
    "scifi = rec_gen('Science Fiction', 1000)\n",
    "scifi.head(15)"
   ]
  },
  {
   "cell_type": "markdown",
   "metadata": {},
   "source": [
    "Inception e Interstellar aparecen en las dos primeras posiciones. Personalmente me gusta más Interstellar (si quieres ver un agujero negro, esta película es lo mejor que podrás conseguir), pero reconozco que Inception tiene mucho nivel. Podemos seguir refinando este tipo de recomendaciones prestando atención a los distintos atributos que tenemos disponibles sobre las películas. \n"
   ]
  },
  {
   "cell_type": "markdown",
   "metadata": {},
   "source": [
    "## 3. Sistemas de recomendación basados en contenido\n",
    "\n",
    "Este tipo de sistemas basados en contenido utiliza información específica sobre el ítem o producto de recomendación. Por ejemplo, si no contamos con información del rating de las peliculas pero sabemos que un usuario vió o que le gustó cierta película, podríamos utilizar la descripción o resumen de la película para construir nuevas recomendaciones a partir de peliculas con contenidos *similares*.\n",
    "\n",
    "A continuación vamos a construir un sistema que recomiende películas en función de sus descripciones o \"su trama\". Entonces necesitamos calcular funciones de similitud de acuerdo con la descripción linguistica de cada película.\n",
    "\n",
    "En nuestros datos, la descripción de cada película la encontramos bajo el atributo \"overview\". Veamos a continuación las tramas de las primeras 5 peliculas recomendadas de Ciencia Ficcion:"
   ]
  },
  {
   "cell_type": "code",
   "execution_count": 7,
   "metadata": {},
   "outputs": [
    {
     "name": "stderr",
     "output_type": "stream",
     "text": [
      "<ipython-input-7-97e04edf3a49>:1: FutureWarning: Passing a negative integer is deprecated in version 1.0 and will not be supported in future version. Instead, use None to not limit the column width.\n",
      "  pd.set_option('display.max_colwidth', -1)\n"
     ]
    },
    {
     "data": {
      "text/html": [
       "<div>\n",
       "<style scoped>\n",
       "    .dataframe tbody tr th:only-of-type {\n",
       "        vertical-align: middle;\n",
       "    }\n",
       "\n",
       "    .dataframe tbody tr th {\n",
       "        vertical-align: top;\n",
       "    }\n",
       "\n",
       "    .dataframe thead th {\n",
       "        text-align: right;\n",
       "    }\n",
       "</style>\n",
       "<table border=\"1\" class=\"dataframe\">\n",
       "  <thead>\n",
       "    <tr style=\"text-align: right;\">\n",
       "      <th></th>\n",
       "      <th>title</th>\n",
       "      <th>overview</th>\n",
       "    </tr>\n",
       "  </thead>\n",
       "  <tbody>\n",
       "    <tr>\n",
       "      <th>15480</th>\n",
       "      <td>Inception</td>\n",
       "      <td>Cobb, a skilled thief who commits corporate espionage by infiltrating the subconscious of his targets is offered a chance to regain his old life as payment for a task considered to be impossible: \"inception\", the implantation of another person's idea into a target's subconscious.</td>\n",
       "    </tr>\n",
       "    <tr>\n",
       "      <th>22879</th>\n",
       "      <td>Interstellar</td>\n",
       "      <td>Interstellar chronicles the adventures of a group of explorers who make use of a newly discovered wormhole to surpass the limitations on human space travel and conquer the vast distances involved in an interstellar voyage.</td>\n",
       "    </tr>\n",
       "    <tr>\n",
       "      <th>14551</th>\n",
       "      <td>Avatar</td>\n",
       "      <td>In the 22nd century, a paraplegic Marine is dispatched to the moon Pandora on a unique mission, but becomes torn between following orders and protecting an alien civilization.</td>\n",
       "    </tr>\n",
       "    <tr>\n",
       "      <th>17818</th>\n",
       "      <td>The Avengers</td>\n",
       "      <td>When an unexpected enemy emerges and threatens global safety and security, Nick Fury, director of the international peacekeeping agency known as S.H.I.E.L.D., finds himself in need of a team to pull the world back from the brink of disaster. Spanning the globe, a daring recruitment effort begins!</td>\n",
       "    </tr>\n",
       "    <tr>\n",
       "      <th>23753</th>\n",
       "      <td>Guardians of the Galaxy</td>\n",
       "      <td>Light years from Earth, 26 years after being abducted, Peter Quill finds himself the prime target of a manhunt after discovering an orb wanted by Ronan the Accuser.</td>\n",
       "    </tr>\n",
       "  </tbody>\n",
       "</table>\n",
       "</div>"
      ],
      "text/plain": [
       "                         title  \\\n",
       "15480  Inception                 \n",
       "22879  Interstellar              \n",
       "14551  Avatar                    \n",
       "17818  The Avengers              \n",
       "23753  Guardians of the Galaxy   \n",
       "\n",
       "                                                                                                                                                                                                                                                                                                        overview  \n",
       "15480  Cobb, a skilled thief who commits corporate espionage by infiltrating the subconscious of his targets is offered a chance to regain his old life as payment for a task considered to be impossible: \"inception\", the implantation of another person's idea into a target's subconscious.                   \n",
       "22879  Interstellar chronicles the adventures of a group of explorers who make use of a newly discovered wormhole to surpass the limitations on human space travel and conquer the vast distances involved in an interstellar voyage.                                                                             \n",
       "14551  In the 22nd century, a paraplegic Marine is dispatched to the moon Pandora on a unique mission, but becomes torn between following orders and protecting an alien civilization.                                                                                                                            \n",
       "17818  When an unexpected enemy emerges and threatens global safety and security, Nick Fury, director of the international peacekeeping agency known as S.H.I.E.L.D., finds himself in need of a team to pull the world back from the brink of disaster. Spanning the globe, a daring recruitment effort begins!  \n",
       "23753  Light years from Earth, 26 years after being abducted, Peter Quill finds himself the prime target of a manhunt after discovering an orb wanted by Ronan the Accuser.                                                                                                                                       "
      ]
     },
     "execution_count": 7,
     "metadata": {},
     "output_type": "execute_result"
    }
   ],
   "source": [
    "pd.set_option('display.max_colwidth', -1)\n",
    "scifi[['title', 'overview']].head()"
   ]
  },
  {
   "cell_type": "markdown",
   "metadata": {},
   "source": [
    "### 3.1 Estimación de similitudes y procesamiento de lenguage natural\n",
    "\n",
    "En primera instancia podemos evaluar las similitudes entre las películas a partir de la descripción linguística de su contenido. Pero, **¿cómo calculamos estas similitudes, o más aun, cómo procesamos los caracteres linguisticos, las palabras y las frases para calcular dichas similitudes?**\n",
    "\n",
    "A continuación vamos a ver una primera aproximación al análisis de texto a nivel de *términos* o *palabras*. Para ello, vamos a computar el ínidice TF-IDF (del inglés \"Term Frequency-Inverse Document Frequency\"), el cual se puede entender como una ponderación de la relevancia de los términos encontrados en cada resumen.  \n",
    "\n",
    "### 3.1.1 Indice TF-IDF\n",
    "El índice TF-IDF mide la relevancia de un término linguístico ($t$) por cada resumen o documento que estemos analizando ($d$), tomando la frecuencia del término en cada resumen $tf(t,d)$, y multiplicandola por la frecuencia inversa de la ocurrencia del término en la muestra de resumenes $idf(t)$. De esta manera se extrae la importancia/significancia de los términos/palabras como información numérica para la estimación de la similitud entre películas.\n",
    "\n",
    "Consideremos un conjunto de resumenes ($D$). En este conjunto es de esperar que los artículos linguísticos sean muy comunes (en ingles \"a\", \"the\",...), los cuales no ofrecen en verdad información relevante acerca del contenido de una película. Entonces, si fueramos a introducir el conteo de las palabras directamente a nuestro cálculo de las similitudes (o a un clasificador), esos términos más frecuentes añadirían ruido sobre otros términos menos frecuentes pero posiblemente más interesantes (en verdad relevantes para entender el contenido de las películas). \n",
    "\n",
    "De esta manera, la frecuencia de un término $t$ en un resumen $d$ está dada por $tf(t,d)$, y el índice $tf-idf(t,d)$ está dado por \n",
    "\n",
    "$$tf-idf(t,d)=tf(t,d)\\times idf(t)  $$\n",
    "\n",
    "donde $$ idf(t)=\\log \\frac{1+n}{1+df(t)}+1 $$\n",
    "\n",
    "siendo $n$ el número total de resumenes en $D$ y $df(t)$ es el número de resumenes en $D$ que contienen el término $t$.\n",
    " \n",
    "El resultado de los vectores $tf-idf(d)$, de todos los términos en cada documento, son normalizados por la norma Euclideana $L2$, tal que \n",
    "\n",
    "$$ tf-idf(t,d)_{norm} = \\frac{tf-idf(t,d)}{\\sqrt{tf-idf(t_1,d)+...+tf-idf(t_T,d)}}$$\n",
    "\n",
    "donde $T$ es el número total de términos.\n",
    "\n",
    "**Por ejemplo**, *si tenemos 3 términos en 3 resumenes, el primer término $t_1$ aparece 3 veces en el primer resumen $d_1$, 2 veces en el segundo resumen $d_2$ y 3 veces en el tercer resumen $d_3$. El segundo término $t_2$ aparece dos vez en el primer resumen $d_1$, y el tercer término $t_3$ solo aparece una vez en el tercer resumen $d_3$. *\n",
    "\n",
    "*Entonces $df(t_1)=3$, $df(t_2)=1$ y $df(t_3)=1$.*\n",
    "\n",
    "*Luego, $idf(t_1)=log(4/4)+1=1$, $idf(t_2)=idf(t_3)=1.69$.*\n",
    "\n",
    "*Por lo tanto, antes de normalizar, $tf-idf(t_1,d_1)=3\\times 1=3$, $tf-idf(t_2,d_1)=2\\times 1.69=3.38$ y $tf-idf(t_3,d_1)=0\\times 1.69=0$.* \n",
    "\n",
    "*Tras la normalización, tendriamos que  $tf-idf(d_1)=\\frac{(3,3.38,0)}{\\sqrt{9+11.42+0}}=(0.66,0.74,0)$*\n",
    "\n",
    "La biblioteca **scikit-learn** ofrece la clase *TfIdfVectorizer*, la cual produce una matriz TF-IDF de manera sencilla. Entonces, este índice lo calculamos utilizando los parámetros por defecto del transformador `TfidfTransformer`: `TfidfTransform(norm='l2', use_idf=True, smooth_idf=True, sublinear_tf=False)`.\n",
    "\n",
    "\n",
    "Como resultado, vamos a obtener una matriz cuyas columnas representan la relevancia (TF-IDF) de los términos presentes en los resumenes de cada película. \n"
   ]
  },
  {
   "cell_type": "code",
   "execution_count": 8,
   "metadata": {},
   "outputs": [],
   "source": [
    "# Utilizamos el TfIdfVectorizer de la biblioteca scikit-learn\n",
    "from sklearn.feature_extraction.text import TfidfVectorizer"
   ]
  },
  {
   "cell_type": "code",
   "execution_count": 9,
   "metadata": {},
   "outputs": [
    {
     "data": {
      "text/plain": [
       "(45466, 76132)"
      ]
     },
     "execution_count": 9,
     "metadata": {},
     "output_type": "execute_result"
    }
   ],
   "source": [
    "# Definimos el objeto TF-IDF. \n",
    "# También se podrían remover articulos (comunes) como 'the', 'a' con (stop_words='english')\n",
    "tfidf = TfidfVectorizer()  \n",
    "\n",
    "# Reemplazamos valores NaN con espacio vacío\n",
    "metadata['overview'] = metadata['overview'].fillna('')\n",
    "\n",
    "# Construimos la matriz TF-IDF ajustando y transfromando los datos\n",
    "tfidf_mat = tfidf.fit_transform(metadata['overview'])\n",
    "\n",
    "# La salida con las dimensiones de tfidf_matrix\n",
    "tfidf_mat.shape"
   ]
  },
  {
   "cell_type": "markdown",
   "metadata": {},
   "source": [
    "### Pregunta 3.1\n",
    "\n",
    "- Cuántos términos fueron necesarios para describir las peliculas de nuestra base de datos?\n",
    "\n",
    "- Qué tipo de matriz es `tfidf_mat`?"
   ]
  },
  {
   "cell_type": "markdown",
   "metadata": {},
   "source": [
    "Tras la construcción de la matriz tfidf_mat se identifca que fueorn necesarios 1,885,713 términos para describir las películas de la base de datos. De igual forma, se identifica que la matriz tfid_mat es de tipo Sparse."
   ]
  },
  {
   "cell_type": "code",
   "execution_count": 10,
   "metadata": {},
   "outputs": [
    {
     "name": "stdout",
     "output_type": "stream",
     "text": [
      "Led by Woody, Andy's toys live happily in his room until Andy's birthday brings Buzz Lightyear onto the scene. Afraid of losing his place in Andy's heart, Woody plots against Buzz. But when circumstances separate Buzz and Woody from their owner, the duo eventually learns to put aside their differences.\n",
      "  (0, 17828)\t0.13011753538001913\n",
      "  (0, 4418)\t0.14233174134782736\n",
      "  (0, 53432)\t0.09678878834747402\n",
      "  (0, 67569)\t0.02534388740894477\n",
      "  (0, 38167)\t0.09788304141226971\n",
      "  (0, 21966)\t0.10073802545088288\n",
      "  (0, 19709)\t0.1281752488044349\n",
      "  (0, 48749)\t0.09977874980859454\n",
      "  (0, 66919)\t0.09715777397211595\n",
      "  (0, 25029)\t0.046225886356358624\n",
      "  (0, 3113)\t0.025005694385373877\n",
      "  (0, 59723)\t0.12553231652922187\n",
      "  (0, 12547)\t0.12105851407349964\n",
      "  (0, 73067)\t0.04797461632512079\n",
      "  (0, 9876)\t0.04808089068464281\n",
      "  (0, 1890)\t0.07953308976222997\n",
      "  (0, 51303)\t0.12965111068083396\n",
      "  (0, 29348)\t0.09741015233838574\n",
      "  (0, 51108)\t0.08869470539673792\n",
      "  (0, 39562)\t0.11490828152876005\n",
      "  (0, 47510)\t0.025416149425505283\n",
      "  (0, 1850)\t0.13598523631024922\n",
      "  (0, 58770)\t0.10958894811194231\n",
      "  (0, 66898)\t0.04470146647353258\n",
      "  (0, 47902)\t0.12433867990141602\n",
      "  (0, 38832)\t0.19906734046375205\n",
      "  (0, 9926)\t0.4852249096255163\n",
      "  (0, 9138)\t0.10263542621841791\n",
      "  (0, 7540)\t0.1194770600470488\n",
      "  (0, 70337)\t0.0857478334063751\n",
      "  (0, 57070)\t0.10735905588675003\n",
      "  (0, 30204)\t0.0710456629210301\n",
      "  (0, 32057)\t0.0564304004738329\n",
      "  (0, 28836)\t0.12846126592788998\n",
      "  (0, 39151)\t0.08413867579377803\n",
      "  (0, 68134)\t0.1435811213977775\n",
      "  (0, 3180)\t0.39738693411595977\n",
      "  (0, 73767)\t0.4641666607545878\n",
      "  (0, 9941)\t0.04314548952741868\n",
      "  (0, 38226)\t0.1036422584624154\n"
     ]
    }
   ],
   "source": [
    "# veamos la primera pelicula y la representacion tfidf de su sinopsis\n",
    "print(metadata['overview'][0])\n",
    "print(tfidf_mat[0,:])"
   ]
  },
  {
   "cell_type": "markdown",
   "metadata": {},
   "source": [
    "### 3.1.2 Cálculo de similitudes\n",
    "\n",
    "Ahora ya podemos calcular las similitudes entre las peliculas basados en sus resumenes. Podríamos utilizar distintas métricas, como la Euclideana, la correlación de Pearson, o la similitud del coseno. \n",
    "\n",
    "Por ejemplo, veamos qué ocurre con la similitud del coseno calculada para todo par de películas. Lo bueno de esta métrica del coseno es que es independiente de la magnitud y mide la dirección de los vectores. De este modo, dos vectores paralelos (con angulo relativo de 0°) tienen una similitud de 1, y dos vectores ortogonales, con un angulo de 90° entre ellos obtienen una similitud de 0.  \n",
    "\n",
    "La *similitud del coseno* se define para todo $x,y \\in [0,1]$ tal que\n",
    "\n",
    "$$\n",
    "sim_{cos}(x,y)=\\frac{\\sum_{i=1}^{n}x_i y_i}{\\sqrt{\\sum_{i=1}^{n}x_i^2} \\sqrt{\\sum_{i=1}^{n}y_i^2}}\n",
    "$$\n",
    "\n",
    "Como tenemos la matriz de representación vectorizada de las palabras para cada pelicula, el cómputo del producto interno obtiene de manera directa el valor de similitud por coseno. De esta manera, utilizamos el `linear_kernel()` de sklearn en lugar de `cosine_similarities()`."
   ]
  },
  {
   "cell_type": "code",
   "execution_count": 11,
   "metadata": {},
   "outputs": [],
   "source": [
    "# Utilizamos el linear_kernel\n",
    "from sklearn.metrics.pairwise import linear_kernel\n"
   ]
  },
  {
   "cell_type": "markdown",
   "metadata": {},
   "source": [
    "El cálculo de las similitudes para cada par de entre todas las 45466 peliculas y sus 76132 entradas es bastante pesado. Si ejecutamos el código sobre toda la matriz `tfidf_mat` en GoogleColab, debemos utilizar los recursos de RAM en la máquina remota. En nuestra máquina local tomemos un conjunto de peliculas más pequeño.\n",
    "\n",
    "Por ejemplo, tomemos solamente las peliculas más populares:"
   ]
  },
  {
   "cell_type": "code",
   "execution_count": 12,
   "metadata": {},
   "outputs": [
    {
     "data": {
      "text/plain": [
       "(4555, 25)"
      ]
     },
     "execution_count": 12,
     "metadata": {},
     "output_type": "execute_result"
    }
   ],
   "source": [
    "m = metadata['vote_count'].quantile(0.90)\n",
    "pelis_P = metadata.copy().loc[metadata['vote_count'] >= m]\n",
    "pelis_P.shape"
   ]
  },
  {
   "cell_type": "code",
   "execution_count": 13,
   "metadata": {},
   "outputs": [
    {
     "data": {
      "text/plain": [
       "Index(['adult', 'belongs_to_collection', 'budget', 'genres', 'homepage', 'id',\n",
       "       'imdb_id', 'original_language', 'original_title', 'overview',\n",
       "       'popularity', 'poster_path', 'production_companies',\n",
       "       'production_countries', 'release_date', 'revenue', 'runtime',\n",
       "       'spoken_languages', 'status', 'tagline', 'title', 'video',\n",
       "       'vote_average', 'vote_count', 'year'],\n",
       "      dtype='object')"
      ]
     },
     "execution_count": 13,
     "metadata": {},
     "output_type": "execute_result"
    }
   ],
   "source": [
    "pelis_P.columns"
   ]
  },
  {
   "cell_type": "code",
   "execution_count": 14,
   "metadata": {},
   "outputs": [
    {
     "data": {
      "text/plain": [
       "(4555, 76132)"
      ]
     },
     "execution_count": 14,
     "metadata": {},
     "output_type": "execute_result"
    }
   ],
   "source": [
    "tfidf_P = tfidf_mat[pelis_P.index, :]\n",
    "tfidf_P.shape"
   ]
  },
  {
   "cell_type": "code",
   "execution_count": 15,
   "metadata": {},
   "outputs": [],
   "source": [
    "# Calculamos la matriz de similitudes por coseno (para un numero reducido de observaciones)\n",
    "sim_cos = linear_kernel(tfidf_P, tfidf_P)#], dense_output=False)"
   ]
  },
  {
   "cell_type": "code",
   "execution_count": 16,
   "metadata": {},
   "outputs": [
    {
     "data": {
      "text/plain": [
       "array([[1.        , 0.03098304, 0.03122154, ..., 0.01250814, 0.00695431,\n",
       "        0.02743855],\n",
       "       [0.03098304, 1.        , 0.03812832, ..., 0.03015844, 0.01776858,\n",
       "        0.03151179],\n",
       "       [0.03122154, 0.03812832, 1.        , ..., 0.07074499, 0.01127965,\n",
       "        0.0332975 ],\n",
       "       ...,\n",
       "       [0.01250814, 0.03015844, 0.07074499, ..., 1.        , 0.01559283,\n",
       "        0.016948  ],\n",
       "       [0.00695431, 0.01776858, 0.01127965, ..., 0.01559283, 1.        ,\n",
       "        0.03142812],\n",
       "       [0.02743855, 0.03151179, 0.0332975 , ..., 0.016948  , 0.03142812,\n",
       "        1.        ]])"
      ]
     },
     "execution_count": 16,
     "metadata": {},
     "output_type": "execute_result"
    }
   ],
   "source": [
    "sim_cos"
   ]
  },
  {
   "cell_type": "markdown",
   "metadata": {},
   "source": [
    "### Ejercicio 3.2\n",
    "\n",
    "Calcule las similitudes entre peliculas utilizando una funcion de similitud distinta."
   ]
  },
  {
   "cell_type": "markdown",
   "metadata": {},
   "source": [
    "Como medida de similitud, diferente a la del coseno, utilizamos la distancia de Jaccard o la intersección sobre la unión la cual se define como el tamaño de la intersección dividido por el tamaño de la unión de dos conjuntos y se encuentra bajo la siguiente formula:\n",
    "\n",
    "$$J(A,B) = \\frac{|A\\cap B|}{|A \\cup B|}$$"
   ]
  },
  {
   "cell_type": "code",
   "execution_count": 17,
   "metadata": {},
   "outputs": [],
   "source": [
    "from __future__ import division\n",
    "\n",
    "def pairwise_sparse_jaccard_distance(X, Y=None):\n",
    "\n",
    "    if Y is None:\n",
    "        Y = X\n",
    "\n",
    "    assert X.shape[1] == Y.shape[1]\n",
    "\n",
    "    X = X.astype(bool).astype(int)\n",
    "    Y = Y.astype(bool).astype(int)\n",
    "\n",
    "    intersect = X.dot(Y.T)\n",
    "\n",
    "    x_sum = X.sum(axis=1).A1\n",
    "    y_sum = Y.sum(axis=1).A1\n",
    "    xx, yy = np.meshgrid(x_sum, y_sum)\n",
    "    union = ((xx + yy).T - intersect)\n",
    "\n",
    "    return (intersect / union).A"
   ]
  },
  {
   "cell_type": "code",
   "execution_count": 18,
   "metadata": {},
   "outputs": [
    {
     "name": "stderr",
     "output_type": "stream",
     "text": [
      "C:\\Users\\JCabal\\anaconda3\\lib\\site-packages\\scipy\\sparse\\base.py:599: RuntimeWarning: invalid value encountered in true_divide\n",
      "  return np.true_divide(self.todense(), other)\n"
     ]
    },
    {
     "data": {
      "text/plain": [
       "array([[1.        , 0.07954545, 0.12162162, ..., 0.06153846, 0.05454545,\n",
       "        0.10666667],\n",
       "       [0.07954545, 1.        , 0.08888889, ..., 0.06329114, 0.04285714,\n",
       "        0.06521739],\n",
       "       [0.12162162, 0.08888889, 1.        , ..., 0.125     , 0.05172414,\n",
       "        0.075     ],\n",
       "       ...,\n",
       "       [0.06153846, 0.06329114, 0.125     , ..., 1.        , 0.06818182,\n",
       "        0.04347826],\n",
       "       [0.05454545, 0.04285714, 0.05172414, ..., 0.06818182, 1.        ,\n",
       "        0.07017544],\n",
       "       [0.10666667, 0.06521739, 0.075     , ..., 0.04347826, 0.07017544,\n",
       "        1.        ]])"
      ]
     },
     "execution_count": 18,
     "metadata": {},
     "output_type": "execute_result"
    }
   ],
   "source": [
    "sim_jacc = pairwise_sparse_jaccard_distance(tfidf_P)\n",
    "sim_jacc"
   ]
  },
  {
   "cell_type": "markdown",
   "metadata": {},
   "source": [
    "Ahora vamos a definir una funcion que tome como entrada el título de una película y devuelve una lista de las peliculas más similares a esa película de entrada\n",
    "\n",
    "Para ello, primero tomamos una lista de referencia con los distintos titulos e indices de las peliculas:"
   ]
  },
  {
   "cell_type": "code",
   "execution_count": 19,
   "metadata": {},
   "outputs": [
    {
     "data": {
      "text/plain": [
       "title\n",
       "Toy Story                      0\n",
       "Jumanji                        1\n",
       "Father of the Bride Part II    4\n",
       "Heat                           5\n",
       "Sudden Death                   8\n",
       "dtype: int64"
      ]
     },
     "execution_count": 19,
     "metadata": {},
     "output_type": "execute_result"
    }
   ],
   "source": [
    "indices = pd.Series(pelis_P.index, index=pelis_P['title']).drop_duplicates()\n",
    "indices.head()"
   ]
  },
  {
   "cell_type": "markdown",
   "metadata": {},
   "source": [
    "### 3.2 Funcion de recomendacion\n",
    "\n",
    "A continuación construimos la función de recomendación. Los pasos que se van a seguir son los siguientes:\n",
    "\n",
    "- Obtener el índice de la pelicula dado su título\n",
    "- Obtener la lista con los scores de similitud para esa película con respecto a las demás películas. \n",
    "- Ordenar la lista de tuplas en base al score de similitud\n",
    "- Obtener el top-k de peliculas más similares\n",
    "- Devolver los títulos que corresponden con los índices de las peliculas más similares\n"
   ]
  },
  {
   "cell_type": "code",
   "execution_count": 20,
   "metadata": {},
   "outputs": [],
   "source": [
    "def rec_pelis(titulo, num_pelis, sim):\n",
    "    # Indice de la pelicula para el titulo\n",
    "    idx = indices[titulo]\n",
    "\n",
    "    # Obtiene los valores de similtud para la pelicula de entrada\n",
    "    sim_scores = list(enumerate(sim[idx]))\n",
    "\n",
    "    # Ordena las peliculas a base a los scores de similitud\n",
    "    sim_scores = sorted(sim_scores, key=lambda x: x[1], reverse=True)\n",
    "\n",
    "    # Scores de las k películas más similares (nótese que dejamos el primer elemento fuera)\n",
    "    sim_scores = sim_scores[1:num_pelis+1]\n",
    "\n",
    "    # Indices de las peliculas\n",
    "    pelis_indices = [i[0] for i in sim_scores]\n",
    "\n",
    "    # Devuelve las k peliculas mas similares\n",
    "    return pelis_P['title'].iloc[pelis_indices]"
   ]
  },
  {
   "cell_type": "code",
   "execution_count": 21,
   "metadata": {},
   "outputs": [
    {
     "data": {
      "text/plain": [
       "15348    Toy Story 3           \n",
       "2997     Toy Story 2           \n",
       "10301    The 40 Year Old Virgin\n",
       "1071     Rebel Without a Cause \n",
       "3057     Man on the Moon       \n",
       "10585    Match Point           \n",
       "2157     Indecent Proposal     \n",
       "Name: title, dtype: object"
      ]
     },
     "execution_count": 21,
     "metadata": {},
     "output_type": "execute_result"
    }
   ],
   "source": [
    "rec_pelis('Toy Story', 7, sim_cos)"
   ]
  },
  {
   "cell_type": "markdown",
   "metadata": {},
   "source": [
    "Aunque las primeras dos entradas de la recomendación parecen bastante acertadas, la tercera o la séptima recomendación parece totalmente inapropiada, sobre todo si tenemos en cuenta que la película de entrada está dirigida al público infantil. \n"
   ]
  },
  {
   "cell_type": "markdown",
   "metadata": {},
   "source": [
    "Recordemos los géneros de nuestra base de datos:"
   ]
  },
  {
   "cell_type": "code",
   "execution_count": 22,
   "metadata": {},
   "outputs": [
    {
     "name": "stderr",
     "output_type": "stream",
     "text": [
      "<ipython-input-22-a08f4aa59212>:1: DeprecationWarning: The default dtype for empty Series will be 'object' instead of 'float64' in a future version. Specify a dtype explicitly to silence this warning.\n",
      "  generos = pelis_P.apply(lambda x: pd.Series(x['genres']),axis=1).stack().reset_index(level=1, drop=True)\n"
     ]
    },
    {
     "data": {
      "text/plain": [
       "['Animation',\n",
       " 'Comedy',\n",
       " 'Family',\n",
       " 'Adventure',\n",
       " 'Fantasy',\n",
       " 'Action',\n",
       " 'Crime',\n",
       " 'Drama',\n",
       " 'Thriller',\n",
       " 'Romance',\n",
       " 'Horror',\n",
       " 'Science Fiction',\n",
       " 'Mystery',\n",
       " 'History',\n",
       " 'War',\n",
       " 'Western',\n",
       " 'Music',\n",
       " 'Documentary',\n",
       " 'TV Movie']"
      ]
     },
     "execution_count": 22,
     "metadata": {},
     "output_type": "execute_result"
    }
   ],
   "source": [
    "generos = pelis_P.apply(lambda x: pd.Series(x['genres']),axis=1).stack().reset_index(level=1, drop=True)\n",
    "list(pd.unique(generos))"
   ]
  },
  {
   "cell_type": "markdown",
   "metadata": {},
   "source": [
    "### Pregunta 3.3\n",
    "\n",
    "Qué solución puede plantear para este problema?"
   ]
  },
  {
   "cell_type": "code",
   "execution_count": 23,
   "metadata": {},
   "outputs": [
    {
     "data": {
      "text/plain": [
       "2997     Toy Story 2              \n",
       "25044    Song of the Sea          \n",
       "6020     The Jungle Book 2        \n",
       "19169    Geri's Game              \n",
       "21990    Free Birds               \n",
       "3669     Footloose                \n",
       "4860     Jimmy Neutron: Boy Genius\n",
       "Name: title, dtype: object"
      ]
     },
     "execution_count": 23,
     "metadata": {},
     "output_type": "execute_result"
    }
   ],
   "source": [
    "rec_pelis('Toy Story', 7, sim_jacc)"
   ]
  },
  {
   "cell_type": "markdown",
   "metadata": {},
   "source": [
    "Como primera solución, se plantea la posibilidad de utilizar el recomendador de péliculas, pero utilizando la similitud de Jaccard y no la del coseno. Al hacer esto, el recomendador parece dar unos resultados más ajustado al genero de pélicula que se escogio, ya que las recomendaciones son péliculas familiares o para niños.\n",
    "\n",
    "Como segunda solución, el recomendador de péliculas se le puede agregar un filtro para que le muestre al usuario el top de las mejores péliculas que son similares a la buscada mediante el uso de una métrica que permita estimar la preferencia promedio por una película que tenga en cuenta tanto el ranting que recibe una película por su número de votos, así como el voto promedio global de las películas por el número de votos que recibe cada una de estas. "
   ]
  },
  {
   "cell_type": "markdown",
   "metadata": {},
   "source": [
    "### Ejercicio 3.4\n",
    "\n",
    "Escriba su codigo a continuación, donde explore un mejor recomendador que el propuesto arriba. Note que no tenemos más información que la descripcion de las peliculas y su valoracion media. Por ello la evaluacion de la salida es, por el momento, completamente subjetiva (depende de usted). Explique por qué su propuesta es mejor que la que hemos desarrollado hasta el momento."
   ]
  },
  {
   "cell_type": "markdown",
   "metadata": {},
   "source": [
    "El recomendador propuesto arriba se basa, exclusivamente, en la similitud que existe en el *overview* entre las diferentes péliculas. Esto puede ser mejorado si a lo anterior se le agrega un posible filtro al algoritmo que permita identificar, dentro de las péliculas similares, aquellas con el mejor rating por genero. Con esto, es posible crear un recomendador que se adapte en mejor medida a lo que ha venido viendo el usuario. El desarrollo de esto se hace a continuación. "
   ]
  },
  {
   "cell_type": "code",
   "execution_count": 24,
   "metadata": {},
   "outputs": [],
   "source": [
    "def IMDB_rating(x, C):\n",
    "    \"\"\"\n",
    "    Input:\n",
    "    x: datos de rating y votacion de las peliculas\n",
    "    m: minimo numero de votos\n",
    "    C: promedio global\n",
    "    Output:\n",
    "    rating ponderado\n",
    "    \"\"\"\n",
    "    m = x['vote_average'].max()\n",
    "    v = x['vote_count']\n",
    "    R = x['vote_average']\n",
    "    return (v/(v+m) * R) + (m/(m+v) * C)"
   ]
  },
  {
   "cell_type": "code",
   "execution_count": 25,
   "metadata": {},
   "outputs": [],
   "source": [
    "def rec_pelis_gen(titulo, num_pelis, sim, genero):\n",
    "    # Indice de la pelicula para el titulo\n",
    "    idx = indices[titulo]\n",
    "\n",
    "    # Obtiene los valores de similtud para la pelicula de entrada\n",
    "    sim_scores = list(enumerate(sim[idx]))\n",
    "\n",
    "    # Ordena las peliculas a base a los scores de similitud\n",
    "    sim_scores = sorted(sim_scores, key=lambda x: x[1], reverse=True)\n",
    "\n",
    "    # Scores de las k películas más similares (nótese que dejamos el primer elemento fuera)\n",
    "    sim_scores = sim_scores[1:]\n",
    "\n",
    "    # Indices de las peliculas\n",
    "    pelis_indices = [i[0] for i in sim_scores]\n",
    "    \n",
    "    genP = gen_md.iloc[pelis_indices]\n",
    "\n",
    "    vmin = 1000\n",
    "    df = genP[genP['genre'] == genero]\n",
    "    C = df['vote_average'].mean()\n",
    "\n",
    "    # si tiene al menos mil votos incluimos la pelicula\n",
    "    df = df[(df['vote_count'] >= vmin) & (df['vote_count'].notnull()) & (df['vote_average'].notnull())][['title', 'year', 'vote_count', 'vote_average', 'popularity', 'overview', 'homepage', 'genre']]\n",
    "\n",
    "    # ordenamos las peliculas de acuerdo con la popularidad\n",
    "    df['score'] = IMDB_rating(df, C)\n",
    "    df = df.sort_values('score', ascending=False)\n",
    "\n",
    "    # Devuelve las k peliculas mas similares\n",
    "    return df['title'].iloc[0:num_pelis+1]"
   ]
  },
  {
   "cell_type": "code",
   "execution_count": 26,
   "metadata": {},
   "outputs": [
    {
     "data": {
      "text/plain": [
       "1225    Back to the Future            \n",
       "359     The Lion King                 \n",
       "926     It's a Wonderful Life         \n",
       "0       Toy Story                     \n",
       "546     The Nightmare Before Christmas\n",
       "1798    Mulan                         \n",
       "1155    The Princess Bride            \n",
       "588     Beauty and the Beast          \n",
       "Name: title, dtype: object"
      ]
     },
     "execution_count": 26,
     "metadata": {},
     "output_type": "execute_result"
    }
   ],
   "source": [
    "rec_pelis_gen('Toy Story', 7, sim_jacc, 'Family')"
   ]
  },
  {
   "cell_type": "markdown",
   "metadata": {},
   "source": [
    "La propuesta de incluir un filtro de rating por genero parece funcionar correctamente, recomendando un conjunto de péliculas similares a **Toy Story** y que tienen un alto rating. En este caso, es importante señalar que la similitud entre el contexto de las péliculas se estima utilizando la métrica de Jaccard."
   ]
  },
  {
   "cell_type": "markdown",
   "metadata": {},
   "source": [
    "### Ejercicio 3.5 \n",
    "\n",
    "Proponga una metodología, con su respectivo algoritmo, que permita medir, de acuerdo con una métrica de su elección, el nivel de acierto de las recomendaciones.\n",
    "\n",
    "*Ayuda: considere un sistema de recomendación basado en contenido donde solo hay un usuario (promedio)*"
   ]
  },
  {
   "cell_type": "markdown",
   "metadata": {},
   "source": [
    "Una posible solución para medir el nivel de acierto de las recomendaciones es utilizar la votación promedio que cada pélicula a tenido para construir un rating promedio que permita mirar el si las recomendaciones se adaptan o no a la pélicula original. El desarrollo del modelo se muestra a continuación."
   ]
  },
  {
   "cell_type": "code",
   "execution_count": 52,
   "metadata": {},
   "outputs": [],
   "source": [
    "import operator\n",
    "def predict_score(name, num_list):\n",
    "    new_movie = pelis_P[pelis_P['original_title'].str.contains(name)].iloc[0].to_frame().T\n",
    "    print('Pélicula: ',new_movie.original_title.values[0])\n",
    "\n",
    "    idx = indices[name]\n",
    "\n",
    "    # Obtiene los valores de similtud para la pelicula de entrada\n",
    "    sim_scores = list(enumerate(sim_jacc[idx]))\n",
    "\n",
    "    # Ordena las peliculas a base a los scores de similitud\n",
    "    sim_scores = sorted(sim_scores, key=lambda x: x[1], reverse=True)\n",
    "\n",
    "    # Scores de las k películas más similares (nótese que dejamos el primer elemento fuera)\n",
    "    sim_scores = sim_scores[1:num_list+1]\n",
    "    pelis_indices = [i[0] for i in sim_scores]\n",
    "\n",
    "    avgRating = 0.0\n",
    "\n",
    "    print('\\nPéliculas recomendadas: \\n')\n",
    "    for indice in pelis_indices:\n",
    "        avgRating = avgRating + pelis_P.iloc[indice][22]\n",
    "        print(pelis_P.iloc[indice][20] +\" | Genres: \"+str(pelis_P.iloc[indice][3]).strip('[]').replace(' ','')+\" | Rating: \"+str(pelis_P.iloc[indice][22]))\n",
    "\n",
    "    print('\\n')\n",
    "    avgRating = avgRating/num_list\n",
    "    print('Rating estimado de %s es: %f' %(new_movie['original_title'].values[0],avgRating))\n",
    "    print('Rating real de %s es %f' %(new_movie['original_title'].values[0],new_movie['vote_average']))\n",
    "    "
   ]
  },
  {
   "cell_type": "code",
   "execution_count": 53,
   "metadata": {},
   "outputs": [
    {
     "name": "stdout",
     "output_type": "stream",
     "text": [
      "Pélicula:  Toy Story\n",
      "\n",
      "Péliculas recomendadas: \n",
      "\n",
      "Toy Story 2 | Genres: 'Animation','Comedy','Family' | Rating: 7.3\n",
      "Song of the Sea | Genres: 'Family','Animation','Fantasy' | Rating: 8.1\n",
      "The Jungle Book 2 | Genres: 'Family','Animation','Adventure' | Rating: 5.6\n",
      "Geri's Game | Genres: 'Animation','Family' | Rating: 7.8\n",
      "Free Birds | Genres: 'Animation','Comedy','Family' | Rating: 5.7\n",
      "Footloose | Genres: 'Drama','Family','Music','Romance' | Rating: 6.4\n",
      "Jimmy Neutron: Boy Genius | Genres: 'Action','Adventure','Animation','Comedy','Family','Fantasy','ScienceFiction' | Rating: 5.6\n",
      "\n",
      "\n",
      "Rating estimado de Toy Story es: 6.642857\n",
      "Rating real de Toy Story es 7.700000\n"
     ]
    }
   ],
   "source": [
    "predict_score('Toy Story', 7)"
   ]
  },
  {
   "cell_type": "code",
   "execution_count": null,
   "metadata": {},
   "outputs": [],
   "source": []
  }
 ],
 "metadata": {
  "coursera": {
   "course_slug": "neural-networks-deep-learning",
   "graded_item_id": "TSPse",
   "launcher_item_id": "24mxX"
  },
  "kernelspec": {
   "display_name": "Python 3",
   "language": "python",
   "name": "python3"
  },
  "language_info": {
   "codemirror_mode": {
    "name": "ipython",
    "version": 3
   },
   "file_extension": ".py",
   "mimetype": "text/x-python",
   "name": "python",
   "nbconvert_exporter": "python",
   "pygments_lexer": "ipython3",
   "version": "3.8.5"
  }
 },
 "nbformat": 4,
 "nbformat_minor": 2
}
